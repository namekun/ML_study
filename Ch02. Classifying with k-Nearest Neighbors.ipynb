{
 "cells": [
  {
   "cell_type": "markdown",
   "metadata": {},
   "source": [
    "# Ch.2 Classifying with k-Nearest Neighbors"
   ]
  },
  {
   "cell_type": "markdown",
   "metadata": {},
   "source": [
    "\n",
    "## 2.1 Classifying with distance measurements"
   ]
  },
  {
   "cell_type": "markdown",
   "metadata": {},
   "source": [
    "### k-Nearest Neighbors (kNN)\n",
    "* 장점: 높은 정확성, 이상치(outlier)에 둔감, 데이터에 대한 가정 불필요\n",
    "* 단점: 계산 비용 높음, 많은 메모리 필요\n",
    "* 자료: 수치형, 명목형"
   ]
  },
  {
   "cell_type": "markdown",
   "metadata": {},
   "source": [
    "### $ 교재 p.24~25 설명"
   ]
  },
  {
   "cell_type": "markdown",
   "metadata": {},
   "source": [
    "### General approach to kNN\n",
    "1. Collect:\n",
    "  - 모든 방법\n",
    "2. Prepare:\n",
    "  - 수치형 값(거리 계산을 위해), 구조적 데이터가 가장 좋음\n",
    "3. Analyze:\n",
    "  - 모든 방법\n",
    "4. Train:\n",
    "  - 필요 없음\n",
    "5. Test:\n",
    "  - 오류율(error rate) 계산\n",
    "6. Use:\n",
    "  - 구조화된 수치 입력 및 출력 데이터 준비\n",
    "  - 그런 다음 입력에 대해 kNN 알고리즘 적용하여 입력 데이터가 어디에 속하는지 판단\n",
    "  - 그후 애플리케이션에서 판단된 클래스에 대해 어떤 액션을 취함"
   ]
  },
  {
   "cell_type": "markdown",
   "metadata": {},
   "source": [
    "## 2.1.1 Prepare: Importing data with Python"
   ]
  },
  {
   "cell_type": "code",
   "execution_count": 1,
   "metadata": {},
   "outputs": [],
   "source": [
    "import numpy as np"
   ]
  },
  {
   "cell_type": "code",
   "execution_count": 3,
   "metadata": {},
   "outputs": [],
   "source": [
    "def createDataSet():\n",
    "    group = np.array([[1.0, 1.1], [1.0, 1.0], [0, 0], [0, 0.1]])\n",
    "    labels = ['A', 'A', 'B', 'B']\n",
    "    return group, labels"
   ]
  },
  {
   "cell_type": "code",
   "execution_count": 4,
   "metadata": {},
   "outputs": [],
   "source": [
    "group, labels = createDataSet()"
   ]
  },
  {
   "cell_type": "code",
   "execution_count": 5,
   "metadata": {},
   "outputs": [
    {
     "data": {
      "text/plain": [
       "array([[1. , 1.1],\n",
       "       [1. , 1. ],\n",
       "       [0. , 0. ],\n",
       "       [0. , 0.1]])"
      ]
     },
     "execution_count": 5,
     "metadata": {},
     "output_type": "execute_result"
    }
   ],
   "source": [
    "group"
   ]
  },
  {
   "cell_type": "code",
   "execution_count": 6,
   "metadata": {},
   "outputs": [
    {
     "data": {
      "text/plain": [
       "['A', 'A', 'B', 'B']"
      ]
     },
     "execution_count": 6,
     "metadata": {},
     "output_type": "execute_result"
    }
   ],
   "source": [
    "labels"
   ]
  },
  {
   "cell_type": "code",
   "execution_count": 7,
   "metadata": {},
   "outputs": [
    {
     "data": {
      "text/plain": [
       "numpy.ndarray"
      ]
     },
     "execution_count": 7,
     "metadata": {},
     "output_type": "execute_result"
    }
   ],
   "source": [
    "type(group)"
   ]
  },
  {
   "cell_type": "code",
   "execution_count": 8,
   "metadata": {},
   "outputs": [],
   "source": [
    "import kNN"
   ]
  },
  {
   "cell_type": "code",
   "execution_count": 9,
   "metadata": {},
   "outputs": [],
   "source": [
    "group, labels = kNN.createDataSet()"
   ]
  },
  {
   "cell_type": "code",
   "execution_count": 10,
   "metadata": {},
   "outputs": [
    {
     "data": {
      "text/plain": [
       "array([[1. , 1.1],\n",
       "       [1. , 1. ],\n",
       "       [0. , 0. ],\n",
       "       [0. , 0.1]])"
      ]
     },
     "execution_count": 10,
     "metadata": {},
     "output_type": "execute_result"
    }
   ],
   "source": [
    "group"
   ]
  },
  {
   "cell_type": "code",
   "execution_count": 11,
   "metadata": {},
   "outputs": [
    {
     "data": {
      "text/plain": [
       "['A', 'A', 'B', 'B']"
      ]
     },
     "execution_count": 11,
     "metadata": {},
     "output_type": "execute_result"
    }
   ],
   "source": [
    "labels"
   ]
  },
  {
   "cell_type": "code",
   "execution_count": 12,
   "metadata": {},
   "outputs": [
    {
     "data": {
      "text/plain": [
       "(4, 2)"
      ]
     },
     "execution_count": 12,
     "metadata": {},
     "output_type": "execute_result"
    }
   ],
   "source": [
    "group.shape"
   ]
  },
  {
   "cell_type": "markdown",
   "metadata": {},
   "source": [
    "## 2.1.2 Putting the kNN classification algorithm into action"
   ]
  },
  {
   "cell_type": "markdown",
   "metadata": {},
   "source": [
    "### $ kNN 알고리즘 의사코드 (교재 p.29)"
   ]
  },
  {
   "cell_type": "markdown",
   "metadata": {
    "collapsed": true
   },
   "source": [
    "##### Listing 2.1 k-Nearest Neighbors algorithm for Python 2"
   ]
  },
  {
   "cell_type": "code",
   "execution_count": 13,
   "metadata": {},
   "outputs": [],
   "source": [
    "import numpy as np\n",
    "\n",
    "# Python2 버전\n",
    "def classify0_p2(inX, dataSet, labels, k):\n",
    "    dataSetSize = dataSet.shape[0]   #1\n",
    "    diffMat = tile(inX, (dataSetSize, 1)) - dataSet   #2\n",
    "    sqDiffMat = diffMat**2\n",
    "    sqDistances = sqDiffMat.sum(axis=1)\n",
    "    distances = sqDistances**0.5\n",
    "    sortedDistIndices = distances.argsort()\n",
    "    classCount = {}\n",
    "    for i in range(k):\n",
    "        voteIlabel = labels[sortedDistIndices[i]]\n",
    "        classCount[voteIlabel] = classCount.get(voteIlabel, 0) + 1\n",
    "    sortedClassCount = sorted(classCount.iteritems(), key=operator.itemgetter(1), reverse=True)   #3\n",
    "    return sortedClassCount[0][0]   # 4"
   ]
  },
  {
   "cell_type": "code",
   "execution_count": 14,
   "metadata": {},
   "outputs": [],
   "source": [
    "# classify0 함수의 매개변수 설정\n",
    "# dataSet: numpy.ndarray 타입\n",
    "inX = [0, 0]\n",
    "dataSet = group\n",
    "k = 3"
   ]
  },
  {
   "cell_type": "code",
   "execution_count": 15,
   "metadata": {},
   "outputs": [
    {
     "data": {
      "text/plain": [
       "4"
      ]
     },
     "execution_count": 15,
     "metadata": {},
     "output_type": "execute_result"
    }
   ],
   "source": [
    "# 데이터 수 (2차원 배열의 행 개수) -- Python3 에선 불필요\n",
    "dataSetSize = dataSet.shape[0]; dataSetSize"
   ]
  },
  {
   "cell_type": "markdown",
   "metadata": {},
   "source": [
    "### 두 점 간 거리 구하기\n",
    "* 피타고라스의 정리: https://ko.wikipedia.org/wiki/피타고라스의_정리 \n",
    "* 두 점 사이의 거리(선분의 길이): https://www.youtube.com/watch?v=iSInGiiUOhI\n",
    "* 두 점을 지나는 직선의 기울기: https://www.youtube.com/watch?v=2hKtZXyV-9o"
   ]
  },
  {
   "cell_type": "code",
   "execution_count": 33,
   "metadata": {},
   "outputs": [
    {
     "data": {
      "text/plain": [
       "array([[-1. , -1.1],\n",
       "       [-1. , -1. ],\n",
       "       [ 0. ,  0. ],\n",
       "       [ 0. , -0.1]])"
      ]
     },
     "execution_count": 33,
     "metadata": {},
     "output_type": "execute_result"
    }
   ],
   "source": [
    "# 분류하고자 하는 점 inX를 데이터 집합의 행 개수만큼 복제한 후 데이터 집합의 점과의 차를 구함\n",
    "diffMat = inX - dataSet; \n",
    "diffMat"
   ]
  },
  {
   "cell_type": "code",
   "execution_count": 16,
   "metadata": {},
   "outputs": [
    {
     "data": {
      "text/plain": [
       "array([[-1. , -1.1],\n",
       "       [-1. , -1. ],\n",
       "       [ 0. ,  0. ],\n",
       "       [ 0. , -0.1]])"
      ]
     },
     "execution_count": 16,
     "metadata": {},
     "output_type": "execute_result"
    }
   ],
   "source": [
    "np.tile(inX, (dataSetSize, 1)) - dataSet"
   ]
  },
  {
   "cell_type": "markdown",
   "metadata": {},
   "source": [
    "### $ numpy.tile - for Python2\n",
    "https://docs.scipy.org/doc/numpy/reference/generated/numpy.tile.html"
   ]
  },
  {
   "cell_type": "code",
   "execution_count": 20,
   "metadata": {},
   "outputs": [
    {
     "data": {
      "text/plain": [
       "array([0, 1, 2])"
      ]
     },
     "execution_count": 20,
     "metadata": {},
     "output_type": "execute_result"
    }
   ],
   "source": [
    "import numpy as np\n",
    "a = np.array([0, 1, 2]); a"
   ]
  },
  {
   "cell_type": "code",
   "execution_count": 21,
   "metadata": {},
   "outputs": [
    {
     "data": {
      "text/plain": [
       "array([0, 1, 2, 0, 1, 2])"
      ]
     },
     "execution_count": 21,
     "metadata": {},
     "output_type": "execute_result"
    }
   ],
   "source": [
    "np.tile(a, 2)    # 1차원 배열"
   ]
  },
  {
   "cell_type": "code",
   "execution_count": 22,
   "metadata": {},
   "outputs": [
    {
     "data": {
      "text/plain": [
       "array([[0, 1, 2, 0, 1, 2]])"
      ]
     },
     "execution_count": 22,
     "metadata": {},
     "output_type": "execute_result"
    }
   ],
   "source": [
    "np.tile(a, (1, 2))   # 2차원 배열"
   ]
  },
  {
   "cell_type": "code",
   "execution_count": 23,
   "metadata": {},
   "outputs": [
    {
     "data": {
      "text/plain": [
       "array([[0, 1, 2],\n",
       "       [0, 1, 2]])"
      ]
     },
     "execution_count": 23,
     "metadata": {},
     "output_type": "execute_result"
    }
   ],
   "source": [
    "np.tile(a, (2, 1))   # 2차원 배열"
   ]
  },
  {
   "cell_type": "code",
   "execution_count": 24,
   "metadata": {},
   "outputs": [
    {
     "data": {
      "text/plain": [
       "array([[[0, 1, 2, 0, 1, 2]],\n",
       "\n",
       "       [[0, 1, 2, 0, 1, 2]]])"
      ]
     },
     "execution_count": 24,
     "metadata": {},
     "output_type": "execute_result"
    }
   ],
   "source": [
    "np.tile(a, (2, 1, 2))   # 3차원 배열"
   ]
  },
  {
   "cell_type": "code",
   "execution_count": 25,
   "metadata": {},
   "outputs": [
    {
     "data": {
      "text/plain": [
       "array([[[0, 1, 2, 0, 1, 2, 0, 1, 2, 0, 1, 2],\n",
       "        [0, 1, 2, 0, 1, 2, 0, 1, 2, 0, 1, 2],\n",
       "        [0, 1, 2, 0, 1, 2, 0, 1, 2, 0, 1, 2]],\n",
       "\n",
       "       [[0, 1, 2, 0, 1, 2, 0, 1, 2, 0, 1, 2],\n",
       "        [0, 1, 2, 0, 1, 2, 0, 1, 2, 0, 1, 2],\n",
       "        [0, 1, 2, 0, 1, 2, 0, 1, 2, 0, 1, 2]]])"
      ]
     },
     "execution_count": 25,
     "metadata": {},
     "output_type": "execute_result"
    }
   ],
   "source": [
    "np.tile(a, (2, 3, 4))"
   ]
  },
  {
   "cell_type": "code",
   "execution_count": 17,
   "metadata": {},
   "outputs": [
    {
     "data": {
      "text/plain": [
       "array([[0, 1],\n",
       "       [2, 3]])"
      ]
     },
     "execution_count": 17,
     "metadata": {},
     "output_type": "execute_result"
    }
   ],
   "source": [
    "b = np.array([[0, 1], [2, 3]])\n",
    "b"
   ]
  },
  {
   "cell_type": "code",
   "execution_count": 27,
   "metadata": {},
   "outputs": [
    {
     "data": {
      "text/plain": [
       "array([[0, 1, 0, 1],\n",
       "       [2, 3, 2, 3]])"
      ]
     },
     "execution_count": 27,
     "metadata": {},
     "output_type": "execute_result"
    }
   ],
   "source": [
    "np.tile(b, 2)"
   ]
  },
  {
   "cell_type": "code",
   "execution_count": 28,
   "metadata": {},
   "outputs": [
    {
     "data": {
      "text/plain": [
       "array([[0, 1, 0, 1],\n",
       "       [2, 3, 2, 3]])"
      ]
     },
     "execution_count": 28,
     "metadata": {},
     "output_type": "execute_result"
    }
   ],
   "source": [
    "np.tile(b, (1, 2))"
   ]
  },
  {
   "cell_type": "code",
   "execution_count": 29,
   "metadata": {},
   "outputs": [
    {
     "data": {
      "text/plain": [
       "array([[0, 1],\n",
       "       [2, 3],\n",
       "       [0, 1],\n",
       "       [2, 3]])"
      ]
     },
     "execution_count": 29,
     "metadata": {},
     "output_type": "execute_result"
    }
   ],
   "source": [
    "np.tile(b, (2, 1))"
   ]
  },
  {
   "cell_type": "code",
   "execution_count": 30,
   "metadata": {},
   "outputs": [
    {
     "data": {
      "text/plain": [
       "array([[[0, 1],\n",
       "        [2, 3],\n",
       "        [0, 1],\n",
       "        [2, 3]],\n",
       "\n",
       "       [[0, 1],\n",
       "        [2, 3],\n",
       "        [0, 1],\n",
       "        [2, 3]],\n",
       "\n",
       "       [[0, 1],\n",
       "        [2, 3],\n",
       "        [0, 1],\n",
       "        [2, 3]]])"
      ]
     },
     "execution_count": 30,
     "metadata": {},
     "output_type": "execute_result"
    }
   ],
   "source": [
    "np.tile(b, (3, 2, 1))"
   ]
  },
  {
   "cell_type": "code",
   "execution_count": 31,
   "metadata": {},
   "outputs": [
    {
     "name": "stdout",
     "output_type": "stream",
     "text": [
      "4\n"
     ]
    },
    {
     "data": {
      "text/plain": [
       "array([[0, 0],\n",
       "       [0, 0],\n",
       "       [0, 0],\n",
       "       [0, 0]])"
      ]
     },
     "execution_count": 31,
     "metadata": {},
     "output_type": "execute_result"
    }
   ],
   "source": [
    "print(dataSetSize)\n",
    "np.tile([0, 0], (dataSetSize, 1))"
   ]
  },
  {
   "cell_type": "markdown",
   "metadata": {},
   "source": [
    "##### -- end of numpy.tile"
   ]
  },
  {
   "cell_type": "code",
   "execution_count": 22,
   "metadata": {},
   "outputs": [
    {
     "ename": "NameError",
     "evalue": "name 'diffMat' is not defined",
     "output_type": "error",
     "traceback": [
      "\u001b[1;31m---------------------------------------------------------------------------\u001b[0m",
      "\u001b[1;31mNameError\u001b[0m                                 Traceback (most recent call last)",
      "\u001b[1;32m<ipython-input-22-f1b681c853b7>\u001b[0m in \u001b[0;36m<module>\u001b[1;34m()\u001b[0m\n\u001b[0;32m      1\u001b[0m \u001b[1;31m# 차를 제곱하고\u001b[0m\u001b[1;33m\u001b[0m\u001b[1;33m\u001b[0m\u001b[0m\n\u001b[1;32m----> 2\u001b[1;33m \u001b[0msqDiffMat\u001b[0m \u001b[1;33m=\u001b[0m \u001b[0mdiffMat\u001b[0m\u001b[1;33m**\u001b[0m\u001b[1;36m2\u001b[0m\u001b[1;33m;\u001b[0m \u001b[0msqDiffMat\u001b[0m\u001b[1;33m\u001b[0m\u001b[0m\n\u001b[0m",
      "\u001b[1;31mNameError\u001b[0m: name 'diffMat' is not defined"
     ]
    }
   ],
   "source": [
    "# 차를 제곱하고\n",
    "sqDiffMat = diffMat**2; sqDiffMat"
   ]
  },
  {
   "cell_type": "code",
   "execution_count": 36,
   "metadata": {},
   "outputs": [
    {
     "data": {
      "text/plain": [
       "array([2.21, 2.  , 0.  , 0.01])"
      ]
     },
     "execution_count": 36,
     "metadata": {},
     "output_type": "execute_result"
    }
   ],
   "source": [
    "# 열 방향으로 더한 후\n",
    "sqDistances = sqDiffMat.sum(axis=1); sqDistances   # row-wise summation"
   ]
  },
  {
   "cell_type": "markdown",
   "metadata": {},
   "source": [
    "### $ numpy.ndarry.sum = numpy.sum\n",
    "* https://docs.scipy.org/doc/numpy/reference/generated/numpy.ndarray.sum.html\n",
    "* https://docs.scipy.org/doc/numpy/reference/generated/numpy.sum.html#numpy.sum"
   ]
  },
  {
   "cell_type": "code",
   "execution_count": 37,
   "metadata": {},
   "outputs": [
    {
     "data": {
      "text/plain": [
       "0.0"
      ]
     },
     "execution_count": 37,
     "metadata": {},
     "output_type": "execute_result"
    }
   ],
   "source": [
    "np.sum([])   # 빈 배열의 합"
   ]
  },
  {
   "cell_type": "code",
   "execution_count": 41,
   "metadata": {},
   "outputs": [
    {
     "data": {
      "text/plain": [
       "2"
      ]
     },
     "execution_count": 41,
     "metadata": {},
     "output_type": "execute_result"
    }
   ],
   "source": [
    "np.sum([1.1, 0.7, 0.2, 1.5], dtype=np.int32)   # 실수를 32비트 정수형으로 변환한 후 합계"
   ]
  },
  {
   "cell_type": "code",
   "execution_count": 39,
   "metadata": {},
   "outputs": [
    {
     "data": {
      "text/plain": [
       "2.0"
      ]
     },
     "execution_count": 39,
     "metadata": {},
     "output_type": "execute_result"
    }
   ],
   "source": [
    "np.sum([0.5, 1.5])   # axis 옵션이 없으면 모든 원소를 더함"
   ]
  },
  {
   "cell_type": "code",
   "execution_count": 42,
   "metadata": {},
   "outputs": [
    {
     "name": "stdout",
     "output_type": "stream",
     "text": [
      "6\n",
      "[0 6]\n",
      "[1 5]\n"
     ]
    }
   ],
   "source": [
    "print(np.sum([[0, 1], [0, 5]]))\n",
    "print(np.sum([[0, 1], [0, 5]], axis=0))\n",
    "print(np.sum([[0, 1], [0, 5]], axis=1))"
   ]
  },
  {
   "cell_type": "code",
   "execution_count": 43,
   "metadata": {},
   "outputs": [
    {
     "name": "stdout",
     "output_type": "stream",
     "text": [
      "[1. 1. 1. 1. 1.]\n",
      "[[1. 1. 1. 1.]\n",
      " [1. 1. 1. 1.]\n",
      " [1. 1. 1. 1.]]\n"
     ]
    }
   ],
   "source": [
    "print(np.ones(5))\n",
    "print(np.ones((3, 4)))"
   ]
  },
  {
   "cell_type": "code",
   "execution_count": 20,
   "metadata": {},
   "outputs": [
    {
     "name": "stdout",
     "output_type": "stream",
     "text": [
      "5.0\n",
      "[[1. 1. 1. 1.]\n",
      " [1. 1. 1. 1.]\n",
      " [1. 1. 1. 1.]]\n",
      "[3. 3. 3. 3.]\n",
      "[4. 4. 4.]\n"
     ]
    }
   ],
   "source": [
    "print(np.ones(5).sum())   # ndarray 객체의 메소드로 사용\n",
    "print(np.ones((3, 4))) \n",
    "print(np.ones((3, 4)).sum(axis=0)) #axis는 행의 방향을 의미한다. 0이면 세로로, 1이면 가로로.\n",
    "print(np.ones((3, 4)).sum(axis=1))"
   ]
  },
  {
   "cell_type": "code",
   "execution_count": 45,
   "metadata": {},
   "outputs": [
    {
     "data": {
      "text/plain": [
       "array([[2, 3],\n",
       "       [8, 4]])"
      ]
     },
     "execution_count": 45,
     "metadata": {},
     "output_type": "execute_result"
    }
   ],
   "source": [
    "a = np.array([[2, 3], [8, 4]]); a"
   ]
  },
  {
   "cell_type": "code",
   "execution_count": 46,
   "metadata": {},
   "outputs": [
    {
     "name": "stdout",
     "output_type": "stream",
     "text": [
      "17\n",
      "[10  7]\n",
      "[10  7]\n",
      "[ 5 12]\n"
     ]
    }
   ],
   "source": [
    "print(a.sum())\n",
    "print(a.sum(0))\n",
    "print(a.sum(axis=0))\n",
    "print(a.sum(1)) #axis가 없어도 이렇게 표현하면 된다."
   ]
  },
  {
   "cell_type": "markdown",
   "metadata": {},
   "source": [
    "##### -- end of numpy.ndarray.sum"
   ]
  },
  {
   "cell_type": "code",
   "execution_count": 21,
   "metadata": {},
   "outputs": [
    {
     "ename": "NameError",
     "evalue": "name 'sqDistances' is not defined",
     "output_type": "error",
     "traceback": [
      "\u001b[1;31m---------------------------------------------------------------------------\u001b[0m",
      "\u001b[1;31mNameError\u001b[0m                                 Traceback (most recent call last)",
      "\u001b[1;32m<ipython-input-21-ca160aa4712b>\u001b[0m in \u001b[0;36m<module>\u001b[1;34m()\u001b[0m\n\u001b[0;32m      1\u001b[0m \u001b[1;31m# 제곱근을 적용하여 inX와 모든 데이터 셋 점간의 거리를 구함\u001b[0m\u001b[1;33m\u001b[0m\u001b[1;33m\u001b[0m\u001b[0m\n\u001b[1;32m----> 2\u001b[1;33m \u001b[0mdistances\u001b[0m \u001b[1;33m=\u001b[0m \u001b[0msqDistances\u001b[0m\u001b[1;33m**\u001b[0m\u001b[1;36m0.5\u001b[0m\u001b[1;33m\u001b[0m\u001b[0m\n\u001b[0m\u001b[0;32m      3\u001b[0m \u001b[0mdistances\u001b[0m\u001b[1;33m\u001b[0m\u001b[0m\n",
      "\u001b[1;31mNameError\u001b[0m: name 'sqDistances' is not defined"
     ]
    }
   ],
   "source": [
    "# 제곱근을 적용하여 inX와 모든 데이터 셋 점간의 거리를 구함\n",
    "distances = sqDistances**0.5\n",
    "distances"
   ]
  },
  {
   "cell_type": "code",
   "execution_count": 48,
   "metadata": {},
   "outputs": [
    {
     "data": {
      "text/plain": [
       "array([2, 3, 1, 0], dtype=int64)"
      ]
     },
     "execution_count": 48,
     "metadata": {},
     "output_type": "execute_result"
    }
   ],
   "source": [
    "# 거리가 가까운 순으로 정렬\n",
    "# 거리를 정렬하되 정렬된 결과의 점이 필요하므로 인덱스 값이 정렬되도록 함\n",
    "sortedDistIndices = distances.argsort(); sortedDistIndices"
   ]
  },
  {
   "cell_type": "markdown",
   "metadata": {},
   "source": [
    "### $ numpy.argsort\n",
    "* 반환값: 배열이 정렬되었을 때의 인덱스 배열(ndarray, int)\n",
    "* 마지막 축을 기준으로 정렬(기본값)\n",
    "https://docs.scipy.org/doc/numpy/reference/generated/numpy.argsort.html"
   ]
  },
  {
   "cell_type": "code",
   "execution_count": null,
   "metadata": {
    "collapsed": true
   },
   "outputs": [],
   "source": [
    "# 1차원 배열\n",
    "x = np.array([3, 1, 2]); print(x)\n",
    "print(np.argsort(x))\n",
    "print(x[np.argsort(x)])"
   ]
  },
  {
   "cell_type": "code",
   "execution_count": null,
   "metadata": {
    "collapsed": true
   },
   "outputs": [],
   "source": [
    "# 2차원 배열\n",
    "x = np.array([[0, 3], [2, 2]]); print(x)\n",
    "print(np.argsort(x, axis=0))\n",
    "print(np.argsort(x, axis=1))\n",
    "print(np.argsort(x, axis=-1))   # 마지막 축을 기준으로 정렬"
   ]
  },
  {
   "cell_type": "code",
   "execution_count": null,
   "metadata": {
    "collapsed": true
   },
   "outputs": [],
   "source": [
    "# 3차원 배열\n",
    "x = np.array([[[8, 1, 4], [1, 2, 5]], [[4, 2, 7], [6, 5, 4]]]); print(x)\n",
    "print(np.argsort(x, axis=2))\n",
    "print(np.argsort(x))\n",
    "print(np.argsort(x, axis=0))"
   ]
  },
  {
   "cell_type": "code",
   "execution_count": null,
   "metadata": {
    "collapsed": true
   },
   "outputs": [],
   "source": [
    "# 키 값으로 정렬\n",
    "x = np.array([(1, 0), (0, 1)], dtype=[('x', '<i4'), ('y', '<i4')]); x"
   ]
  },
  {
   "cell_type": "markdown",
   "metadata": {},
   "source": [
    "#### numpy의 구조적 데이터 타입을 사용한 인자 정렬\n",
    "* numpy.dtype: https://docs.scipy.org/doc/numpy/reference/generated/numpy.dtype.html"
   ]
  },
  {
   "cell_type": "code",
   "execution_count": null,
   "metadata": {
    "collapsed": true
   },
   "outputs": [],
   "source": [
    "np.argsort(x, order=('x', 'y'))"
   ]
  },
  {
   "cell_type": "code",
   "execution_count": null,
   "metadata": {
    "collapsed": true
   },
   "outputs": [],
   "source": [
    "np.argsort(x, order=('y', 'x'))"
   ]
  },
  {
   "cell_type": "markdown",
   "metadata": {},
   "source": [
    "##### -- end of numpy.argsort"
   ]
  },
  {
   "cell_type": "code",
   "execution_count": 49,
   "metadata": {},
   "outputs": [],
   "source": [
    "# 딕셔너리 변수 준비\n",
    "classCount = {}"
   ]
  },
  {
   "cell_type": "raw",
   "metadata": {},
   "source": [
    "for i in range(k):   # k 횟수만큼 반복\n",
    "    voteIlabel = labels[sortedDistIndices[i]]\n",
    "    classCount[voteIlabel] = classCount.get(voteIlabel, 0) + 1"
   ]
  },
  {
   "cell_type": "code",
   "execution_count": 50,
   "metadata": {},
   "outputs": [
    {
     "name": "stdout",
     "output_type": "stream",
     "text": [
      "2\n",
      "['A', 'A', 'B', 'B']\n",
      "B\n"
     ]
    }
   ],
   "source": [
    "# k번째 가까운 점의 인덱스 값을 구한 후 그 점의 레이블을 저장\n",
    "# 처음 수행한다면\n",
    "print(sortedDistIndices[0])\n",
    "print(labels)\n",
    "voteIlabel = labels[sortedDistIndices[0]]; print(voteIlabel)"
   ]
  },
  {
   "cell_type": "code",
   "execution_count": 51,
   "metadata": {},
   "outputs": [
    {
     "name": "stdout",
     "output_type": "stream",
     "text": [
      "{}\n",
      "0\n",
      "1\n"
     ]
    }
   ],
   "source": [
    "# 레이블을 키, 레이블의 회수를 값으로 하는 딕셔너리 classCount\n",
    "# classCount 딕셔너리의 키 값에 없는 레이블(처음 나타난 레이블)이면 get 함수가 0을 리턴\n",
    "print(classCount)\n",
    "print(classCount.get(voteIlabel, 0))\n",
    "print(classCount.get(voteIlabel, 0) + 1)"
   ]
  },
  {
   "cell_type": "markdown",
   "metadata": {},
   "source": [
    "### $ 딕셔너리 함수: get\n",
    "https://wikidocs.net/16 에서 'get' 검색"
   ]
  },
  {
   "cell_type": "code",
   "execution_count": 52,
   "metadata": {},
   "outputs": [
    {
     "name": "stdout",
     "output_type": "stream",
     "text": [
      "{}\n",
      "{'B': 1}\n"
     ]
    }
   ],
   "source": [
    "# classCount 딕셔너리 갱신하고 이후 k 회수만큼 반복\n",
    "print(classCount)\n",
    "classCount[voteIlabel] = classCount.get(voteIlabel, 0) + 1; print(classCount)"
   ]
  },
  {
   "cell_type": "code",
   "execution_count": 53,
   "metadata": {},
   "outputs": [],
   "source": [
    "classCount = {}\n",
    "for i in range(k):   # k 회수만큼 반복\n",
    "    voteIlabel = labels[sortedDistIndices[i]]\n",
    "    classCount[voteIlabel] = classCount.get(voteIlabel, 0) + 1"
   ]
  },
  {
   "cell_type": "code",
   "execution_count": 54,
   "metadata": {},
   "outputs": [
    {
     "data": {
      "text/plain": [
       "{'B': 2, 'A': 1}"
      ]
     },
     "execution_count": 54,
     "metadata": {},
     "output_type": "execute_result"
    }
   ],
   "source": [
    "classCount"
   ]
  },
  {
   "cell_type": "code",
   "execution_count": 55,
   "metadata": {},
   "outputs": [
    {
     "name": "stdout",
     "output_type": "stream",
     "text": [
      "{'B': 2, 'A': 1}\n"
     ]
    }
   ],
   "source": [
    "print(classCount)"
   ]
  },
  {
   "cell_type": "code",
   "execution_count": 58,
   "metadata": {
    "scrolled": true
   },
   "outputs": [
    {
     "ename": "AttributeError",
     "evalue": "'dict' object has no attribute 'iteritems'",
     "output_type": "error",
     "traceback": [
      "\u001b[1;31m---------------------------------------------------------------------------\u001b[0m",
      "\u001b[1;31mAttributeError\u001b[0m                            Traceback (most recent call last)",
      "\u001b[1;32m<ipython-input-58-038e8408f658>\u001b[0m in \u001b[0;36m<module>\u001b[1;34m()\u001b[0m\n\u001b[1;32m----> 1\u001b[1;33m \u001b[0msortedClassCount\u001b[0m \u001b[1;33m=\u001b[0m \u001b[0msorted\u001b[0m\u001b[1;33m(\u001b[0m\u001b[0mclassCount\u001b[0m\u001b[1;33m.\u001b[0m\u001b[0miteritems\u001b[0m\u001b[1;33m(\u001b[0m\u001b[1;33m)\u001b[0m\u001b[1;33m,\u001b[0m \u001b[0mkey\u001b[0m\u001b[1;33m=\u001b[0m\u001b[0moperator\u001b[0m\u001b[1;33m.\u001b[0m\u001b[0mitemgetter\u001b[0m\u001b[1;33m(\u001b[0m\u001b[1;36m1\u001b[0m\u001b[1;33m)\u001b[0m\u001b[1;33m,\u001b[0m \u001b[0mreverse\u001b[0m\u001b[1;33m=\u001b[0m\u001b[1;32mTrue\u001b[0m\u001b[1;33m)\u001b[0m\u001b[1;33m\u001b[0m\u001b[0m\n\u001b[0m",
      "\u001b[1;31mAttributeError\u001b[0m: 'dict' object has no attribute 'iteritems'"
     ]
    }
   ],
   "source": [
    "# Python2에서만 실행 가능\n",
    "sortedClassCount = sorted(classCount.iteritems(), key=operator.itemgetter(1), reverse=True)"
   ]
  },
  {
   "cell_type": "markdown",
   "metadata": {
    "collapsed": true
   },
   "source": [
    "##### Listing 2.1 k-Nearest Neighbors algorithm for Python 3"
   ]
  },
  {
   "cell_type": "code",
   "execution_count": null,
   "metadata": {
    "collapsed": true
   },
   "outputs": [],
   "source": [
    "import numpy as np\n",
    "\n",
    "# Python3 버전\n",
    "def classify0(inX, dataSet, labels, k):\n",
    "    diffMat = inX - dataSet\n",
    "    sqDiffMat = diffMat**2\n",
    "    sqDistances = sqDiffMat.sum(axis=1)\n",
    "    distances = sqDistances**0.5\n",
    "    sortedDistIndices = distances.argsort()\n",
    "    classCount = {}\n",
    "    for i in range(k):\n",
    "        voteIlabel = labels[sortedDistIndices[i]]\n",
    "        classCount[voteIlabel] = classCount.get(voteIlabel, 0) + 1\n",
    "    sortedClassCount = sorted(classCount, key=classCount.get, reverse=True)\n",
    "    return sortedClassCount[0]"
   ]
  },
  {
   "cell_type": "markdown",
   "metadata": {},
   "source": [
    "### $ Python3 정렬\n",
    "https://docs.python.org/3/howto/sorting.html\n",
    "* sorted() 함수: https://docs.python.org/3/library/functions.html#sorted\n",
    "    - key 인자: 정렬에 사용될 함수를 받음"
   ]
  },
  {
   "cell_type": "code",
   "execution_count": 59,
   "metadata": {},
   "outputs": [
    {
     "data": {
      "text/plain": [
       "['B', 'A']"
      ]
     },
     "execution_count": 59,
     "metadata": {},
     "output_type": "execute_result"
    }
   ],
   "source": [
    "sortedClassCount = sorted(classCount, key=classCount.get, reverse=True); sortedClassCount"
   ]
  },
  {
   "cell_type": "code",
   "execution_count": 60,
   "metadata": {},
   "outputs": [
    {
     "data": {
      "text/plain": [
       "list"
      ]
     },
     "execution_count": 60,
     "metadata": {},
     "output_type": "execute_result"
    }
   ],
   "source": [
    "type(sortedClassCount)"
   ]
  },
  {
   "cell_type": "code",
   "execution_count": 61,
   "metadata": {},
   "outputs": [
    {
     "name": "stdout",
     "output_type": "stream",
     "text": [
      "B\n"
     ]
    }
   ],
   "source": [
    "print(sortedClassCount[0])"
   ]
  },
  {
   "cell_type": "markdown",
   "metadata": {},
   "source": [
    "### kNN 테스트"
   ]
  },
  {
   "cell_type": "code",
   "execution_count": 149,
   "metadata": {},
   "outputs": [
    {
     "data": {
      "text/plain": [
       "<module 'kNN' from 'c:\\\\dev_python\\\\machinelearninginaction\\\\Ch02\\\\kNN.py'>"
      ]
     },
     "execution_count": 149,
     "metadata": {},
     "output_type": "execute_result"
    }
   ],
   "source": [
    "import imp  \n",
    "imp.reload(kNN)"
   ]
  },
  {
   "cell_type": "code",
   "execution_count": 150,
   "metadata": {},
   "outputs": [],
   "source": [
    "group, labels = kNN.createDataSet()"
   ]
  },
  {
   "cell_type": "code",
   "execution_count": 151,
   "metadata": {},
   "outputs": [
    {
     "data": {
      "text/plain": [
       "'B'"
      ]
     },
     "execution_count": 151,
     "metadata": {},
     "output_type": "execute_result"
    }
   ],
   "source": [
    "kNN.classify0([0, 0], group, labels, 3)"
   ]
  },
  {
   "cell_type": "code",
   "execution_count": 152,
   "metadata": {},
   "outputs": [
    {
     "data": {
      "text/plain": [
       "'A'"
      ]
     },
     "execution_count": 152,
     "metadata": {},
     "output_type": "execute_result"
    }
   ],
   "source": [
    "kNN.classify0([1, 0.8], group, labels, 3)"
   ]
  },
  {
   "cell_type": "markdown",
   "metadata": {
    "collapsed": true
   },
   "source": [
    "# 2.2 Example: improving matches from a dating site with kNN"
   ]
  },
  {
   "cell_type": "markdown",
   "metadata": {},
   "source": [
    "### 내 친구 헬렌\n",
    "* 3 types of people she went out with:\n",
    "    - People she didn't like\n",
    "    - People she liked in small doses\n",
    "    - People she liked in large doese"
   ]
  },
  {
   "cell_type": "markdown",
   "metadata": {},
   "source": [
    "### Example: using kNN on results from a dating site\n",
    "1. Collect:\n",
    "  - 텍스트 파일 제공됨\n",
    "2. Prepare:\n",
    "  - 파이썬에서 텍스트 파일 파싱\n",
    "3. Analyze:\n",
    "  - Matplotlib을 사용하여 데이터의 2차원 플롯 생성\n",
    "4. Train:\n",
    "  - kNN 알고리즘에는 훈련이 필요없음\n",
    "5. Test:\n",
    "  - 헬렌이 준 데이터 중 일부를 테스트 데이터로 사용하는 함수 작성\n",
    "  - 테스트 데이터는 비테스트 데이터와 구별\n",
    "  - 예측된 클래스가 실제 클래스와 일치하지 않으면 오류\n",
    "6. Use:\n",
    "  - 헬렌이 입력한 몇몇 값을 바탕으로 헬렌이 좋아하는 상대인지 예측하는 간단한 명령행 프로그램 작성"
   ]
  },
  {
   "cell_type": "markdown",
   "metadata": {},
   "source": [
    "## 2.2.1 Prepare: parsing data from a text file\n",
    "* datingTestSet.txt\n",
    " - 1,000 entries\n",
    " - features\n",
    "   - Number of frequent flyer miles earned per year\n",
    "   - Percentage of time spent playing video games\n",
    "   - Liters of ice cream consumed per week "
   ]
  },
  {
   "cell_type": "markdown",
   "metadata": {},
   "source": [
    "### file2matrix 함수\n",
    "* 텍스트 파일의 데이터를 분류기가 사용할 수 있는 형태로 변환\n",
    "* 입력: 파일 이름\n",
    "* 출력: 훈련 데이터(행렬), 클래스 레이블(벡터)"
   ]
  },
  {
   "cell_type": "markdown",
   "metadata": {
    "collapsed": true
   },
   "source": [
    "##### Listing 2.2 Text record to NumPy parsing code for Python 2, 3"
   ]
  },
  {
   "cell_type": "code",
   "execution_count": null,
   "metadata": {
    "collapsed": true
   },
   "outputs": [],
   "source": [
    "import numpy as np\n",
    "\n",
    "# 원본: Python3에서도 실행 가능\n",
    "def file2matrix_p2(filename):\n",
    "    fr = open(filename)\n",
    "    \n",
    "    # 훈련 데이터(returnMat)와 클래스 레이블(classLabelVector) 변수 준비\n",
    "    numberOfLines = len(fr.readlines())      # 텍스트 파일의 라인 개수\n",
    "    returnMat = np.zeros((numberOfLines, 3)) # 텍스트_라인수 X 3 크기의 영행렬 준비\n",
    "    classLabelVector = []                    # 클래스 레이블 변수 준비\n",
    "    \n",
    "    # readlines() 는 파일 끝까지 읽은 뒤 포인터를 파일의 처음으로 돌려놓지 않으므로\n",
    "    # 파일 내용을 다시 읽으려면 open() 을 사용하여 파일을 다시 읽어야 한다.\n",
    "    fr = open(filename)\n",
    "    index = 0            # 반환할 행렬의 로우 인덱스\n",
    "    \n",
    "    for line in fr.readlines():\n",
    "        # 문자열 양 옆 공백 제거\n",
    "        line = line.strip()\n",
    "        \n",
    "        # 문자열을 탭('\\t')을 기준으로 단어로 분리하여 리스트로 반환\n",
    "        listFromLine = line.split('\\t')\n",
    "        \n",
    "        # returnMat의 인덱스 로우에 위 리스트의 첫 번째부터 세 번째 값을 저장\n",
    "        returnMat[index, :] = listFromLine[0:3]\n",
    "        \n",
    "        # classLabelVector 리스트에 listFromLine 리스트의 마지막 값을 저장\n",
    "        classLabelVector.append(listFromLine[-1])\n",
    "        index += 1\n",
    "        \n",
    "    return returnMat, classLabelVector"
   ]
  },
  {
   "cell_type": "markdown",
   "metadata": {},
   "source": [
    "### 원본 file2matrix 함수 설명"
   ]
  },
  {
   "cell_type": "code",
   "execution_count": 72,
   "metadata": {},
   "outputs": [],
   "source": [
    "filename = 'datingTestSet.txt'\n",
    "fr = open(filename)    # default file access mode: read"
   ]
  },
  {
   "cell_type": "code",
   "execution_count": 70,
   "metadata": {
    "scrolled": true
   },
   "outputs": [
    {
     "name": "stdout",
     "output_type": "stream",
     "text": [
      "1000\n",
      "[[0. 0. 0.]\n",
      " [0. 0. 0.]\n",
      " [0. 0. 0.]\n",
      " ...\n",
      " [0. 0. 0.]\n",
      " [0. 0. 0.]\n",
      " [0. 0. 0.]]\n",
      "[]\n"
     ]
    }
   ],
   "source": [
    "# 훈련 데이터(returnMat)와 클래스 레이블(classLabelVector) 변수 준비\n",
    "numberOfLines = len(fr.readlines())      # 텍스트 파일의 라인 개수\n",
    "returnMat = np.zeros((numberOfLines, 3)) # 텍스트_라인수 X 3 크기의 영행렬 준비\n",
    "classLabelVector = []                    # 클래스 레이블 변수 준비\n",
    "print(numberOfLines)\n",
    "print(returnMat)\n",
    "print(classLabelVector)"
   ]
  },
  {
   "cell_type": "code",
   "execution_count": 73,
   "metadata": {},
   "outputs": [],
   "source": [
    "# readlines() 는 파일 끝까지 읽은 뒤 포인터를 파일의 처음으로 돌려놓지 않으므로\n",
    "# 파일 내용을 다시 읽으려면 open() 을 사용하여 파일을 다시 읽어야 한다.\n",
    "lines = fr.readlines(); lines  # lines는 빈 리스트\n",
    "fr = open(filename)            # 파일을 다시 읽어야 한다"
   ]
  },
  {
   "cell_type": "code",
   "execution_count": 74,
   "metadata": {},
   "outputs": [],
   "source": [
    "index = 0    # 반환할 행렬의 로우 인덱스"
   ]
  },
  {
   "cell_type": "code",
   "execution_count": 75,
   "metadata": {
    "collapsed": true
   },
   "outputs": [
    {
     "name": "stdout",
     "output_type": "stream",
     "text": [
      "['40920\\t8.326976\\t0.953952\\tlargeDoses\\n', '14488\\t7.153469\\t1.673904\\tsmallDoses\\n', '26052\\t1.441871\\t0.805124\\tdidntLike\\n', '75136\\t13.147394\\t0.428964\\tdidntLike\\n', '38344\\t1.669788\\t0.134296\\tdidntLike\\n', '72993\\t10.141740\\t1.032955\\tdidntLike\\n', '35948\\t6.830792\\t1.213192\\tlargeDoses\\n', '42666\\t13.276369\\t0.543880\\tlargeDoses\\n', '67497\\t8.631577\\t0.749278\\tdidntLike\\n', '35483\\t12.273169\\t1.508053\\tlargeDoses\\n', '50242\\t3.723498\\t0.831917\\tdidntLike\\n', '63275\\t8.385879\\t1.669485\\tdidntLike\\n', '5569\\t4.875435\\t0.728658\\tsmallDoses\\n', '51052\\t4.680098\\t0.625224\\tdidntLike\\n', '77372\\t15.299570\\t0.331351\\tdidntLike\\n', '43673\\t1.889461\\t0.191283\\tdidntLike\\n', '61364\\t7.516754\\t1.269164\\tdidntLike\\n', '69673\\t14.239195\\t0.261333\\tdidntLike\\n', '15669\\t0.000000\\t1.250185\\tsmallDoses\\n', '28488\\t10.528555\\t1.304844\\tlargeDoses\\n', '6487\\t3.540265\\t0.822483\\tsmallDoses\\n', '37708\\t2.991551\\t0.833920\\tdidntLike\\n', '22620\\t5.297865\\t0.638306\\tsmallDoses\\n', '28782\\t6.593803\\t0.187108\\tlargeDoses\\n', '19739\\t2.816760\\t1.686209\\tsmallDoses\\n', '36788\\t12.458258\\t0.649617\\tlargeDoses\\n', '5741\\t0.000000\\t1.656418\\tsmallDoses\\n', '28567\\t9.968648\\t0.731232\\tlargeDoses\\n', '6808\\t1.364838\\t0.640103\\tsmallDoses\\n', '41611\\t0.230453\\t1.151996\\tdidntLike\\n', '36661\\t11.865402\\t0.882810\\tlargeDoses\\n', '43605\\t0.120460\\t1.352013\\tdidntLike\\n', '15360\\t8.545204\\t1.340429\\tlargeDoses\\n', '63796\\t5.856649\\t0.160006\\tdidntLike\\n', '10743\\t9.665618\\t0.778626\\tsmallDoses\\n', '70808\\t9.778763\\t1.084103\\tdidntLike\\n', '72011\\t4.932976\\t0.632026\\tdidntLike\\n', '5914\\t2.216246\\t0.587095\\tsmallDoses\\n', '14851\\t14.305636\\t0.632317\\tlargeDoses\\n', '33553\\t12.591889\\t0.686581\\tlargeDoses\\n', '44952\\t3.424649\\t1.004504\\tdidntLike\\n', '17934\\t0.000000\\t0.147573\\tsmallDoses\\n', '27738\\t8.533823\\t0.205324\\tlargeDoses\\n', '29290\\t9.829528\\t0.238620\\tlargeDoses\\n', '42330\\t11.492186\\t0.263499\\tlargeDoses\\n', '36429\\t3.570968\\t0.832254\\tdidntLike\\n', '39623\\t1.771228\\t0.207612\\tdidntLike\\n', '32404\\t3.513921\\t0.991854\\tdidntLike\\n', '27268\\t4.398172\\t0.975024\\tdidntLike\\n', '5477\\t4.276823\\t1.174874\\tsmallDoses\\n', '14254\\t5.946014\\t1.614244\\tsmallDoses\\n', '68613\\t13.798970\\t0.724375\\tdidntLike\\n', '41539\\t10.393591\\t1.663724\\tlargeDoses\\n', '7917\\t3.007577\\t0.297302\\tsmallDoses\\n', '21331\\t1.031938\\t0.486174\\tsmallDoses\\n', '8338\\t4.751212\\t0.064693\\tsmallDoses\\n', '5176\\t3.692269\\t1.655113\\tsmallDoses\\n', '18983\\t10.448091\\t0.267652\\tlargeDoses\\n', '68837\\t10.585786\\t0.329557\\tdidntLike\\n', '13438\\t1.604501\\t0.069064\\tsmallDoses\\n', '48849\\t3.679497\\t0.961466\\tdidntLike\\n', '12285\\t3.795146\\t0.696694\\tsmallDoses\\n', '7826\\t2.531885\\t1.659173\\tsmallDoses\\n', '5565\\t9.733340\\t0.977746\\tsmallDoses\\n', '10346\\t6.093067\\t1.413798\\tsmallDoses\\n', '1823\\t7.712960\\t1.054927\\tsmallDoses\\n', '9744\\t11.470364\\t0.760461\\tlargeDoses\\n', '16857\\t2.886529\\t0.934416\\tsmallDoses\\n', '39336\\t10.054373\\t1.138351\\tlargeDoses\\n', '65230\\t9.972470\\t0.881876\\tdidntLike\\n', '2463\\t2.335785\\t1.366145\\tsmallDoses\\n', '27353\\t11.375155\\t1.528626\\tlargeDoses\\n', '16191\\t0.000000\\t0.605619\\tsmallDoses\\n', '12258\\t4.126787\\t0.357501\\tsmallDoses\\n', '42377\\t6.319522\\t1.058602\\tdidntLike\\n', '25607\\t8.680527\\t0.086955\\tlargeDoses\\n', '77450\\t14.856391\\t1.129823\\tdidntLike\\n', '58732\\t2.454285\\t0.222380\\tdidntLike\\n', '46426\\t7.292202\\t0.548607\\tlargeDoses\\n', '32688\\t8.745137\\t0.857348\\tlargeDoses\\n', '64890\\t8.579001\\t0.683048\\tdidntLike\\n', '8554\\t2.507302\\t0.869177\\tsmallDoses\\n', '28861\\t11.415476\\t1.505466\\tlargeDoses\\n', '42050\\t4.838540\\t1.680892\\tdidntLike\\n', '32193\\t10.339507\\t0.583646\\tlargeDoses\\n', '64895\\t6.573742\\t1.151433\\tdidntLike\\n', '2355\\t6.539397\\t0.462065\\tsmallDoses\\n', '0\\t2.209159\\t0.723567\\tsmallDoses\\n', '70406\\t11.196378\\t0.836326\\tdidntLike\\n', '57399\\t4.229595\\t0.128253\\tdidntLike\\n', '41732\\t9.505944\\t0.005273\\tlargeDoses\\n', '11429\\t8.652725\\t1.348934\\tlargeDoses\\n', '75270\\t17.101108\\t0.490712\\tdidntLike\\n', '5459\\t7.871839\\t0.717662\\tsmallDoses\\n', '73520\\t8.262131\\t1.361646\\tdidntLike\\n', '40279\\t9.015635\\t1.658555\\tlargeDoses\\n', '21540\\t9.215351\\t0.806762\\tlargeDoses\\n', '17694\\t6.375007\\t0.033678\\tsmallDoses\\n', '22329\\t2.262014\\t1.022169\\tdidntLike\\n', '46570\\t5.677110\\t0.709469\\tdidntLike\\n', '42403\\t11.293017\\t0.207976\\tlargeDoses\\n', '33654\\t6.590043\\t1.353117\\tdidntLike\\n', '9171\\t4.711960\\t0.194167\\tsmallDoses\\n', '28122\\t8.768099\\t1.108041\\tlargeDoses\\n', '34095\\t11.502519\\t0.545097\\tlargeDoses\\n', '1774\\t4.682812\\t0.578112\\tsmallDoses\\n', '40131\\t12.446578\\t0.300754\\tlargeDoses\\n', '13994\\t12.908384\\t1.657722\\tlargeDoses\\n', '77064\\t12.601108\\t0.974527\\tdidntLike\\n', '11210\\t3.929456\\t0.025466\\tsmallDoses\\n', '6122\\t9.751503\\t1.182050\\tlargeDoses\\n', '15341\\t3.043767\\t0.888168\\tsmallDoses\\n', '44373\\t4.391522\\t0.807100\\tdidntLike\\n', '28454\\t11.695276\\t0.679015\\tlargeDoses\\n', '63771\\t7.879742\\t0.154263\\tdidntLike\\n', '9217\\t5.613163\\t0.933632\\tsmallDoses\\n', '69076\\t9.140172\\t0.851300\\tdidntLike\\n', '24489\\t4.258644\\t0.206892\\tdidntLike\\n', '16871\\t6.799831\\t1.221171\\tsmallDoses\\n', '39776\\t8.752758\\t0.484418\\tlargeDoses\\n', '5901\\t1.123033\\t1.180352\\tsmallDoses\\n', '40987\\t10.833248\\t1.585426\\tlargeDoses\\n', '7479\\t3.051618\\t0.026781\\tsmallDoses\\n', '38768\\t5.308409\\t0.030683\\tlargeDoses\\n', '4933\\t1.841792\\t0.028099\\tsmallDoses\\n', '32311\\t2.261978\\t1.605603\\tdidntLike\\n', '26501\\t11.573696\\t1.061347\\tlargeDoses\\n', '37433\\t8.038764\\t1.083910\\tlargeDoses\\n', '23503\\t10.734007\\t0.103715\\tlargeDoses\\n', '68607\\t9.661909\\t0.350772\\tdidntLike\\n', '27742\\t9.005850\\t0.548737\\tlargeDoses\\n', '11303\\t0.000000\\t0.539131\\tsmallDoses\\n', '0\\t5.757140\\t1.062373\\tsmallDoses\\n', '32729\\t9.164656\\t1.624565\\tlargeDoses\\n', '24619\\t1.318340\\t1.436243\\tdidntLike\\n', '42414\\t14.075597\\t0.695934\\tlargeDoses\\n', '20210\\t10.107550\\t1.308398\\tlargeDoses\\n', '33225\\t7.960293\\t1.219760\\tlargeDoses\\n', '54483\\t6.317292\\t0.018209\\tdidntLike\\n', '18475\\t12.664194\\t0.595653\\tlargeDoses\\n', '33926\\t2.906644\\t0.581657\\tdidntLike\\n', '43865\\t2.388241\\t0.913938\\tdidntLike\\n', '26547\\t6.024471\\t0.486215\\tlargeDoses\\n', '44404\\t7.226764\\t1.255329\\tlargeDoses\\n', '16674\\t4.183997\\t1.275290\\tsmallDoses\\n', '8123\\t11.850211\\t1.096981\\tlargeDoses\\n', '42747\\t11.661797\\t1.167935\\tlargeDoses\\n', '56054\\t3.574967\\t0.494666\\tdidntLike\\n', '10933\\t0.000000\\t0.107475\\tsmallDoses\\n', '18121\\t7.937657\\t0.904799\\tlargeDoses\\n', '11272\\t3.365027\\t1.014085\\tsmallDoses\\n', '16297\\t0.000000\\t0.367491\\tsmallDoses\\n', '28168\\t13.860672\\t1.293270\\tlargeDoses\\n', '40963\\t10.306714\\t1.211594\\tlargeDoses\\n', '31685\\t7.228002\\t0.670670\\tlargeDoses\\n', '55164\\t4.508740\\t1.036192\\tdidntLike\\n', '17595\\t0.366328\\t0.163652\\tsmallDoses\\n', '1862\\t3.299444\\t0.575152\\tsmallDoses\\n', '57087\\t0.573287\\t0.607915\\tdidntLike\\n', '63082\\t9.183738\\t0.012280\\tdidntLike\\n', '51213\\t7.842646\\t1.060636\\tlargeDoses\\n', '6487\\t4.750964\\t0.558240\\tsmallDoses\\n', '4805\\t11.438702\\t1.556334\\tlargeDoses\\n', '30302\\t8.243063\\t1.122768\\tlargeDoses\\n', '68680\\t7.949017\\t0.271865\\tdidntLike\\n', '17591\\t7.875477\\t0.227085\\tsmallDoses\\n', '74391\\t9.569087\\t0.364856\\tdidntLike\\n', '37217\\t7.750103\\t0.869094\\tlargeDoses\\n', '42814\\t0.000000\\t1.515293\\tdidntLike\\n', '14738\\t3.396030\\t0.633977\\tsmallDoses\\n', '19896\\t11.916091\\t0.025294\\tlargeDoses\\n', '14673\\t0.460758\\t0.689586\\tsmallDoses\\n', '32011\\t13.087566\\t0.476002\\tlargeDoses\\n', '58736\\t4.589016\\t1.672600\\tdidntLike\\n', '54744\\t8.397217\\t1.534103\\tdidntLike\\n', '29482\\t5.562772\\t1.689388\\tdidntLike\\n', '27698\\t10.905159\\t0.619091\\tlargeDoses\\n', '11443\\t1.311441\\t1.169887\\tsmallDoses\\n', '56117\\t10.647170\\t0.980141\\tlargeDoses\\n', '39514\\t0.000000\\t0.481918\\tdidntLike\\n', '26627\\t8.503025\\t0.830861\\tlargeDoses\\n', '16525\\t0.436880\\t1.395314\\tsmallDoses\\n', '24368\\t6.127867\\t1.102179\\tdidntLike\\n', '22160\\t12.112492\\t0.359680\\tlargeDoses\\n', '6030\\t1.264968\\t1.141582\\tsmallDoses\\n', '6468\\t6.067568\\t1.327047\\tsmallDoses\\n', '22945\\t8.010964\\t1.681648\\tlargeDoses\\n', '18520\\t3.791084\\t0.304072\\tsmallDoses\\n', '34914\\t11.773195\\t1.262621\\tlargeDoses\\n', '6121\\t8.339588\\t1.443357\\tsmallDoses\\n', '38063\\t2.563092\\t1.464013\\tdidntLike\\n', '23410\\t5.954216\\t0.953782\\tdidntLike\\n', '35073\\t9.288374\\t0.767318\\tlargeDoses\\n', '52914\\t3.976796\\t1.043109\\tdidntLike\\n', '16801\\t8.585227\\t1.455708\\tlargeDoses\\n', '9533\\t1.271946\\t0.796506\\tsmallDoses\\n', '16721\\t0.000000\\t0.242778\\tsmallDoses\\n', '5832\\t0.000000\\t0.089749\\tsmallDoses\\n', '44591\\t11.521298\\t0.300860\\tlargeDoses\\n', '10143\\t1.139447\\t0.415373\\tsmallDoses\\n', '21609\\t5.699090\\t1.391892\\tsmallDoses\\n', '23817\\t2.449378\\t1.322560\\tdidntLike\\n', '15640\\t0.000000\\t1.228380\\tsmallDoses\\n', '8847\\t3.168365\\t0.053993\\tsmallDoses\\n', '50939\\t10.428610\\t1.126257\\tlargeDoses\\n', '28521\\t2.943070\\t1.446816\\tdidntLike\\n', '32901\\t10.441348\\t0.975283\\tlargeDoses\\n', '42850\\t12.478764\\t1.628726\\tlargeDoses\\n', '13499\\t5.856902\\t0.363883\\tsmallDoses\\n', '40345\\t2.476420\\t0.096075\\tdidntLike\\n', '43547\\t1.826637\\t0.811457\\tdidntLike\\n', '70758\\t4.324451\\t0.328235\\tdidntLike\\n', '19780\\t1.376085\\t1.178359\\tsmallDoses\\n', '44484\\t5.342462\\t0.394527\\tdidntLike\\n', '54462\\t11.835521\\t0.693301\\tlargeDoses\\n', '20085\\t12.423687\\t1.424264\\tlargeDoses\\n', '42291\\t12.161273\\t0.071131\\tlargeDoses\\n', '47550\\t8.148360\\t1.649194\\tlargeDoses\\n', '11938\\t1.531067\\t1.549756\\tsmallDoses\\n', '40699\\t3.200912\\t0.309679\\tdidntLike\\n', '70908\\t8.862691\\t0.530506\\tdidntLike\\n', '73989\\t6.370551\\t0.369350\\tdidntLike\\n', '11872\\t2.468841\\t0.145060\\tsmallDoses\\n', '48463\\t11.054212\\t0.141508\\tlargeDoses\\n', '15987\\t2.037080\\t0.715243\\tsmallDoses\\n', '70036\\t13.364030\\t0.549972\\tdidntLike\\n', '32967\\t10.249135\\t0.192735\\tlargeDoses\\n', '63249\\t10.464252\\t1.669767\\tdidntLike\\n', '42795\\t9.424574\\t0.013725\\tlargeDoses\\n', '14459\\t4.458902\\t0.268444\\tsmallDoses\\n', '19973\\t0.000000\\t0.575976\\tsmallDoses\\n', '5494\\t9.686082\\t1.029808\\tlargeDoses\\n', '67902\\t13.649402\\t1.052618\\tdidntLike\\n', '25621\\t13.181148\\t0.273014\\tlargeDoses\\n', '27545\\t3.877472\\t0.401600\\tdidntLike\\n', '58656\\t1.413952\\t0.451380\\tdidntLike\\n', '7327\\t4.248986\\t1.430249\\tsmallDoses\\n', '64555\\t8.779183\\t0.845947\\tdidntLike\\n', '8998\\t4.156252\\t0.097109\\tsmallDoses\\n', '11752\\t5.580018\\t0.158401\\tsmallDoses\\n', '76319\\t15.040440\\t1.366898\\tdidntLike\\n', '27665\\t12.793870\\t1.307323\\tlargeDoses\\n', '67417\\t3.254877\\t0.669546\\tdidntLike\\n', '21808\\t10.725607\\t0.588588\\tlargeDoses\\n', '15326\\t8.256473\\t0.765891\\tsmallDoses\\n', '20057\\t8.033892\\t1.618562\\tlargeDoses\\n', '79341\\t10.702532\\t0.204792\\tdidntLike\\n', '15636\\t5.062996\\t1.132555\\tsmallDoses\\n', '35602\\t10.772286\\t0.668721\\tlargeDoses\\n', '28544\\t1.892354\\t0.837028\\tdidntLike\\n', '57663\\t1.019966\\t0.372320\\tdidntLike\\n', '78727\\t15.546043\\t0.729742\\tdidntLike\\n', '68255\\t11.638205\\t0.409125\\tdidntLike\\n', '14964\\t3.427886\\t0.975616\\tsmallDoses\\n', '21835\\t11.246174\\t1.475586\\tlargeDoses\\n', '7487\\t0.000000\\t0.645045\\tsmallDoses\\n', '8700\\t0.000000\\t1.424017\\tsmallDoses\\n', '26226\\t8.242553\\t0.279069\\tlargeDoses\\n', '65899\\t8.700060\\t0.101807\\tdidntLike\\n', '6543\\t0.812344\\t0.260334\\tsmallDoses\\n', '46556\\t2.448235\\t1.176829\\tdidntLike\\n', '71038\\t13.230078\\t0.616147\\tdidntLike\\n', '47657\\t0.236133\\t0.340840\\tdidntLike\\n', '19600\\t11.155826\\t0.335131\\tlargeDoses\\n', '37422\\t11.029636\\t0.505769\\tlargeDoses\\n', '1363\\t2.901181\\t1.646633\\tsmallDoses\\n', '26535\\t3.924594\\t1.143120\\tdidntLike\\n', '47707\\t2.524806\\t1.292848\\tdidntLike\\n', '38055\\t3.527474\\t1.449158\\tdidntLike\\n', '6286\\t3.384281\\t0.889268\\tsmallDoses\\n', '10747\\t0.000000\\t1.107592\\tsmallDoses\\n', '44883\\t11.898890\\t0.406441\\tlargeDoses\\n', '56823\\t3.529892\\t1.375844\\tdidntLike\\n', '68086\\t11.442677\\t0.696919\\tdidntLike\\n', '70242\\t10.308145\\t0.422722\\tdidntLike\\n', '11409\\t8.540529\\t0.727373\\tsmallDoses\\n', '67671\\t7.156949\\t1.691682\\tdidntLike\\n', '61238\\t0.720675\\t0.847574\\tdidntLike\\n', '17774\\t0.229405\\t1.038603\\tsmallDoses\\n', '53376\\t3.399331\\t0.077501\\tdidntLike\\n', '30930\\t6.157239\\t0.580133\\tdidntLike\\n', '28987\\t1.239698\\t0.719989\\tdidntLike\\n', '13655\\t6.036854\\t0.016548\\tsmallDoses\\n', '7227\\t5.258665\\t0.933722\\tsmallDoses\\n', '40409\\t12.393001\\t1.571281\\tlargeDoses\\n', '13605\\t9.627613\\t0.935842\\tsmallDoses\\n', '26400\\t11.130453\\t0.597610\\tlargeDoses\\n', '13491\\t8.842595\\t0.349768\\tlargeDoses\\n', '30232\\t10.690010\\t1.456595\\tlargeDoses\\n', '43253\\t5.714718\\t1.674780\\tlargeDoses\\n', '55536\\t3.052505\\t1.335804\\tdidntLike\\n', '8807\\t0.000000\\t0.059025\\tsmallDoses\\n', '25783\\t9.945307\\t1.287952\\tlargeDoses\\n', '22812\\t2.719723\\t1.142148\\tdidntLike\\n', '77826\\t11.154055\\t1.608486\\tdidntLike\\n', '38172\\t2.687918\\t0.660836\\tdidntLike\\n', '31676\\t10.037847\\t0.962245\\tlargeDoses\\n', '74038\\t12.404762\\t1.112080\\tdidntLike\\n', '44738\\t10.237305\\t0.633422\\tlargeDoses\\n', '17410\\t4.745392\\t0.662520\\tsmallDoses\\n', '5688\\t4.639461\\t1.569431\\tsmallDoses\\n', '36642\\t3.149310\\t0.639669\\tdidntLike\\n', '29956\\t13.406875\\t1.639194\\tlargeDoses\\n', '60350\\t6.068668\\t0.881241\\tdidntLike\\n', '23758\\t9.477022\\t0.899002\\tlargeDoses\\n', '25780\\t3.897620\\t0.560201\\tsmallDoses\\n', '11342\\t5.463615\\t1.203677\\tsmallDoses\\n', '36109\\t3.369267\\t1.575043\\tdidntLike\\n', '14292\\t5.234562\\t0.825954\\tsmallDoses\\n', '11160\\t0.000000\\t0.722170\\tsmallDoses\\n', '23762\\t12.979069\\t0.504068\\tlargeDoses\\n', '39567\\t5.376564\\t0.557476\\tdidntLike\\n', '25647\\t13.527910\\t1.586732\\tlargeDoses\\n', '14814\\t2.196889\\t0.784587\\tsmallDoses\\n', '73590\\t10.691748\\t0.007509\\tdidntLike\\n', '35187\\t1.659242\\t0.447066\\tdidntLike\\n', '49459\\t8.369667\\t0.656697\\tlargeDoses\\n', '31657\\t13.157197\\t0.143248\\tlargeDoses\\n', '6259\\t8.199667\\t0.908508\\tsmallDoses\\n', '33101\\t4.441669\\t0.439381\\tlargeDoses\\n', '27107\\t9.846492\\t0.644523\\tlargeDoses\\n', '17824\\t0.019540\\t0.977949\\tsmallDoses\\n', '43536\\t8.253774\\t0.748700\\tlargeDoses\\n', '67705\\t6.038620\\t1.509646\\tdidntLike\\n', '35283\\t6.091587\\t1.694641\\tlargeDoses\\n', '71308\\t8.986820\\t1.225165\\tdidntLike\\n', '31054\\t11.508473\\t1.624296\\tlargeDoses\\n', '52387\\t8.807734\\t0.713922\\tlargeDoses\\n', '40328\\t0.000000\\t0.816676\\tdidntLike\\n', '34844\\t8.889202\\t1.665414\\tlargeDoses\\n', '11607\\t3.178117\\t0.542752\\tsmallDoses\\n', '64306\\t7.013795\\t0.139909\\tdidntLike\\n', '32721\\t9.605014\\t0.065254\\tlargeDoses\\n', '33170\\t1.230540\\t1.331674\\tdidntLike\\n', '37192\\t10.412811\\t0.890803\\tlargeDoses\\n', '13089\\t0.000000\\t0.567161\\tsmallDoses\\n', '66491\\t9.699991\\t0.122011\\tdidntLike\\n', '15941\\t0.000000\\t0.061191\\tsmallDoses\\n', '4272\\t4.455293\\t0.272135\\tsmallDoses\\n', '48812\\t3.020977\\t1.502803\\tdidntLike\\n', '28818\\t8.099278\\t0.216317\\tlargeDoses\\n', '35394\\t1.157764\\t1.603217\\tdidntLike\\n', '71791\\t10.105396\\t0.121067\\tdidntLike\\n', '40668\\t11.230148\\t0.408603\\tlargeDoses\\n', '39580\\t9.070058\\t0.011379\\tlargeDoses\\n', '11786\\t0.566460\\t0.478837\\tsmallDoses\\n', '19251\\t0.000000\\t0.487300\\tsmallDoses\\n', '56594\\t8.956369\\t1.193484\\tlargeDoses\\n', '54495\\t1.523057\\t0.620528\\tdidntLike\\n', '11844\\t2.749006\\t0.169855\\tsmallDoses\\n', '45465\\t9.235393\\t0.188350\\tlargeDoses\\n', '31033\\t10.555573\\t0.403927\\tlargeDoses\\n', '16633\\t6.956372\\t1.519308\\tsmallDoses\\n', '13887\\t0.636281\\t1.273984\\tsmallDoses\\n', '52603\\t3.574737\\t0.075163\\tdidntLike\\n', '72000\\t9.032486\\t1.461809\\tdidntLike\\n', '68497\\t5.958993\\t0.023012\\tdidntLike\\n', '35135\\t2.435300\\t1.211744\\tdidntLike\\n', '26397\\t10.539731\\t1.638248\\tlargeDoses\\n', '7313\\t7.646702\\t0.056513\\tsmallDoses\\n', '91273\\t20.919349\\t0.644571\\tdidntLike\\n', '24743\\t1.424726\\t0.838447\\tdidntLike\\n', '31690\\t6.748663\\t0.890223\\tlargeDoses\\n', '15432\\t2.289167\\t0.114881\\tsmallDoses\\n', '58394\\t5.548377\\t0.402238\\tdidntLike\\n', '33962\\t6.057227\\t0.432666\\tdidntLike\\n', '31442\\t10.828595\\t0.559955\\tlargeDoses\\n', '31044\\t11.318160\\t0.271094\\tlargeDoses\\n', '29938\\t13.265311\\t0.633903\\tlargeDoses\\n', '9875\\t0.000000\\t1.496715\\tsmallDoses\\n', '51542\\t6.517133\\t0.402519\\tlargeDoses\\n', '11878\\t4.934374\\t1.520028\\tsmallDoses\\n', '69241\\t10.151738\\t0.896433\\tdidntLike\\n', '37776\\t2.425781\\t1.559467\\tdidntLike\\n', '68997\\t9.778962\\t1.195498\\tdidntLike\\n', '67416\\t12.219950\\t0.657677\\tdidntLike\\n', '59225\\t7.394151\\t0.954434\\tdidntLike\\n', '29138\\t8.518535\\t0.742546\\tlargeDoses\\n', '5962\\t2.798700\\t0.662632\\tsmallDoses\\n', '10847\\t0.637930\\t0.617373\\tsmallDoses\\n', '70527\\t10.750490\\t0.097415\\tdidntLike\\n', '9610\\t0.625382\\t0.140969\\tsmallDoses\\n', '64734\\t10.027968\\t0.282787\\tdidntLike\\n', '25941\\t9.817347\\t0.364197\\tlargeDoses\\n', '2763\\t0.646828\\t1.266069\\tsmallDoses\\n', '55601\\t3.347111\\t0.914294\\tdidntLike\\n', '31128\\t11.816892\\t0.193798\\tlargeDoses\\n', '5181\\t0.000000\\t1.480198\\tsmallDoses\\n', '69982\\t10.945666\\t0.993219\\tdidntLike\\n', '52440\\t10.244706\\t0.280539\\tlargeDoses\\n', '57350\\t2.579801\\t1.149172\\tdidntLike\\n', '57869\\t2.630410\\t0.098869\\tdidntLike\\n', '56557\\t11.746200\\t1.695517\\tlargeDoses\\n', '42342\\t8.104232\\t1.326277\\tlargeDoses\\n', '15560\\t12.409743\\t0.790295\\tlargeDoses\\n', '34826\\t12.167844\\t1.328086\\tlargeDoses\\n', '8569\\t3.198408\\t0.299287\\tsmallDoses\\n', '77623\\t16.055513\\t0.541052\\tdidntLike\\n', '78184\\t7.138659\\t0.158481\\tdidntLike\\n', '7036\\t4.831041\\t0.761419\\tsmallDoses\\n', '69616\\t10.082890\\t1.373611\\tdidntLike\\n', '21546\\t10.066867\\t0.788470\\tlargeDoses\\n', '36715\\t8.129538\\t0.329913\\tlargeDoses\\n', '20522\\t3.012463\\t1.138108\\tsmallDoses\\n', '42349\\t3.720391\\t0.845974\\tdidntLike\\n', '9037\\t0.773493\\t1.148256\\tsmallDoses\\n', '26728\\t10.962941\\t1.037324\\tlargeDoses\\n', '587\\t0.177621\\t0.162614\\tsmallDoses\\n', '48915\\t3.085853\\t0.967899\\tdidntLike\\n', '9824\\t8.426781\\t0.202558\\tsmallDoses\\n', '4135\\t1.825927\\t1.128347\\tsmallDoses\\n', '9666\\t2.185155\\t1.010173\\tsmallDoses\\n', '59333\\t7.184595\\t1.261338\\tdidntLike\\n', '36198\\t0.000000\\t0.116525\\tdidntLike\\n', '34909\\t8.901752\\t1.033527\\tlargeDoses\\n', '47516\\t2.451497\\t1.358795\\tdidntLike\\n', '55807\\t3.213631\\t0.432044\\tdidntLike\\n', '14036\\t3.974739\\t0.723929\\tsmallDoses\\n', '42856\\t9.601306\\t0.619232\\tlargeDoses\\n', '64007\\t8.363897\\t0.445341\\tdidntLike\\n', '59428\\t6.381484\\t1.365019\\tdidntLike\\n', '13730\\t0.000000\\t1.403914\\tsmallDoses\\n', '41740\\t9.609836\\t1.438105\\tlargeDoses\\n', '63546\\t9.904741\\t0.985862\\tdidntLike\\n', '30417\\t7.185807\\t1.489102\\tlargeDoses\\n', '69636\\t5.466703\\t1.216571\\tdidntLike\\n', '64660\\t0.000000\\t0.915898\\tdidntLike\\n', '14883\\t4.575443\\t0.535671\\tsmallDoses\\n', '7965\\t3.277076\\t1.010868\\tsmallDoses\\n', '68620\\t10.246623\\t1.239634\\tdidntLike\\n', '8738\\t2.341735\\t1.060235\\tsmallDoses\\n', '7544\\t3.201046\\t0.498843\\tsmallDoses\\n', '6377\\t6.066013\\t0.120927\\tsmallDoses\\n', '36842\\t8.829379\\t0.895657\\tlargeDoses\\n', '81046\\t15.833048\\t1.568245\\tdidntLike\\n', '67736\\t13.516711\\t1.220153\\tdidntLike\\n', '32492\\t0.664284\\t1.116755\\tdidntLike\\n', '39299\\t6.325139\\t0.605109\\tlargeDoses\\n', '77289\\t8.677499\\t0.344373\\tdidntLike\\n', '33835\\t8.188005\\t0.964896\\tlargeDoses\\n', '71890\\t9.414263\\t0.384030\\tdidntLike\\n', '32054\\t9.196547\\t1.138253\\tlargeDoses\\n', '38579\\t10.202968\\t0.452363\\tlargeDoses\\n', '55984\\t2.119439\\t1.481661\\tdidntLike\\n', '72694\\t13.635078\\t0.858314\\tdidntLike\\n', '42299\\t0.083443\\t0.701669\\tdidntLike\\n', '26635\\t9.149096\\t1.051446\\tlargeDoses\\n', '8579\\t1.933803\\t1.374388\\tsmallDoses\\n', '37302\\t14.115544\\t0.676198\\tlargeDoses\\n', '22878\\t8.933736\\t0.943352\\tlargeDoses\\n', '4364\\t2.661254\\t0.946117\\tsmallDoses\\n', '4985\\t0.988432\\t1.305027\\tsmallDoses\\n', '37068\\t2.063741\\t1.125946\\tdidntLike\\n', '41137\\t2.220590\\t0.690754\\tdidntLike\\n', '67759\\t6.424849\\t0.806641\\tdidntLike\\n', '11831\\t1.156153\\t1.613674\\tsmallDoses\\n', '34502\\t3.032720\\t0.601847\\tdidntLike\\n', '4088\\t3.076828\\t0.952089\\tsmallDoses\\n', '15199\\t0.000000\\t0.318105\\tsmallDoses\\n', '17309\\t7.750480\\t0.554015\\tlargeDoses\\n', '42816\\t10.958135\\t1.482500\\tlargeDoses\\n', '43751\\t10.222018\\t0.488678\\tlargeDoses\\n', '58335\\t2.367988\\t0.435741\\tdidntLike\\n', '75039\\t7.686054\\t1.381455\\tdidntLike\\n', '42878\\t11.464879\\t1.481589\\tlargeDoses\\n', '42770\\t11.075735\\t0.089726\\tlargeDoses\\n', '8848\\t3.543989\\t0.345853\\tsmallDoses\\n', '31340\\t8.123889\\t1.282880\\tlargeDoses\\n', '41413\\t4.331769\\t0.754467\\tlargeDoses\\n', '12731\\t0.120865\\t1.211961\\tsmallDoses\\n', '22447\\t6.116109\\t0.701523\\tlargeDoses\\n', '33564\\t7.474534\\t0.505790\\tlargeDoses\\n', '48907\\t8.819454\\t0.649292\\tlargeDoses\\n', '8762\\t6.802144\\t0.615284\\tsmallDoses\\n', '46696\\t12.666325\\t0.931960\\tlargeDoses\\n', '36851\\t8.636180\\t0.399333\\tlargeDoses\\n', '67639\\t11.730991\\t1.289833\\tdidntLike\\n', '171\\t8.132449\\t0.039062\\tsmallDoses\\n', '26674\\t10.296589\\t1.496144\\tlargeDoses\\n', '8739\\t7.583906\\t1.005764\\tsmallDoses\\n', '66668\\t9.777806\\t0.496377\\tdidntLike\\n', '68732\\t8.833546\\t0.513876\\tdidntLike\\n', '69995\\t4.907899\\t1.518036\\tdidntLike\\n', '82008\\t8.362736\\t1.285939\\tdidntLike\\n', '25054\\t9.084726\\t1.606312\\tlargeDoses\\n', '33085\\t14.164141\\t0.560970\\tlargeDoses\\n', '41379\\t9.080683\\t0.989920\\tlargeDoses\\n', '39417\\t6.522767\\t0.038548\\tlargeDoses\\n', '12556\\t3.690342\\t0.462281\\tsmallDoses\\n', '39432\\t3.563706\\t0.242019\\tdidntLike\\n', '38010\\t1.065870\\t1.141569\\tdidntLike\\n', '69306\\t6.683796\\t1.456317\\tdidntLike\\n', '38000\\t1.712874\\t0.243945\\tdidntLike\\n', '46321\\t13.109929\\t1.280111\\tlargeDoses\\n', '66293\\t11.327910\\t0.780977\\tdidntLike\\n', '22730\\t4.545711\\t1.233254\\tdidntLike\\n', '5952\\t3.367889\\t0.468104\\tsmallDoses\\n', '72308\\t8.326224\\t0.567347\\tdidntLike\\n', '60338\\t8.978339\\t1.442034\\tdidntLike\\n', '13301\\t5.655826\\t1.582159\\tsmallDoses\\n', '27884\\t8.855312\\t0.570684\\tlargeDoses\\n', '11188\\t6.649568\\t0.544233\\tsmallDoses\\n', '56796\\t3.966325\\t0.850410\\tdidntLike\\n', '8571\\t1.924045\\t1.664782\\tsmallDoses\\n', '4914\\t6.004812\\t0.280369\\tsmallDoses\\n', '10784\\t0.000000\\t0.375849\\tsmallDoses\\n', '39296\\t9.923018\\t0.092192\\tlargeDoses\\n', '13113\\t2.389084\\t0.119284\\tsmallDoses\\n', '70204\\t13.663189\\t0.133251\\tdidntLike\\n', '46813\\t11.434976\\t0.321216\\tlargeDoses\\n', '11697\\t0.358270\\t1.292858\\tsmallDoses\\n', '44183\\t9.598873\\t0.223524\\tlargeDoses\\n', '2225\\t6.375275\\t0.608040\\tsmallDoses\\n', '29066\\t11.580532\\t0.458401\\tlargeDoses\\n', '4245\\t5.319324\\t1.598070\\tsmallDoses\\n', '34379\\t4.324031\\t1.603481\\tdidntLike\\n', '44441\\t2.358370\\t1.273204\\tdidntLike\\n', '2022\\t0.000000\\t1.182708\\tsmallDoses\\n', '26866\\t12.824376\\t0.890411\\tlargeDoses\\n', '57070\\t1.587247\\t1.456982\\tdidntLike\\n', '32932\\t8.510324\\t1.520683\\tlargeDoses\\n', '51967\\t10.428884\\t1.187734\\tlargeDoses\\n', '44432\\t8.346618\\t0.042318\\tlargeDoses\\n', '67066\\t7.541444\\t0.809226\\tdidntLike\\n', '17262\\t2.540946\\t1.583286\\tsmallDoses\\n', '79728\\t9.473047\\t0.692513\\tdidntLike\\n', '14259\\t0.352284\\t0.474080\\tsmallDoses\\n', '6122\\t0.000000\\t0.589826\\tsmallDoses\\n', '76879\\t12.405171\\t0.567201\\tdidntLike\\n', '11426\\t4.126775\\t0.871452\\tsmallDoses\\n', '2493\\t0.034087\\t0.335848\\tsmallDoses\\n', '19910\\t1.177634\\t0.075106\\tsmallDoses\\n', '10939\\t0.000000\\t0.479996\\tsmallDoses\\n', '17716\\t0.994909\\t0.611135\\tsmallDoses\\n', '31390\\t11.053664\\t1.180117\\tlargeDoses\\n', '20375\\t0.000000\\t1.679729\\tsmallDoses\\n', '26309\\t2.495011\\t1.459589\\tdidntLike\\n', '33484\\t11.516831\\t0.001156\\tlargeDoses\\n', '45944\\t9.213215\\t0.797743\\tlargeDoses\\n', '4249\\t5.332865\\t0.109288\\tsmallDoses\\n', '6089\\t0.000000\\t1.689771\\tsmallDoses\\n', '7513\\t0.000000\\t1.126053\\tsmallDoses\\n', '27862\\t12.640062\\t1.690903\\tlargeDoses\\n', '39038\\t2.693142\\t1.317518\\tdidntLike\\n', '19218\\t3.328969\\t0.268271\\tsmallDoses\\n', '62911\\t7.193166\\t1.117456\\tdidntLike\\n', '77758\\t6.615512\\t1.521012\\tdidntLike\\n', '27940\\t8.000567\\t0.835341\\tlargeDoses\\n', '2194\\t4.017541\\t0.512104\\tsmallDoses\\n', '37072\\t13.245859\\t0.927465\\tlargeDoses\\n', '15585\\t5.970616\\t0.813624\\tsmallDoses\\n', '25577\\t11.668719\\t0.886902\\tlargeDoses\\n', '8777\\t4.283237\\t1.272728\\tsmallDoses\\n', '29016\\t10.742963\\t0.971401\\tlargeDoses\\n', '21910\\t12.326672\\t1.592608\\tlargeDoses\\n', '12916\\t0.000000\\t0.344622\\tsmallDoses\\n', '10976\\t0.000000\\t0.922846\\tsmallDoses\\n', '79065\\t10.602095\\t0.573686\\tdidntLike\\n', '36759\\t10.861859\\t1.155054\\tlargeDoses\\n', '50011\\t1.229094\\t1.638690\\tdidntLike\\n', '1155\\t0.410392\\t1.313401\\tsmallDoses\\n', '71600\\t14.552711\\t0.616162\\tdidntLike\\n', '30817\\t14.178043\\t0.616313\\tlargeDoses\\n', '54559\\t14.136260\\t0.362388\\tdidntLike\\n', '29764\\t0.093534\\t1.207194\\tdidntLike\\n', '69100\\t10.929021\\t0.403110\\tdidntLike\\n', '47324\\t11.432919\\t0.825959\\tlargeDoses\\n', '73199\\t9.134527\\t0.586846\\tdidntLike\\n', '44461\\t5.071432\\t1.421420\\tdidntLike\\n', '45617\\t11.460254\\t1.541749\\tlargeDoses\\n', '28221\\t11.620039\\t1.103553\\tlargeDoses\\n', '7091\\t4.022079\\t0.207307\\tsmallDoses\\n', '6110\\t3.057842\\t1.631262\\tsmallDoses\\n', '79016\\t7.782169\\t0.404385\\tdidntLike\\n', '18289\\t7.981741\\t0.929789\\tlargeDoses\\n', '43679\\t4.601363\\t0.268326\\tdidntLike\\n', '22075\\t2.595564\\t1.115375\\tdidntLike\\n', '23535\\t10.049077\\t0.391045\\tlargeDoses\\n', '25301\\t3.265444\\t1.572970\\tsmallDoses\\n', '32256\\t11.780282\\t1.511014\\tlargeDoses\\n', '36951\\t3.075975\\t0.286284\\tdidntLike\\n', '31290\\t1.795307\\t0.194343\\tdidntLike\\n', '38953\\t11.106979\\t0.202415\\tlargeDoses\\n', '35257\\t5.994413\\t0.800021\\tdidntLike\\n', '25847\\t9.706062\\t1.012182\\tlargeDoses\\n', '32680\\t10.582992\\t0.836025\\tlargeDoses\\n', '62018\\t7.038266\\t1.458979\\tdidntLike\\n', '9074\\t0.023771\\t0.015314\\tsmallDoses\\n', '33004\\t12.823982\\t0.676371\\tlargeDoses\\n', '44588\\t3.617770\\t0.493483\\tdidntLike\\n', '32565\\t8.346684\\t0.253317\\tlargeDoses\\n', '38563\\t6.104317\\t0.099207\\tdidntLike\\n', '75668\\t16.207776\\t0.584973\\tdidntLike\\n', '9069\\t6.401969\\t1.691873\\tsmallDoses\\n', '53395\\t2.298696\\t0.559757\\tdidntLike\\n', '28631\\t7.661515\\t0.055981\\tlargeDoses\\n', '71036\\t6.353608\\t1.645301\\tdidntLike\\n', '71142\\t10.442780\\t0.335870\\tdidntLike\\n', '37653\\t3.834509\\t1.346121\\tdidntLike\\n', '76839\\t10.998587\\t0.584555\\tdidntLike\\n', '9916\\t2.695935\\t1.512111\\tsmallDoses\\n', '38889\\t3.356646\\t0.324230\\tdidntLike\\n', '39075\\t14.677836\\t0.793183\\tlargeDoses\\n', '48071\\t1.551934\\t0.130902\\tdidntLike\\n', '7275\\t2.464739\\t0.223502\\tsmallDoses\\n', '41804\\t1.533216\\t1.007481\\tdidntLike\\n', '35665\\t12.473921\\t0.162910\\tlargeDoses\\n', '67956\\t6.491596\\t0.032576\\tdidntLike\\n', '41892\\t10.506276\\t1.510747\\tlargeDoses\\n', '38844\\t4.380388\\t0.748506\\tdidntLike\\n', '74197\\t13.670988\\t1.687944\\tdidntLike\\n', '14201\\t8.317599\\t0.390409\\tsmallDoses\\n', '3908\\t0.000000\\t0.556245\\tsmallDoses\\n', '2459\\t0.000000\\t0.290218\\tsmallDoses\\n', '32027\\t10.095799\\t1.188148\\tlargeDoses\\n', '12870\\t0.860695\\t1.482632\\tsmallDoses\\n', '9880\\t1.557564\\t0.711278\\tsmallDoses\\n', '72784\\t10.072779\\t0.756030\\tdidntLike\\n', '17521\\t0.000000\\t0.431468\\tsmallDoses\\n', '50283\\t7.140817\\t0.883813\\tlargeDoses\\n', '33536\\t11.384548\\t1.438307\\tlargeDoses\\n', '9452\\t3.214568\\t1.083536\\tsmallDoses\\n', '37457\\t11.720655\\t0.301636\\tlargeDoses\\n', '17724\\t6.374475\\t1.475925\\tlargeDoses\\n', '43869\\t5.749684\\t0.198875\\tlargeDoses\\n', '264\\t3.871808\\t0.552602\\tsmallDoses\\n', '25736\\t8.336309\\t0.636238\\tlargeDoses\\n', '39584\\t9.710442\\t1.503735\\tlargeDoses\\n', '31246\\t1.532611\\t1.433898\\tdidntLike\\n', '49567\\t9.785785\\t0.984614\\tlargeDoses\\n', '7052\\t2.633627\\t1.097866\\tsmallDoses\\n', '35493\\t9.238935\\t0.494701\\tlargeDoses\\n', '10986\\t1.205656\\t1.398803\\tsmallDoses\\n', '49508\\t3.124909\\t1.670121\\tdidntLike\\n', '5734\\t7.935489\\t1.585044\\tsmallDoses\\n', '65479\\t12.746636\\t1.560352\\tdidntLike\\n', '77268\\t10.732563\\t0.545321\\tdidntLike\\n', '28490\\t3.977403\\t0.766103\\tdidntLike\\n', '13546\\t4.194426\\t0.450663\\tsmallDoses\\n', '37166\\t9.610286\\t0.142912\\tlargeDoses\\n', '16381\\t4.797555\\t1.260455\\tsmallDoses\\n', '10848\\t1.615279\\t0.093002\\tsmallDoses\\n', '35405\\t4.614771\\t1.027105\\tdidntLike\\n', '15917\\t0.000000\\t1.369726\\tsmallDoses\\n', '6131\\t0.608457\\t0.512220\\tsmallDoses\\n', '67432\\t6.558239\\t0.667579\\tdidntLike\\n', '30354\\t12.315116\\t0.197068\\tlargeDoses\\n', '69696\\t7.014973\\t1.494616\\tdidntLike\\n', '33481\\t8.822304\\t1.194177\\tlargeDoses\\n', '43075\\t10.086796\\t0.570455\\tlargeDoses\\n', '38343\\t7.241614\\t1.661627\\tlargeDoses\\n', '14318\\t4.602395\\t1.511768\\tsmallDoses\\n', '5367\\t7.434921\\t0.079792\\tsmallDoses\\n', '37894\\t10.467570\\t1.595418\\tlargeDoses\\n', '36172\\t9.948127\\t0.003663\\tlargeDoses\\n', '40123\\t2.478529\\t1.568987\\tdidntLike\\n', '10976\\t5.938545\\t0.878540\\tsmallDoses\\n', '12705\\t0.000000\\t0.948004\\tsmallDoses\\n', '12495\\t5.559181\\t1.357926\\tsmallDoses\\n', '35681\\t9.776654\\t0.535966\\tlargeDoses\\n', '46202\\t3.092056\\t0.490906\\tdidntLike\\n', '11505\\t0.000000\\t1.623311\\tsmallDoses\\n', '22834\\t4.459495\\t0.538867\\tdidntLike\\n', '49901\\t8.334306\\t1.646600\\tlargeDoses\\n', '71932\\t11.226654\\t0.384686\\tdidntLike\\n', '13279\\t3.904737\\t1.597294\\tsmallDoses\\n', '49112\\t7.038205\\t1.211329\\tlargeDoses\\n', '77129\\t9.836120\\t1.054340\\tdidntLike\\n', '37447\\t1.990976\\t0.378081\\tdidntLike\\n', '62397\\t9.005302\\t0.485385\\tdidntLike\\n', '0\\t1.772510\\t1.039873\\tsmallDoses\\n', '15476\\t0.458674\\t0.819560\\tsmallDoses\\n', '40625\\t10.003919\\t0.231658\\tlargeDoses\\n', '36706\\t0.520807\\t1.476008\\tdidntLike\\n', '28580\\t10.678214\\t1.431837\\tlargeDoses\\n', '25862\\t4.425992\\t1.363842\\tdidntLike\\n', '63488\\t12.035355\\t0.831222\\tdidntLike\\n', '33944\\t10.606732\\t1.253858\\tlargeDoses\\n', '30099\\t1.568653\\t0.684264\\tdidntLike\\n', '13725\\t2.545434\\t0.024271\\tsmallDoses\\n', '36768\\t10.264062\\t0.982593\\tlargeDoses\\n', '64656\\t9.866276\\t0.685218\\tdidntLike\\n', '14927\\t0.142704\\t0.057455\\tsmallDoses\\n', '43231\\t9.853270\\t1.521432\\tlargeDoses\\n', '66087\\t6.596604\\t1.653574\\tdidntLike\\n', '19806\\t2.602287\\t1.321481\\tsmallDoses\\n', '41081\\t10.411776\\t0.664168\\tlargeDoses\\n', '10277\\t7.083449\\t0.622589\\tsmallDoses\\n', '7014\\t2.080068\\t1.254441\\tsmallDoses\\n', '17275\\t0.522844\\t1.622458\\tsmallDoses\\n', '31600\\t10.362000\\t1.544827\\tlargeDoses\\n', '59956\\t3.412967\\t1.035410\\tdidntLike\\n', '42181\\t6.796548\\t1.112153\\tlargeDoses\\n', '51743\\t4.092035\\t0.075804\\tdidntLike\\n', '5194\\t2.763811\\t1.564325\\tsmallDoses\\n', '30832\\t12.547439\\t1.402443\\tlargeDoses\\n', '7976\\t5.708052\\t1.596152\\tsmallDoses\\n', '14602\\t4.558025\\t0.375806\\tsmallDoses\\n', '41571\\t11.642307\\t0.438553\\tlargeDoses\\n', '55028\\t3.222443\\t0.121399\\tdidntLike\\n', '5837\\t4.736156\\t0.029871\\tsmallDoses\\n', '39808\\t10.839526\\t0.836323\\tlargeDoses\\n', '20944\\t4.194791\\t0.235483\\tsmallDoses\\n', '22146\\t14.936259\\t0.888582\\tlargeDoses\\n', '42169\\t3.310699\\t1.521855\\tdidntLike\\n', '7010\\t2.971931\\t0.034321\\tsmallDoses\\n', '3807\\t9.261667\\t0.537807\\tsmallDoses\\n', '29241\\t7.791833\\t1.111416\\tlargeDoses\\n', '52696\\t1.480470\\t1.028750\\tdidntLike\\n', '42545\\t3.677287\\t0.244167\\tdidntLike\\n', '24437\\t2.202967\\t1.370399\\tdidntLike\\n', '16037\\t5.796735\\t0.935893\\tsmallDoses\\n', '8493\\t3.063333\\t0.144089\\tsmallDoses\\n', '68080\\t11.233094\\t0.492487\\tdidntLike\\n', '59016\\t1.965570\\t0.005697\\tdidntLike\\n', '11810\\t8.616719\\t0.137419\\tsmallDoses\\n', '68630\\t6.609989\\t1.083505\\tdidntLike\\n', '7629\\t1.712639\\t1.086297\\tsmallDoses\\n', '71992\\t10.117445\\t1.299319\\tdidntLike\\n', '13398\\t0.000000\\t1.104178\\tsmallDoses\\n', '26241\\t9.824777\\t1.346821\\tlargeDoses\\n', '11160\\t1.653089\\t0.980949\\tsmallDoses\\n', '76701\\t18.178822\\t1.473671\\tdidntLike\\n', '32174\\t6.781126\\t0.885340\\tlargeDoses\\n', '45043\\t8.206750\\t1.549223\\tlargeDoses\\n', '42173\\t10.081853\\t1.376745\\tlargeDoses\\n', '69801\\t6.288742\\t0.112799\\tdidntLike\\n', '41737\\t3.695937\\t1.543589\\tdidntLike\\n', '46979\\t6.726151\\t1.069380\\tlargeDoses\\n', '79267\\t12.969999\\t1.568223\\tdidntLike\\n', '4615\\t2.661390\\t1.531933\\tsmallDoses\\n', '32907\\t7.072764\\t1.117386\\tlargeDoses\\n', '37444\\t9.123366\\t1.318988\\tlargeDoses\\n', '569\\t3.743946\\t1.039546\\tsmallDoses\\n', '8723\\t2.341300\\t0.219361\\tsmallDoses\\n', '6024\\t0.541913\\t0.592348\\tsmallDoses\\n', '52252\\t2.310828\\t1.436753\\tdidntLike\\n', '8358\\t6.226597\\t1.427316\\tsmallDoses\\n', '26166\\t7.277876\\t0.489252\\tlargeDoses\\n', '18471\\t0.000000\\t0.389459\\tsmallDoses\\n', '3386\\t7.218221\\t1.098828\\tsmallDoses\\n', '41544\\t8.777129\\t1.111464\\tlargeDoses\\n', '10480\\t2.813428\\t0.819419\\tsmallDoses\\n', '5894\\t2.268766\\t1.412130\\tsmallDoses\\n', '7273\\t6.283627\\t0.571292\\tsmallDoses\\n', '22272\\t7.520081\\t1.626868\\tlargeDoses\\n', '31369\\t11.739225\\t0.027138\\tlargeDoses\\n', '10708\\t3.746883\\t0.877350\\tsmallDoses\\n', '69364\\t12.089835\\t0.521631\\tdidntLike\\n', '37760\\t12.310404\\t0.259339\\tlargeDoses\\n', '13004\\t0.000000\\t0.671355\\tsmallDoses\\n', '37885\\t2.728800\\t0.331502\\tdidntLike\\n', '52555\\t10.814342\\t0.607652\\tlargeDoses\\n', '38997\\t12.170268\\t0.844205\\tlargeDoses\\n', '69698\\t6.698371\\t0.240084\\tdidntLike\\n', '11783\\t3.632672\\t1.643479\\tsmallDoses\\n', '47636\\t10.059991\\t0.892361\\tlargeDoses\\n', '15744\\t1.887674\\t0.756162\\tsmallDoses\\n', '69058\\t8.229125\\t0.195886\\tdidntLike\\n', '33057\\t7.817082\\t0.476102\\tlargeDoses\\n', '28681\\t12.277230\\t0.076805\\tlargeDoses\\n', '34042\\t10.055337\\t1.115778\\tlargeDoses\\n', '29928\\t3.596002\\t1.485952\\tdidntLike\\n', '9734\\t2.755530\\t1.420655\\tsmallDoses\\n', '7344\\t7.780991\\t0.513048\\tsmallDoses\\n', '7387\\t0.093705\\t0.391834\\tsmallDoses\\n', '33957\\t8.481567\\t0.520078\\tlargeDoses\\n', '9936\\t3.865584\\t0.110062\\tsmallDoses\\n', '36094\\t9.683709\\t0.779984\\tlargeDoses\\n', '39835\\t10.617255\\t1.359970\\tlargeDoses\\n', '64486\\t7.203216\\t1.624762\\tdidntLike\\n', '0\\t7.601414\\t1.215605\\tsmallDoses\\n', '39539\\t1.386107\\t1.417070\\tdidntLike\\n', '66972\\t9.129253\\t0.594089\\tdidntLike\\n', '15029\\t1.363447\\t0.620841\\tsmallDoses\\n', '44909\\t3.181399\\t0.359329\\tdidntLike\\n', '38183\\t13.365414\\t0.217011\\tlargeDoses\\n', '37372\\t4.207717\\t1.289767\\tdidntLike\\n', '0\\t4.088395\\t0.870075\\tsmallDoses\\n', '17786\\t3.327371\\t1.142505\\tsmallDoses\\n', '39055\\t1.303323\\t1.235650\\tdidntLike\\n', '37045\\t7.999279\\t1.581763\\tlargeDoses\\n', '6435\\t2.217488\\t0.864536\\tsmallDoses\\n', '72265\\t7.751808\\t0.192451\\tdidntLike\\n', '28152\\t14.149305\\t1.591532\\tlargeDoses\\n', '25931\\t8.765721\\t0.152808\\tlargeDoses\\n', '7538\\t3.408996\\t0.184896\\tsmallDoses\\n', '1315\\t1.251021\\t0.112340\\tsmallDoses\\n', '12292\\t6.160619\\t1.537165\\tsmallDoses\\n', '49248\\t1.034538\\t1.585162\\tdidntLike\\n', '9025\\t0.000000\\t1.034635\\tsmallDoses\\n', '13438\\t2.355051\\t0.542603\\tsmallDoses\\n', '69683\\t6.614543\\t0.153771\\tdidntLike\\n', '25374\\t10.245062\\t1.450903\\tlargeDoses\\n', '55264\\t3.467074\\t1.231019\\tdidntLike\\n', '38324\\t7.487678\\t1.572293\\tlargeDoses\\n', '69643\\t4.624115\\t1.185192\\tdidntLike\\n', '44058\\t8.995957\\t1.436479\\tlargeDoses\\n', '41316\\t11.564476\\t0.007195\\tlargeDoses\\n', '29119\\t3.440948\\t0.078331\\tdidntLike\\n', '51656\\t1.673603\\t0.732746\\tdidntLike\\n', '3030\\t4.719341\\t0.699755\\tsmallDoses\\n', '35695\\t10.304798\\t1.576488\\tlargeDoses\\n', '1537\\t2.086915\\t1.199312\\tsmallDoses\\n', '9083\\t6.338220\\t1.131305\\tsmallDoses\\n', '47744\\t8.254926\\t0.710694\\tlargeDoses\\n', '71372\\t16.067108\\t0.974142\\tdidntLike\\n', '37980\\t1.723201\\t0.310488\\tdidntLike\\n', '42385\\t3.785045\\t0.876904\\tdidntLike\\n', '22687\\t2.557561\\t0.123738\\tdidntLike\\n', '39512\\t9.852220\\t1.095171\\tlargeDoses\\n', '11885\\t3.679147\\t1.557205\\tsmallDoses\\n', '4944\\t9.789681\\t0.852971\\tsmallDoses\\n', '73230\\t14.958998\\t0.526707\\tdidntLike\\n', '17585\\t11.182148\\t1.288459\\tlargeDoses\\n', '68737\\t7.528533\\t1.657487\\tdidntLike\\n', '13818\\t5.253802\\t1.378603\\tsmallDoses\\n', '31662\\t13.946752\\t1.426657\\tlargeDoses\\n', '86686\\t15.557263\\t1.430029\\tdidntLike\\n', '43214\\t12.483550\\t0.688513\\tlargeDoses\\n', '24091\\t2.317302\\t1.411137\\tdidntLike\\n', '52544\\t10.069724\\t0.766119\\tlargeDoses\\n', '61861\\t5.792231\\t1.615483\\tdidntLike\\n', '47903\\t4.138435\\t0.475994\\tdidntLike\\n', '37190\\t12.929517\\t0.304378\\tlargeDoses\\n', '6013\\t9.378238\\t0.307392\\tsmallDoses\\n', '27223\\t8.361362\\t1.643204\\tlargeDoses\\n', '69027\\t7.939406\\t1.325042\\tdidntLike\\n', '78642\\t10.735384\\t0.705788\\tdidntLike\\n', '30254\\t11.592723\\t0.286188\\tlargeDoses\\n', '21704\\t10.098356\\t0.704748\\tlargeDoses\\n', '34985\\t9.299025\\t0.545337\\tlargeDoses\\n', '31316\\t11.158297\\t0.218067\\tlargeDoses\\n', '76368\\t16.143900\\t0.558388\\tdidntLike\\n', '27953\\t10.971700\\t1.221787\\tlargeDoses\\n', '152\\t0.000000\\t0.681478\\tsmallDoses\\n', '9146\\t3.178961\\t1.292692\\tsmallDoses\\n', '75346\\t17.625350\\t0.339926\\tdidntLike\\n', '26376\\t1.995833\\t0.267826\\tdidntLike\\n', '35255\\t10.640467\\t0.416181\\tlargeDoses\\n', '19198\\t9.628339\\t0.985462\\tlargeDoses\\n', '12518\\t4.662664\\t0.495403\\tsmallDoses\\n', '25453\\t5.754047\\t1.382742\\tsmallDoses\\n', '12530\\t0.000000\\t0.037146\\tsmallDoses\\n', '62230\\t9.334332\\t0.198118\\tdidntLike\\n', '9517\\t3.846162\\t0.619968\\tsmallDoses\\n', '71161\\t10.685084\\t0.678179\\tdidntLike\\n', '1593\\t4.752134\\t0.359205\\tsmallDoses\\n', '33794\\t0.697630\\t0.966786\\tdidntLike\\n', '39710\\t10.365836\\t0.505898\\tlargeDoses\\n', '16941\\t0.461478\\t0.352865\\tsmallDoses\\n', '69209\\t11.339537\\t1.068740\\tdidntLike\\n', '4446\\t5.420280\\t0.127310\\tsmallDoses\\n', '9347\\t3.469955\\t1.619947\\tsmallDoses\\n', '55635\\t8.517067\\t0.994858\\tlargeDoses\\n', '65889\\t8.306512\\t0.413690\\tdidntLike\\n', '10753\\t2.628690\\t0.444320\\tsmallDoses\\n', '7055\\t0.000000\\t0.802985\\tsmallDoses\\n', '7905\\t0.000000\\t1.170397\\tsmallDoses\\n', '53447\\t7.298767\\t1.582346\\tlargeDoses\\n', '9194\\t7.331319\\t1.277988\\tsmallDoses\\n', '61914\\t9.392269\\t0.151617\\tdidntLike\\n', '15630\\t5.541201\\t1.180596\\tsmallDoses\\n', '79194\\t15.149460\\t0.537540\\tdidntLike\\n', '12268\\t5.515189\\t0.250562\\tsmallDoses\\n', '33682\\t7.728898\\t0.920494\\tlargeDoses\\n', '26080\\t11.318785\\t1.510979\\tlargeDoses\\n', '19119\\t3.574709\\t1.531514\\tsmallDoses\\n', '30902\\t7.350965\\t0.026332\\tlargeDoses\\n', '63039\\t7.122363\\t1.630177\\tdidntLike\\n', '51136\\t1.828412\\t1.013702\\tdidntLike\\n', '35262\\t10.117989\\t1.156862\\tlargeDoses\\n', '42776\\t11.309897\\t0.086291\\tlargeDoses\\n', '64191\\t8.342034\\t1.388569\\tdidntLike\\n', '15436\\t0.241714\\t0.715577\\tsmallDoses\\n', '14402\\t10.482619\\t1.694972\\tsmallDoses\\n', '6341\\t9.289510\\t1.428879\\tsmallDoses\\n', '14113\\t4.269419\\t0.134181\\tsmallDoses\\n', '6390\\t0.000000\\t0.189456\\tsmallDoses\\n', '8794\\t0.817119\\t0.143668\\tsmallDoses\\n', '43432\\t1.508394\\t0.652651\\tdidntLike\\n', '38334\\t9.359918\\t0.052262\\tlargeDoses\\n', '34068\\t10.052333\\t0.550423\\tlargeDoses\\n', '30819\\t11.111660\\t0.989159\\tlargeDoses\\n', '22239\\t11.265971\\t0.724054\\tlargeDoses\\n', '28725\\t10.383830\\t0.254836\\tlargeDoses\\n', '57071\\t3.878569\\t1.377983\\tdidntLike\\n', '72420\\t13.679237\\t0.025346\\tdidntLike\\n', '28294\\t10.526846\\t0.781569\\tlargeDoses\\n', '9896\\t0.000000\\t0.924198\\tsmallDoses\\n', '65821\\t4.106727\\t1.085669\\tdidntLike\\n', '7645\\t8.118856\\t1.470686\\tsmallDoses\\n', '71289\\t7.796874\\t0.052336\\tdidntLike\\n', '5128\\t2.789669\\t1.093070\\tsmallDoses\\n', '13711\\t6.226962\\t0.287251\\tsmallDoses\\n', '22240\\t10.169548\\t1.660104\\tlargeDoses\\n', '15092\\t0.000000\\t1.370549\\tsmallDoses\\n', '5017\\t7.513353\\t0.137348\\tsmallDoses\\n', '10141\\t8.240793\\t0.099735\\tsmallDoses\\n', '35570\\t14.612797\\t1.247390\\tlargeDoses\\n', '46893\\t3.562976\\t0.445386\\tdidntLike\\n', '8178\\t3.230482\\t1.331698\\tsmallDoses\\n', '55783\\t3.612548\\t1.551911\\tdidntLike\\n', '1148\\t0.000000\\t0.332365\\tsmallDoses\\n', '10062\\t3.931299\\t0.487577\\tsmallDoses\\n', '74124\\t14.752342\\t1.155160\\tdidntLike\\n', '66603\\t10.261887\\t1.628085\\tdidntLike\\n', '11893\\t2.787266\\t1.570402\\tsmallDoses\\n', '50908\\t15.112319\\t1.324132\\tlargeDoses\\n', '39891\\t5.184553\\t0.223382\\tlargeDoses\\n', '65915\\t3.868359\\t0.128078\\tdidntLike\\n', '65678\\t3.507965\\t0.028904\\tdidntLike\\n', '62996\\t11.019254\\t0.427554\\tdidntLike\\n', '36851\\t3.812387\\t0.655245\\tdidntLike\\n', '36669\\t11.056784\\t0.378725\\tlargeDoses\\n', '38876\\t8.826880\\t1.002328\\tlargeDoses\\n', '26878\\t11.173861\\t1.478244\\tlargeDoses\\n', '46246\\t11.506465\\t0.421993\\tlargeDoses\\n', '12761\\t7.798138\\t0.147917\\tlargeDoses\\n', '35282\\t10.155081\\t1.370039\\tlargeDoses\\n', '68306\\t10.645275\\t0.693453\\tdidntLike\\n', '31262\\t9.663200\\t1.521541\\tlargeDoses\\n', '34754\\t10.790404\\t1.312679\\tlargeDoses\\n', '13408\\t2.810534\\t0.219962\\tsmallDoses\\n', '30365\\t9.825999\\t1.388500\\tlargeDoses\\n', '10709\\t1.421316\\t0.677603\\tsmallDoses\\n', '24332\\t11.123219\\t0.809107\\tlargeDoses\\n', '45517\\t13.402206\\t0.661524\\tlargeDoses\\n', '6178\\t1.212255\\t0.836807\\tsmallDoses\\n', '10639\\t1.568446\\t1.297469\\tsmallDoses\\n', '29613\\t3.343473\\t1.312266\\tdidntLike\\n', '22392\\t5.400155\\t0.193494\\tdidntLike\\n', '51126\\t3.818754\\t0.590905\\tdidntLike\\n', '53644\\t7.973845\\t0.307364\\tlargeDoses\\n', '51417\\t9.078824\\t0.734876\\tlargeDoses\\n', '24859\\t0.153467\\t0.766619\\tdidntLike\\n', '61732\\t8.325167\\t0.028479\\tdidntLike\\n', '71128\\t7.092089\\t1.216733\\tdidntLike\\n', '27276\\t5.192485\\t1.094409\\tlargeDoses\\n', '30453\\t10.340791\\t1.087721\\tlargeDoses\\n', '18670\\t2.077169\\t1.019775\\tsmallDoses\\n', '70600\\t10.151966\\t0.993105\\tdidntLike\\n', '12683\\t0.046826\\t0.809614\\tsmallDoses\\n', '81597\\t11.221874\\t1.395015\\tdidntLike\\n', '69959\\t14.497963\\t1.019254\\tdidntLike\\n', '8124\\t3.554508\\t0.533462\\tsmallDoses\\n', '18867\\t3.522673\\t0.086725\\tsmallDoses\\n', '80886\\t14.531655\\t0.380172\\tdidntLike\\n', '55895\\t3.027528\\t0.885457\\tdidntLike\\n', '31587\\t1.845967\\t0.488985\\tdidntLike\\n', '10591\\t10.226164\\t0.804403\\tlargeDoses\\n', '70096\\t10.965926\\t1.212328\\tdidntLike\\n', '53151\\t2.129921\\t1.477378\\tdidntLike\\n', '11992\\t0.000000\\t1.606849\\tsmallDoses\\n', '33114\\t9.489005\\t0.827814\\tlargeDoses\\n', '7413\\t0.000000\\t1.020797\\tsmallDoses\\n', '10583\\t0.000000\\t1.270167\\tsmallDoses\\n', '58668\\t6.556676\\t0.055183\\tdidntLike\\n', '35018\\t9.959588\\t0.060020\\tlargeDoses\\n', '70843\\t7.436056\\t1.479856\\tdidntLike\\n', '14011\\t0.404888\\t0.459517\\tsmallDoses\\n', '35015\\t9.952942\\t1.650279\\tlargeDoses\\n', '70839\\t15.600252\\t0.021935\\tdidntLike\\n', '3024\\t2.723846\\t0.387455\\tsmallDoses\\n', '5526\\t0.513866\\t1.323448\\tsmallDoses\\n', '5113\\t0.000000\\t0.861859\\tsmallDoses\\n', '20851\\t7.280602\\t1.438470\\tsmallDoses\\n', '40999\\t9.161978\\t1.110180\\tlargeDoses\\n', '15823\\t0.991725\\t0.730979\\tsmallDoses\\n', '35432\\t7.398380\\t0.684218\\tlargeDoses\\n', '53711\\t12.149747\\t1.389088\\tlargeDoses\\n', '64371\\t9.149678\\t0.874905\\tdidntLike\\n', '9289\\t9.666576\\t1.370330\\tsmallDoses\\n', '60613\\t3.620110\\t0.287767\\tdidntLike\\n', '18338\\t5.238800\\t1.253646\\tsmallDoses\\n', '22845\\t14.715782\\t1.503758\\tlargeDoses\\n', '74676\\t14.445740\\t1.211160\\tdidntLike\\n', '34143\\t13.609528\\t0.364240\\tlargeDoses\\n', '14153\\t3.141585\\t0.424280\\tsmallDoses\\n', '9327\\t0.000000\\t0.120947\\tsmallDoses\\n', '18991\\t0.454750\\t1.033280\\tsmallDoses\\n', '9193\\t0.510310\\t0.016395\\tsmallDoses\\n', '2285\\t3.864171\\t0.616349\\tsmallDoses\\n', '9493\\t6.724021\\t0.563044\\tsmallDoses\\n', '2371\\t4.289375\\t0.012563\\tsmallDoses\\n', '13963\\t0.000000\\t1.437030\\tsmallDoses\\n', '2299\\t3.733617\\t0.698269\\tsmallDoses\\n', '5262\\t2.002589\\t1.380184\\tsmallDoses\\n', '4659\\t2.502627\\t0.184223\\tsmallDoses\\n', '17582\\t6.382129\\t0.876581\\tsmallDoses\\n', '27750\\t8.546741\\t0.128706\\tlargeDoses\\n', '9868\\t2.694977\\t0.432818\\tsmallDoses\\n', '18333\\t3.951256\\t0.333300\\tsmallDoses\\n', '3780\\t9.856183\\t0.329181\\tsmallDoses\\n', '18190\\t2.068962\\t0.429927\\tsmallDoses\\n', '11145\\t3.410627\\t0.631838\\tsmallDoses\\n', '68846\\t9.974715\\t0.669787\\tdidntLike\\n', '26575\\t10.650102\\t0.866627\\tlargeDoses\\n', '48111\\t9.134528\\t0.728045\\tlargeDoses\\n', '43757\\t7.882601\\t1.332446\\tlargeDoses\\n']\n"
     ]
    }
   ],
   "source": [
    "lines = fr.readlines()\n",
    "print(lines)"
   ]
  },
  {
   "cell_type": "code",
   "execution_count": 85,
   "metadata": {},
   "outputs": [
    {
     "name": "stdout",
     "output_type": "stream",
     "text": [
      "14488\t7.153469\t1.673904\tsmallDoses\n",
      "\n"
     ]
    }
   ],
   "source": [
    "line = lines[index]\n",
    "line"
   ]
  },
  {
   "cell_type": "code",
   "execution_count": 86,
   "metadata": {},
   "outputs": [
    {
     "name": "stdout",
     "output_type": "stream",
     "text": [
      "14488\t7.153469\t1.673904\tsmallDoses\n"
     ]
    },
    {
     "data": {
      "text/plain": [
       "str"
      ]
     },
     "execution_count": 86,
     "metadata": {},
     "output_type": "execute_result"
    }
   ],
   "source": [
    "# 문자열 양 옆 공백(줄바꿈(\\n) 포함) 제거\n",
    "line = line.strip()\n",
    "print(line)\n",
    "line"
   ]
  },
  {
   "cell_type": "code",
   "execution_count": 87,
   "metadata": {},
   "outputs": [
    {
     "name": "stdout",
     "output_type": "stream",
     "text": [
      "['14488', '7.153469', '1.673904', 'smallDoses']\n"
     ]
    },
    {
     "data": {
      "text/plain": [
       "list"
      ]
     },
     "execution_count": 87,
     "metadata": {},
     "output_type": "execute_result"
    }
   ],
   "source": [
    "# 문자열을 탭('\\t')을 기준으로 단어로 분리하여 리스트로 반환\n",
    "listFromLine = line.split('\\t')\n",
    "print(listFromLine)\n",
    "type(listFromLine)"
   ]
  },
  {
   "cell_type": "code",
   "execution_count": 88,
   "metadata": {},
   "outputs": [
    {
     "name": "stdout",
     "output_type": "stream",
     "text": [
      "[[4.092000e+04 8.326976e+00 9.539520e-01]\n",
      " [1.448800e+04 7.153469e+00 1.673904e+00]\n",
      " [0.000000e+00 0.000000e+00 0.000000e+00]\n",
      " ...\n",
      " [0.000000e+00 0.000000e+00 0.000000e+00]\n",
      " [0.000000e+00 0.000000e+00 0.000000e+00]\n",
      " [0.000000e+00 0.000000e+00 0.000000e+00]]\n"
     ]
    }
   ],
   "source": [
    "# returnMat의 인덱스 로우에 위 리스트의 첫 번째부터 세 번째 값을 저장\n",
    "returnMat[index, :] = listFromLine[0:3]\n",
    "print(returnMat)"
   ]
  },
  {
   "cell_type": "code",
   "execution_count": 89,
   "metadata": {},
   "outputs": [
    {
     "data": {
      "text/plain": [
       "['largeDoses', 'smallDoses']"
      ]
     },
     "execution_count": 89,
     "metadata": {},
     "output_type": "execute_result"
    }
   ],
   "source": [
    "# classLabelVector 리스트에 listFromLine 리스트의 마지막 값을 저장\n",
    "classLabelVector.append(listFromLine[-1])\n",
    "classLabelVector"
   ]
  },
  {
   "cell_type": "code",
   "execution_count": 84,
   "metadata": {},
   "outputs": [],
   "source": [
    "# 인덱스 1 증가하고 반복(for 문)\n",
    "index += 1"
   ]
  },
  {
   "cell_type": "markdown",
   "metadata": {},
   "source": [
    "##### Listing 2.2 Enhanced text record to NumPy parsing code for Python 3"
   ]
  },
  {
   "cell_type": "code",
   "execution_count": 23,
   "metadata": {},
   "outputs": [],
   "source": [
    "import numpy as np\n",
    "\n",
    "# 수정본\n",
    "#   - 파일을 한 번만 연다\n",
    "#   - 즉, open(), readlines()를 한 번만 호출\n",
    "def file2matrix(filename):\n",
    "    fr = open(filename)\n",
    "    index = 0                     # 반환할 행렬의 로우 인덱스\n",
    "    classLabelVec = []            # 클래스 레이블 변수 준비\n",
    "    for line in fr.readlines():\n",
    "        # 문자열 양 옆 공백 제거 후 탭('\\t')을 기준으로 단어로 분리한 리스트\n",
    "        lineList = line.strip().split('\\t')\n",
    "        \n",
    "        # lineList의 마지막 컬럼값(레이블)을 클래스 레이블 변수에 추가\n",
    "        classLabelVec.append(lineList[-1])\n",
    "        \n",
    "        # List Comprehension in Python\n",
    "        feature = [float(value) for value in lineList[0:3]]\n",
    "        \n",
    "        # 처음 읽은 라인이면 returnMat 변수 초기화, 아니면 returnMat 변수에 행 추가\n",
    "        # 아래 if else 문을 한 문장으로 표현\n",
    "        returnMat = np.vstack((returnMat, feature)) \\\n",
    "                        if index != 0 else np.array(feature)\n",
    "        #if (index == 0):\n",
    "        #    returnMat = np.array(feature)\n",
    "        #else:\n",
    "        #    returnMat = np.vstack((returnMat, feature))\n",
    "        index += 1\n",
    "    return returnMat, classLabelVec"
   ]
  },
  {
   "cell_type": "markdown",
   "metadata": {},
   "source": [
    "### 수정된 file2matrix 함수 설명"
   ]
  },
  {
   "cell_type": "code",
   "execution_count": 24,
   "metadata": {},
   "outputs": [],
   "source": [
    "filename = 'datingTestSet.txt'\n",
    "fr = open(filename)\n",
    "lines = fr.readlines()\n",
    "index = 0"
   ]
  },
  {
   "cell_type": "markdown",
   "metadata": {
    "collapsed": true
   },
   "source": [
    "### $ Python List Comprehension\n",
    "[x for x in iterable]"
   ]
  },
  {
   "cell_type": "code",
   "execution_count": 25,
   "metadata": {},
   "outputs": [
    {
     "data": {
      "text/plain": [
       "['40920', '8.326976', '0.953952', 'largeDoses']"
      ]
     },
     "execution_count": 25,
     "metadata": {},
     "output_type": "execute_result"
    }
   ],
   "source": [
    "# List Comprehension in Python\n",
    "[value for value in lines[index].strip().split('\\t')]"
   ]
  },
  {
   "cell_type": "code",
   "execution_count": 26,
   "metadata": {},
   "outputs": [
    {
     "name": "stdout",
     "output_type": "stream",
     "text": [
      "['40920', '8.326976', '0.953952', 'largeDoses']\n",
      "[40920.0, 8.326976, 0.953952]\n"
     ]
    }
   ],
   "source": [
    "lineList = lines[index].strip().split('\\t')\n",
    "feature = [float(value) for value in lineList[0:3]]\n",
    "print(lineList)\n",
    "print(feature)"
   ]
  },
  {
   "cell_type": "code",
   "execution_count": 27,
   "metadata": {},
   "outputs": [
    {
     "name": "stdout",
     "output_type": "stream",
     "text": [
      "[4.092000e+04 8.326976e+00 9.539520e-01]\n"
     ]
    }
   ],
   "source": [
    "# 처음 읽은 라인이면 returnMat 변수 초기화, 아니면 returnMat 변수에 행 추가\n",
    "returnMat = np.vstack((returnMat, feature)) if index != 0 else np.array(feature)\n",
    "print(returnMat)"
   ]
  },
  {
   "cell_type": "code",
   "execution_count": 28,
   "metadata": {},
   "outputs": [
    {
     "name": "stdout",
     "output_type": "stream",
     "text": [
      "[4.092000e+04 8.326976e+00 9.539520e-01]\n"
     ]
    }
   ],
   "source": [
    "# 위 문장은 아래의 if ~ else ~ 를 간략히 표현한 것\n",
    "if (index == 0):\n",
    "    returnMat = np.array(feature)\n",
    "else:\n",
    "    returnMat = np.vstack((returnMat, feature))\n",
    "print(returnMat)"
   ]
  },
  {
   "cell_type": "markdown",
   "metadata": {},
   "source": [
    "### $ numpy.vstack\n",
    "* numpy 배열들을 입력받아 수직으로 쌓은 후 numpy 배열 반환\n",
    "* 첫 번째 축(차원)을 제외한 모든 축의 크기가 같아야 함\n",
    "* https://docs.scipy.org/doc/numpy/reference/generated/numpy.vstack.html"
   ]
  },
  {
   "cell_type": "code",
   "execution_count": 90,
   "metadata": {},
   "outputs": [
    {
     "data": {
      "text/plain": [
       "array([[1, 2, 3],\n",
       "       [2, 3, 4],\n",
       "       [3, 4, 5]])"
      ]
     },
     "execution_count": 90,
     "metadata": {},
     "output_type": "execute_result"
    }
   ],
   "source": [
    "a = np.array([1, 2, 3])\n",
    "b = np.array([2, 3, 4])\n",
    "c = np.array([3, 4, 5])\n",
    "np.vstack((a, b, c))"
   ]
  },
  {
   "cell_type": "code",
   "execution_count": 91,
   "metadata": {
    "scrolled": true
   },
   "outputs": [
    {
     "data": {
      "text/plain": [
       "array([[1, 2, 3],\n",
       "       [2, 3, 4],\n",
       "       [3, 4, 5],\n",
       "       [9, 8, 7]])"
      ]
     },
     "execution_count": 91,
     "metadata": {},
     "output_type": "execute_result"
    }
   ],
   "source": [
    "np.vstack((a, b, c, [9, 8, 7]))"
   ]
  },
  {
   "cell_type": "code",
   "execution_count": 29,
   "metadata": {},
   "outputs": [],
   "source": [
    "a = np.array([[1, 2,], [3, 4]])\n",
    "b = np.array([[11, 22], [33, 44]])\n",
    "c = np.array([[4, 5], [5, 4],\n",
    "              [9, 8], [8, 9]])\n",
    "d = np.array([[1, 2, 3], [4, 5, 6]])"
   ]
  },
  {
   "cell_type": "code",
   "execution_count": 30,
   "metadata": {},
   "outputs": [
    {
     "data": {
      "text/plain": [
       "array([[ 1,  2],\n",
       "       [ 3,  4],\n",
       "       [11, 22],\n",
       "       [33, 44]])"
      ]
     },
     "execution_count": 30,
     "metadata": {},
     "output_type": "execute_result"
    }
   ],
   "source": [
    "np.vstack((a, b))"
   ]
  },
  {
   "cell_type": "code",
   "execution_count": 31,
   "metadata": {},
   "outputs": [
    {
     "data": {
      "text/plain": [
       "array([[1, 2],\n",
       "       [3, 4],\n",
       "       [4, 5],\n",
       "       [5, 4],\n",
       "       [9, 8],\n",
       "       [8, 9]])"
      ]
     },
     "execution_count": 31,
     "metadata": {},
     "output_type": "execute_result"
    }
   ],
   "source": [
    "np.vstack((a, c))"
   ]
  },
  {
   "cell_type": "code",
   "execution_count": 32,
   "metadata": {},
   "outputs": [
    {
     "data": {
      "text/plain": [
       "array([[ 1,  2],\n",
       "       [ 3,  4],\n",
       "       [11, 22],\n",
       "       [33, 44],\n",
       "       [ 4,  5],\n",
       "       [ 5,  4],\n",
       "       [ 9,  8],\n",
       "       [ 8,  9]])"
      ]
     },
     "execution_count": 32,
     "metadata": {},
     "output_type": "execute_result"
    }
   ],
   "source": [
    "np.vstack((a, b, c))"
   ]
  },
  {
   "cell_type": "code",
   "execution_count": 33,
   "metadata": {},
   "outputs": [
    {
     "ename": "ValueError",
     "evalue": "all the input array dimensions except for the concatenation axis must match exactly",
     "output_type": "error",
     "traceback": [
      "\u001b[1;31m---------------------------------------------------------------------------\u001b[0m",
      "\u001b[1;31mValueError\u001b[0m                                Traceback (most recent call last)",
      "\u001b[1;32m<ipython-input-33-d793b8033c80>\u001b[0m in \u001b[0;36m<module>\u001b[1;34m()\u001b[0m\n\u001b[1;32m----> 1\u001b[1;33m \u001b[0mnp\u001b[0m\u001b[1;33m.\u001b[0m\u001b[0mvstack\u001b[0m\u001b[1;33m(\u001b[0m\u001b[1;33m(\u001b[0m\u001b[0ma\u001b[0m\u001b[1;33m,\u001b[0m \u001b[0md\u001b[0m\u001b[1;33m)\u001b[0m\u001b[1;33m)\u001b[0m\u001b[1;33m\u001b[0m\u001b[0m\n\u001b[0m",
      "\u001b[1;32mD:\\anaconda\\envs\\da36\\lib\\site-packages\\numpy\\core\\shape_base.py\u001b[0m in \u001b[0;36mvstack\u001b[1;34m(tup)\u001b[0m\n\u001b[0;32m    232\u001b[0m \u001b[1;33m\u001b[0m\u001b[0m\n\u001b[0;32m    233\u001b[0m     \"\"\"\n\u001b[1;32m--> 234\u001b[1;33m     \u001b[1;32mreturn\u001b[0m \u001b[0m_nx\u001b[0m\u001b[1;33m.\u001b[0m\u001b[0mconcatenate\u001b[0m\u001b[1;33m(\u001b[0m\u001b[1;33m[\u001b[0m\u001b[0matleast_2d\u001b[0m\u001b[1;33m(\u001b[0m\u001b[0m_m\u001b[0m\u001b[1;33m)\u001b[0m \u001b[1;32mfor\u001b[0m \u001b[0m_m\u001b[0m \u001b[1;32min\u001b[0m \u001b[0mtup\u001b[0m\u001b[1;33m]\u001b[0m\u001b[1;33m,\u001b[0m \u001b[1;36m0\u001b[0m\u001b[1;33m)\u001b[0m\u001b[1;33m\u001b[0m\u001b[0m\n\u001b[0m\u001b[0;32m    235\u001b[0m \u001b[1;33m\u001b[0m\u001b[0m\n\u001b[0;32m    236\u001b[0m \u001b[1;32mdef\u001b[0m \u001b[0mhstack\u001b[0m\u001b[1;33m(\u001b[0m\u001b[0mtup\u001b[0m\u001b[1;33m)\u001b[0m\u001b[1;33m:\u001b[0m\u001b[1;33m\u001b[0m\u001b[0m\n",
      "\u001b[1;31mValueError\u001b[0m: all the input array dimensions except for the concatenation axis must match exactly"
     ]
    }
   ],
   "source": [
    "np.vstack((a, d))"
   ]
  },
  {
   "cell_type": "code",
   "execution_count": 34,
   "metadata": {},
   "outputs": [
    {
     "data": {
      "text/plain": [
       "array([[[0., 0., 0., 0., 0.],\n",
       "        [0., 0., 0., 0., 0.],\n",
       "        [0., 0., 0., 0., 0.],\n",
       "        [0., 0., 0., 0., 0.]],\n",
       "\n",
       "       [[0., 0., 0., 0., 0.],\n",
       "        [0., 0., 0., 0., 0.],\n",
       "        [0., 0., 0., 0., 0.],\n",
       "        [0., 0., 0., 0., 0.]],\n",
       "\n",
       "       [[0., 0., 0., 0., 0.],\n",
       "        [0., 0., 0., 0., 0.],\n",
       "        [0., 0., 0., 0., 0.],\n",
       "        [0., 0., 0., 0., 0.]]])"
      ]
     },
     "execution_count": 34,
     "metadata": {},
     "output_type": "execute_result"
    }
   ],
   "source": [
    "a = np.zeros((3, 4, 5)); a"
   ]
  },
  {
   "cell_type": "code",
   "execution_count": 35,
   "metadata": {},
   "outputs": [
    {
     "data": {
      "text/plain": [
       "array([[[1., 1., 1., 1.],\n",
       "        [1., 1., 1., 1.],\n",
       "        [1., 1., 1., 1.],\n",
       "        [1., 1., 1., 1.]],\n",
       "\n",
       "       [[1., 1., 1., 1.],\n",
       "        [1., 1., 1., 1.],\n",
       "        [1., 1., 1., 1.],\n",
       "        [1., 1., 1., 1.]]])"
      ]
     },
     "execution_count": 35,
     "metadata": {},
     "output_type": "execute_result"
    }
   ],
   "source": [
    "b = np.ones((2, 4, 4)); b"
   ]
  },
  {
   "cell_type": "code",
   "execution_count": 36,
   "metadata": {},
   "outputs": [
    {
     "ename": "ValueError",
     "evalue": "all the input array dimensions except for the concatenation axis must match exactly",
     "output_type": "error",
     "traceback": [
      "\u001b[1;31m---------------------------------------------------------------------------\u001b[0m",
      "\u001b[1;31mValueError\u001b[0m                                Traceback (most recent call last)",
      "\u001b[1;32m<ipython-input-36-08bd87a2bae5>\u001b[0m in \u001b[0;36m<module>\u001b[1;34m()\u001b[0m\n\u001b[1;32m----> 1\u001b[1;33m \u001b[0mnp\u001b[0m\u001b[1;33m.\u001b[0m\u001b[0mvstack\u001b[0m\u001b[1;33m(\u001b[0m\u001b[1;33m(\u001b[0m\u001b[0ma\u001b[0m\u001b[1;33m,\u001b[0m \u001b[0mb\u001b[0m\u001b[1;33m)\u001b[0m\u001b[1;33m)\u001b[0m\u001b[1;33m\u001b[0m\u001b[0m\n\u001b[0m",
      "\u001b[1;32mD:\\anaconda\\envs\\da36\\lib\\site-packages\\numpy\\core\\shape_base.py\u001b[0m in \u001b[0;36mvstack\u001b[1;34m(tup)\u001b[0m\n\u001b[0;32m    232\u001b[0m \u001b[1;33m\u001b[0m\u001b[0m\n\u001b[0;32m    233\u001b[0m     \"\"\"\n\u001b[1;32m--> 234\u001b[1;33m     \u001b[1;32mreturn\u001b[0m \u001b[0m_nx\u001b[0m\u001b[1;33m.\u001b[0m\u001b[0mconcatenate\u001b[0m\u001b[1;33m(\u001b[0m\u001b[1;33m[\u001b[0m\u001b[0matleast_2d\u001b[0m\u001b[1;33m(\u001b[0m\u001b[0m_m\u001b[0m\u001b[1;33m)\u001b[0m \u001b[1;32mfor\u001b[0m \u001b[0m_m\u001b[0m \u001b[1;32min\u001b[0m \u001b[0mtup\u001b[0m\u001b[1;33m]\u001b[0m\u001b[1;33m,\u001b[0m \u001b[1;36m0\u001b[0m\u001b[1;33m)\u001b[0m\u001b[1;33m\u001b[0m\u001b[0m\n\u001b[0m\u001b[0;32m    235\u001b[0m \u001b[1;33m\u001b[0m\u001b[0m\n\u001b[0;32m    236\u001b[0m \u001b[1;32mdef\u001b[0m \u001b[0mhstack\u001b[0m\u001b[1;33m(\u001b[0m\u001b[0mtup\u001b[0m\u001b[1;33m)\u001b[0m\u001b[1;33m:\u001b[0m\u001b[1;33m\u001b[0m\u001b[0m\n",
      "\u001b[1;31mValueError\u001b[0m: all the input array dimensions except for the concatenation axis must match exactly"
     ]
    }
   ],
   "source": [
    "np.vstack((a, b))"
   ]
  },
  {
   "cell_type": "code",
   "execution_count": 37,
   "metadata": {},
   "outputs": [
    {
     "data": {
      "text/plain": [
       "array([[[1., 1., 1., 1., 1.],\n",
       "        [1., 1., 1., 1., 1.],\n",
       "        [1., 1., 1., 1., 1.],\n",
       "        [1., 1., 1., 1., 1.]],\n",
       "\n",
       "       [[1., 1., 1., 1., 1.],\n",
       "        [1., 1., 1., 1., 1.],\n",
       "        [1., 1., 1., 1., 1.],\n",
       "        [1., 1., 1., 1., 1.]]])"
      ]
     },
     "execution_count": 37,
     "metadata": {},
     "output_type": "execute_result"
    }
   ],
   "source": [
    "b = np.ones((2, 4, 5)); b"
   ]
  },
  {
   "cell_type": "code",
   "execution_count": 38,
   "metadata": {},
   "outputs": [
    {
     "data": {
      "text/plain": [
       "array([[[0., 0., 0., 0., 0.],\n",
       "        [0., 0., 0., 0., 0.],\n",
       "        [0., 0., 0., 0., 0.],\n",
       "        [0., 0., 0., 0., 0.]],\n",
       "\n",
       "       [[0., 0., 0., 0., 0.],\n",
       "        [0., 0., 0., 0., 0.],\n",
       "        [0., 0., 0., 0., 0.],\n",
       "        [0., 0., 0., 0., 0.]],\n",
       "\n",
       "       [[0., 0., 0., 0., 0.],\n",
       "        [0., 0., 0., 0., 0.],\n",
       "        [0., 0., 0., 0., 0.],\n",
       "        [0., 0., 0., 0., 0.]],\n",
       "\n",
       "       [[1., 1., 1., 1., 1.],\n",
       "        [1., 1., 1., 1., 1.],\n",
       "        [1., 1., 1., 1., 1.],\n",
       "        [1., 1., 1., 1., 1.]],\n",
       "\n",
       "       [[1., 1., 1., 1., 1.],\n",
       "        [1., 1., 1., 1., 1.],\n",
       "        [1., 1., 1., 1., 1.],\n",
       "        [1., 1., 1., 1., 1.]]])"
      ]
     },
     "execution_count": 38,
     "metadata": {},
     "output_type": "execute_result"
    }
   ],
   "source": [
    "np.vstack((a, b))"
   ]
  },
  {
   "cell_type": "markdown",
   "metadata": {},
   "source": [
    "##### -- end of numpy.vstack()"
   ]
  },
  {
   "cell_type": "code",
   "execution_count": 39,
   "metadata": {},
   "outputs": [
    {
     "data": {
      "text/plain": [
       "<module 'kNN' from 'D:\\\\DEV64\\\\dev_python\\\\machinelearninginaction\\\\Ch02\\\\kNN.py'>"
      ]
     },
     "execution_count": 39,
     "metadata": {},
     "output_type": "execute_result"
    }
   ],
   "source": [
    "import kNN\n",
    "import imp\n",
    "imp.reload(kNN)"
   ]
  },
  {
   "cell_type": "code",
   "execution_count": 40,
   "metadata": {},
   "outputs": [],
   "source": [
    "datingDataMat, datingLabels = kNN.file2matrix('datingTestSet.txt')"
   ]
  },
  {
   "cell_type": "code",
   "execution_count": 41,
   "metadata": {},
   "outputs": [
    {
     "name": "stdout",
     "output_type": "stream",
     "text": [
      "[[4.0920000e+04 8.3269760e+00 9.5395200e-01]\n",
      " [1.4488000e+04 7.1534690e+00 1.6739040e+00]\n",
      " [2.6052000e+04 1.4418710e+00 8.0512400e-01]\n",
      " ...\n",
      " [2.6575000e+04 1.0650102e+01 8.6662700e-01]\n",
      " [4.8111000e+04 9.1345280e+00 7.2804500e-01]\n",
      " [4.3757000e+04 7.8826010e+00 1.3324460e+00]]\n",
      "1000\n"
     ]
    }
   ],
   "source": [
    "print(datingDataMat)\n",
    "print(len(datingDataMat))"
   ]
  },
  {
   "cell_type": "code",
   "execution_count": 42,
   "metadata": {},
   "outputs": [
    {
     "data": {
      "text/plain": [
       "['largeDoses',\n",
       " 'smallDoses',\n",
       " 'didntLike',\n",
       " 'didntLike',\n",
       " 'didntLike',\n",
       " 'didntLike',\n",
       " 'largeDoses',\n",
       " 'largeDoses',\n",
       " 'didntLike',\n",
       " 'largeDoses',\n",
       " 'didntLike',\n",
       " 'didntLike',\n",
       " 'smallDoses',\n",
       " 'didntLike',\n",
       " 'didntLike',\n",
       " 'didntLike',\n",
       " 'didntLike',\n",
       " 'didntLike',\n",
       " 'smallDoses',\n",
       " 'largeDoses']"
      ]
     },
     "execution_count": 42,
     "metadata": {},
     "output_type": "execute_result"
    }
   ],
   "source": [
    "datingLabels[0:20]"
   ]
  },
  {
   "cell_type": "code",
   "execution_count": 159,
   "metadata": {},
   "outputs": [],
   "source": [
    "# 원본 테스트\n",
    "#datingDataMat2, datingLabels2 = file2matrix_p2('datingTestSet.txt')\n",
    "#print(datingDataMat2)\n",
    "#print(len(datingDataMat2))\n",
    "#datingLabels2[0:20]"
   ]
  },
  {
   "cell_type": "markdown",
   "metadata": {
    "collapsed": true
   },
   "source": [
    "### !NumPy의 array와 Python의 array를 혼용하지 말자.!"
   ]
  },
  {
   "cell_type": "markdown",
   "metadata": {},
   "source": [
    "## 2.2.2 Analyze: creating scatter plots with Matplotlib\n",
    "  - 산포도를 통해 헬렌이 좋아할 사람을 분류할 수 있는 특징들(features)을 찾아보자"
   ]
  },
  {
   "cell_type": "code",
   "execution_count": 43,
   "metadata": {},
   "outputs": [],
   "source": [
    "import numpy as np\n",
    "import matplotlib\n",
    "import matplotlib.pyplot as plt"
   ]
  },
  {
   "cell_type": "code",
   "execution_count": 44,
   "metadata": {},
   "outputs": [
    {
     "data": {
      "text/plain": [
       "<module 'kNN' from 'D:\\\\DEV64\\\\dev_python\\\\machinelearninginaction\\\\Ch02\\\\kNN.py'>"
      ]
     },
     "execution_count": 44,
     "metadata": {},
     "output_type": "execute_result"
    }
   ],
   "source": [
    "import kNN\n",
    "import imp; imp.reload(kNN)"
   ]
  },
  {
   "cell_type": "code",
   "execution_count": 45,
   "metadata": {},
   "outputs": [],
   "source": [
    "datingDataMat, datingLabels = kNN.file2matrix('datingTestSet.txt')\n",
    "title0 = 'The Number of Frequent Flyer Miles Earned Per Year'\n",
    "title1 = 'Percentage of Time Spent Playing Video Games'\n",
    "title2 = 'Liters of Ice Cream Consumed Per Week'\n",
    "data0, data1, data2 = datingDataMat[:, 0], datingDataMat[:, 1], datingDataMat[:, 2]\n",
    "legendString = ['Did Not Like', 'Liked in Small Doses', 'Liked in Large Doses']\n",
    "output = [('b', 20) if x == 'didntLike' \n",
    "                    else ('g', 30) if x == 'smallDoses' \n",
    "                    else ('r', 50) \n",
    "                        for x in datingLabels]"
   ]
  },
  {
   "cell_type": "code",
   "execution_count": 46,
   "metadata": {},
   "outputs": [],
   "source": [
    "colors = [x for (x, y) in output]\n",
    "markers = [y for (x, y) in output]"
   ]
  },
  {
   "cell_type": "code",
   "execution_count": 47,
   "metadata": {},
   "outputs": [
    {
     "data": {
      "text/plain": [
       "['r',\n",
       " 'g',\n",
       " 'b',\n",
       " 'b',\n",
       " 'b',\n",
       " 'b',\n",
       " 'r',\n",
       " 'r',\n",
       " 'b',\n",
       " 'r',\n",
       " 'b',\n",
       " 'b',\n",
       " 'g',\n",
       " 'b',\n",
       " 'b',\n",
       " 'b',\n",
       " 'b',\n",
       " 'b',\n",
       " 'g',\n",
       " 'r',\n",
       " 'g',\n",
       " 'b',\n",
       " 'g',\n",
       " 'r',\n",
       " 'g',\n",
       " 'r',\n",
       " 'g',\n",
       " 'r',\n",
       " 'g',\n",
       " 'b',\n",
       " 'r',\n",
       " 'b',\n",
       " 'r',\n",
       " 'b',\n",
       " 'g',\n",
       " 'b',\n",
       " 'b',\n",
       " 'g',\n",
       " 'r',\n",
       " 'r',\n",
       " 'b',\n",
       " 'g',\n",
       " 'r',\n",
       " 'r',\n",
       " 'r',\n",
       " 'b',\n",
       " 'b',\n",
       " 'b',\n",
       " 'b',\n",
       " 'g',\n",
       " 'g',\n",
       " 'b',\n",
       " 'r',\n",
       " 'g',\n",
       " 'g',\n",
       " 'g',\n",
       " 'g',\n",
       " 'r',\n",
       " 'b',\n",
       " 'g',\n",
       " 'b',\n",
       " 'g',\n",
       " 'g',\n",
       " 'g',\n",
       " 'g',\n",
       " 'g',\n",
       " 'r',\n",
       " 'g',\n",
       " 'r',\n",
       " 'b',\n",
       " 'g',\n",
       " 'r',\n",
       " 'g',\n",
       " 'g',\n",
       " 'b',\n",
       " 'r',\n",
       " 'b',\n",
       " 'b',\n",
       " 'r',\n",
       " 'r',\n",
       " 'b',\n",
       " 'g',\n",
       " 'r',\n",
       " 'b',\n",
       " 'r',\n",
       " 'b',\n",
       " 'g',\n",
       " 'g',\n",
       " 'b',\n",
       " 'b',\n",
       " 'r',\n",
       " 'r',\n",
       " 'b',\n",
       " 'g',\n",
       " 'b',\n",
       " 'r',\n",
       " 'r',\n",
       " 'g',\n",
       " 'b',\n",
       " 'b',\n",
       " 'r',\n",
       " 'b',\n",
       " 'g',\n",
       " 'r',\n",
       " 'r',\n",
       " 'g',\n",
       " 'r',\n",
       " 'r',\n",
       " 'b',\n",
       " 'g',\n",
       " 'r',\n",
       " 'g',\n",
       " 'b',\n",
       " 'r',\n",
       " 'b',\n",
       " 'g',\n",
       " 'b',\n",
       " 'b',\n",
       " 'g',\n",
       " 'r',\n",
       " 'g',\n",
       " 'r',\n",
       " 'g',\n",
       " 'r',\n",
       " 'g',\n",
       " 'b',\n",
       " 'r',\n",
       " 'r',\n",
       " 'r',\n",
       " 'b',\n",
       " 'r',\n",
       " 'g',\n",
       " 'g',\n",
       " 'r',\n",
       " 'b',\n",
       " 'r',\n",
       " 'r',\n",
       " 'r',\n",
       " 'b',\n",
       " 'r',\n",
       " 'b',\n",
       " 'b',\n",
       " 'r',\n",
       " 'r',\n",
       " 'g',\n",
       " 'r',\n",
       " 'r',\n",
       " 'b',\n",
       " 'g',\n",
       " 'r',\n",
       " 'g',\n",
       " 'g',\n",
       " 'r',\n",
       " 'r',\n",
       " 'r',\n",
       " 'b',\n",
       " 'g',\n",
       " 'g',\n",
       " 'b',\n",
       " 'b',\n",
       " 'r',\n",
       " 'g',\n",
       " 'r',\n",
       " 'r',\n",
       " 'b',\n",
       " 'g',\n",
       " 'b',\n",
       " 'r',\n",
       " 'b',\n",
       " 'g',\n",
       " 'r',\n",
       " 'g',\n",
       " 'r',\n",
       " 'b',\n",
       " 'b',\n",
       " 'b',\n",
       " 'r',\n",
       " 'g',\n",
       " 'r',\n",
       " 'b',\n",
       " 'r',\n",
       " 'g',\n",
       " 'b',\n",
       " 'r',\n",
       " 'g',\n",
       " 'g',\n",
       " 'r',\n",
       " 'g',\n",
       " 'r',\n",
       " 'g',\n",
       " 'b',\n",
       " 'b',\n",
       " 'r',\n",
       " 'b',\n",
       " 'r',\n",
       " 'g',\n",
       " 'g',\n",
       " 'g',\n",
       " 'r',\n",
       " 'g',\n",
       " 'g',\n",
       " 'b',\n",
       " 'g',\n",
       " 'g',\n",
       " 'r',\n",
       " 'b',\n",
       " 'r',\n",
       " 'r',\n",
       " 'g',\n",
       " 'b',\n",
       " 'b',\n",
       " 'b',\n",
       " 'g',\n",
       " 'b',\n",
       " 'r',\n",
       " 'r',\n",
       " 'r',\n",
       " 'r',\n",
       " 'g',\n",
       " 'b',\n",
       " 'b',\n",
       " 'b',\n",
       " 'g',\n",
       " 'r',\n",
       " 'g',\n",
       " 'b',\n",
       " 'r',\n",
       " 'b',\n",
       " 'r',\n",
       " 'g',\n",
       " 'g',\n",
       " 'r',\n",
       " 'b',\n",
       " 'r',\n",
       " 'b',\n",
       " 'b',\n",
       " 'g',\n",
       " 'b',\n",
       " 'g',\n",
       " 'g',\n",
       " 'b',\n",
       " 'r',\n",
       " 'b',\n",
       " 'r',\n",
       " 'g',\n",
       " 'r',\n",
       " 'b',\n",
       " 'g',\n",
       " 'r',\n",
       " 'b',\n",
       " 'b',\n",
       " 'b',\n",
       " 'b',\n",
       " 'g',\n",
       " 'r',\n",
       " 'g',\n",
       " 'g',\n",
       " 'r',\n",
       " 'b',\n",
       " 'g',\n",
       " 'b',\n",
       " 'b',\n",
       " 'b',\n",
       " 'r',\n",
       " 'r',\n",
       " 'g',\n",
       " 'b',\n",
       " 'b',\n",
       " 'b',\n",
       " 'g',\n",
       " 'g',\n",
       " 'r',\n",
       " 'b',\n",
       " 'b',\n",
       " 'b',\n",
       " 'g',\n",
       " 'b',\n",
       " 'b',\n",
       " 'g',\n",
       " 'b',\n",
       " 'b',\n",
       " 'b',\n",
       " 'g',\n",
       " 'g',\n",
       " 'r',\n",
       " 'g',\n",
       " 'r',\n",
       " 'r',\n",
       " 'r',\n",
       " 'r',\n",
       " 'b',\n",
       " 'g',\n",
       " 'r',\n",
       " 'b',\n",
       " 'b',\n",
       " 'b',\n",
       " 'r',\n",
       " 'b',\n",
       " 'r',\n",
       " 'g',\n",
       " 'g',\n",
       " 'b',\n",
       " 'r',\n",
       " 'b',\n",
       " 'r',\n",
       " 'g',\n",
       " 'g',\n",
       " 'b',\n",
       " 'g',\n",
       " 'g',\n",
       " 'r',\n",
       " 'b',\n",
       " 'r',\n",
       " 'g',\n",
       " 'b',\n",
       " 'b',\n",
       " 'r',\n",
       " 'r',\n",
       " 'g',\n",
       " 'r',\n",
       " 'r',\n",
       " 'g',\n",
       " 'r',\n",
       " 'b',\n",
       " 'r',\n",
       " 'b',\n",
       " 'r',\n",
       " 'r',\n",
       " 'b',\n",
       " 'r',\n",
       " 'g',\n",
       " 'b',\n",
       " 'r',\n",
       " 'b',\n",
       " 'r',\n",
       " 'g',\n",
       " 'b',\n",
       " 'g',\n",
       " 'g',\n",
       " 'b',\n",
       " 'r',\n",
       " 'b',\n",
       " 'b',\n",
       " 'r',\n",
       " 'r',\n",
       " 'g',\n",
       " 'g',\n",
       " 'r',\n",
       " 'b',\n",
       " 'g',\n",
       " 'r',\n",
       " 'r',\n",
       " 'g',\n",
       " 'g',\n",
       " 'b',\n",
       " 'b',\n",
       " 'b',\n",
       " 'b',\n",
       " 'r',\n",
       " 'g',\n",
       " 'b',\n",
       " 'b',\n",
       " 'r',\n",
       " 'g',\n",
       " 'b',\n",
       " 'b',\n",
       " 'r',\n",
       " 'r',\n",
       " 'r',\n",
       " 'g',\n",
       " 'r',\n",
       " 'g',\n",
       " 'b',\n",
       " 'b',\n",
       " 'b',\n",
       " 'b',\n",
       " 'b',\n",
       " 'r',\n",
       " 'g',\n",
       " 'g',\n",
       " 'b',\n",
       " 'g',\n",
       " 'b',\n",
       " 'r',\n",
       " 'g',\n",
       " 'b',\n",
       " 'r',\n",
       " 'g',\n",
       " 'b',\n",
       " 'r',\n",
       " 'b',\n",
       " 'b',\n",
       " 'r',\n",
       " 'r',\n",
       " 'r',\n",
       " 'r',\n",
       " 'g',\n",
       " 'b',\n",
       " 'b',\n",
       " 'g',\n",
       " 'b',\n",
       " 'r',\n",
       " 'r',\n",
       " 'g',\n",
       " 'b',\n",
       " 'g',\n",
       " 'r',\n",
       " 'g',\n",
       " 'b',\n",
       " 'g',\n",
       " 'g',\n",
       " 'g',\n",
       " 'b',\n",
       " 'b',\n",
       " 'r',\n",
       " 'b',\n",
       " 'b',\n",
       " 'g',\n",
       " 'r',\n",
       " 'b',\n",
       " 'b',\n",
       " 'g',\n",
       " 'r',\n",
       " 'b',\n",
       " 'r',\n",
       " 'b',\n",
       " 'b',\n",
       " 'g',\n",
       " 'g',\n",
       " 'b',\n",
       " 'g',\n",
       " 'g',\n",
       " 'g',\n",
       " 'r',\n",
       " 'b',\n",
       " 'b',\n",
       " 'b',\n",
       " 'r',\n",
       " 'b',\n",
       " 'r',\n",
       " 'b',\n",
       " 'r',\n",
       " 'r',\n",
       " 'b',\n",
       " 'b',\n",
       " 'b',\n",
       " 'r',\n",
       " 'g',\n",
       " 'r',\n",
       " 'r',\n",
       " 'g',\n",
       " 'g',\n",
       " 'b',\n",
       " 'b',\n",
       " 'b',\n",
       " 'g',\n",
       " 'b',\n",
       " 'g',\n",
       " 'g',\n",
       " 'r',\n",
       " 'r',\n",
       " 'r',\n",
       " 'b',\n",
       " 'b',\n",
       " 'r',\n",
       " 'r',\n",
       " 'g',\n",
       " 'r',\n",
       " 'r',\n",
       " 'g',\n",
       " 'r',\n",
       " 'r',\n",
       " 'r',\n",
       " 'g',\n",
       " 'r',\n",
       " 'r',\n",
       " 'b',\n",
       " 'g',\n",
       " 'r',\n",
       " 'g',\n",
       " 'b',\n",
       " 'b',\n",
       " 'b',\n",
       " 'b',\n",
       " 'r',\n",
       " 'r',\n",
       " 'r',\n",
       " 'r',\n",
       " 'g',\n",
       " 'b',\n",
       " 'b',\n",
       " 'b',\n",
       " 'b',\n",
       " 'r',\n",
       " 'b',\n",
       " 'b',\n",
       " 'g',\n",
       " 'b',\n",
       " 'b',\n",
       " 'g',\n",
       " 'r',\n",
       " 'g',\n",
       " 'b',\n",
       " 'g',\n",
       " 'g',\n",
       " 'g',\n",
       " 'r',\n",
       " 'g',\n",
       " 'b',\n",
       " 'r',\n",
       " 'g',\n",
       " 'r',\n",
       " 'g',\n",
       " 'r',\n",
       " 'g',\n",
       " 'b',\n",
       " 'b',\n",
       " 'g',\n",
       " 'r',\n",
       " 'b',\n",
       " 'r',\n",
       " 'r',\n",
       " 'r',\n",
       " 'b',\n",
       " 'g',\n",
       " 'b',\n",
       " 'g',\n",
       " 'g',\n",
       " 'b',\n",
       " 'g',\n",
       " 'g',\n",
       " 'g',\n",
       " 'g',\n",
       " 'g',\n",
       " 'r',\n",
       " 'g',\n",
       " 'b',\n",
       " 'r',\n",
       " 'r',\n",
       " 'g',\n",
       " 'g',\n",
       " 'g',\n",
       " 'r',\n",
       " 'b',\n",
       " 'g',\n",
       " 'b',\n",
       " 'b',\n",
       " 'r',\n",
       " 'g',\n",
       " 'r',\n",
       " 'g',\n",
       " 'r',\n",
       " 'g',\n",
       " 'r',\n",
       " 'r',\n",
       " 'g',\n",
       " 'g',\n",
       " 'b',\n",
       " 'r',\n",
       " 'b',\n",
       " 'g',\n",
       " 'b',\n",
       " 'r',\n",
       " 'b',\n",
       " 'b',\n",
       " 'b',\n",
       " 'r',\n",
       " 'b',\n",
       " 'b',\n",
       " 'r',\n",
       " 'r',\n",
       " 'g',\n",
       " 'g',\n",
       " 'b',\n",
       " 'r',\n",
       " 'b',\n",
       " 'b',\n",
       " 'r',\n",
       " 'g',\n",
       " 'r',\n",
       " 'b',\n",
       " 'b',\n",
       " 'r',\n",
       " 'b',\n",
       " 'r',\n",
       " 'r',\n",
       " 'b',\n",
       " 'g',\n",
       " 'r',\n",
       " 'b',\n",
       " 'r',\n",
       " 'b',\n",
       " 'b',\n",
       " 'g',\n",
       " 'b',\n",
       " 'r',\n",
       " 'b',\n",
       " 'b',\n",
       " 'b',\n",
       " 'b',\n",
       " 'g',\n",
       " 'b',\n",
       " 'r',\n",
       " 'b',\n",
       " 'g',\n",
       " 'b',\n",
       " 'r',\n",
       " 'b',\n",
       " 'r',\n",
       " 'b',\n",
       " 'b',\n",
       " 'g',\n",
       " 'g',\n",
       " 'g',\n",
       " 'r',\n",
       " 'g',\n",
       " 'g',\n",
       " 'b',\n",
       " 'g',\n",
       " 'r',\n",
       " 'r',\n",
       " 'g',\n",
       " 'r',\n",
       " 'r',\n",
       " 'r',\n",
       " 'g',\n",
       " 'r',\n",
       " 'r',\n",
       " 'b',\n",
       " 'r',\n",
       " 'g',\n",
       " 'r',\n",
       " 'g',\n",
       " 'b',\n",
       " 'g',\n",
       " 'b',\n",
       " 'b',\n",
       " 'b',\n",
       " 'g',\n",
       " 'r',\n",
       " 'g',\n",
       " 'g',\n",
       " 'b',\n",
       " 'g',\n",
       " 'g',\n",
       " 'b',\n",
       " 'r',\n",
       " 'b',\n",
       " 'r',\n",
       " 'r',\n",
       " 'r',\n",
       " 'g',\n",
       " 'g',\n",
       " 'r',\n",
       " 'r',\n",
       " 'b',\n",
       " 'g',\n",
       " 'g',\n",
       " 'g',\n",
       " 'r',\n",
       " 'b',\n",
       " 'g',\n",
       " 'b',\n",
       " 'r',\n",
       " 'b',\n",
       " 'g',\n",
       " 'r',\n",
       " 'b',\n",
       " 'b',\n",
       " 'b',\n",
       " 'g',\n",
       " 'g',\n",
       " 'r',\n",
       " 'b',\n",
       " 'r',\n",
       " 'b',\n",
       " 'b',\n",
       " 'r',\n",
       " 'b',\n",
       " 'g',\n",
       " 'r',\n",
       " 'b',\n",
       " 'g',\n",
       " 'r',\n",
       " 'b',\n",
       " 'g',\n",
       " 'r',\n",
       " 'g',\n",
       " 'g',\n",
       " 'g',\n",
       " 'r',\n",
       " 'b',\n",
       " 'r',\n",
       " 'b',\n",
       " 'g',\n",
       " 'r',\n",
       " 'g',\n",
       " 'g',\n",
       " 'r',\n",
       " 'b',\n",
       " 'g',\n",
       " 'r',\n",
       " 'g',\n",
       " 'r',\n",
       " 'b',\n",
       " 'g',\n",
       " 'g',\n",
       " 'r',\n",
       " 'b',\n",
       " 'b',\n",
       " 'b',\n",
       " 'g',\n",
       " 'g',\n",
       " 'b',\n",
       " 'b',\n",
       " 'g',\n",
       " 'b',\n",
       " 'g',\n",
       " 'b',\n",
       " 'g',\n",
       " 'r',\n",
       " 'g',\n",
       " 'b',\n",
       " 'r',\n",
       " 'r',\n",
       " 'r',\n",
       " 'b',\n",
       " 'b',\n",
       " 'r',\n",
       " 'b',\n",
       " 'g',\n",
       " 'r',\n",
       " 'r',\n",
       " 'g',\n",
       " 'g',\n",
       " 'g',\n",
       " 'b',\n",
       " 'g',\n",
       " 'r',\n",
       " 'g',\n",
       " 'g',\n",
       " 'r',\n",
       " 'g',\n",
       " 'g',\n",
       " 'g',\n",
       " 'r',\n",
       " 'r',\n",
       " 'g',\n",
       " 'b',\n",
       " 'r',\n",
       " 'g',\n",
       " 'b',\n",
       " 'r',\n",
       " 'r',\n",
       " 'b',\n",
       " 'g',\n",
       " 'r',\n",
       " 'g',\n",
       " 'b',\n",
       " 'r',\n",
       " 'r',\n",
       " 'r',\n",
       " 'b',\n",
       " 'g',\n",
       " 'g',\n",
       " 'g',\n",
       " 'r',\n",
       " 'g',\n",
       " 'r',\n",
       " 'r',\n",
       " 'b',\n",
       " 'g',\n",
       " 'b',\n",
       " 'b',\n",
       " 'g',\n",
       " 'b',\n",
       " 'r',\n",
       " 'b',\n",
       " 'g',\n",
       " 'g',\n",
       " 'b',\n",
       " 'r',\n",
       " 'g',\n",
       " 'b',\n",
       " 'r',\n",
       " 'r',\n",
       " 'g',\n",
       " 'g',\n",
       " 'g',\n",
       " 'b',\n",
       " 'g',\n",
       " 'g',\n",
       " 'b',\n",
       " 'r',\n",
       " 'b',\n",
       " 'r',\n",
       " 'b',\n",
       " 'r',\n",
       " 'r',\n",
       " 'b',\n",
       " 'b',\n",
       " 'g',\n",
       " 'r',\n",
       " 'g',\n",
       " 'g',\n",
       " 'r',\n",
       " 'b',\n",
       " 'b',\n",
       " 'b',\n",
       " 'b',\n",
       " 'r',\n",
       " 'g',\n",
       " 'g',\n",
       " 'b',\n",
       " 'r',\n",
       " 'b',\n",
       " 'g',\n",
       " 'r',\n",
       " 'b',\n",
       " 'r',\n",
       " 'b',\n",
       " 'r',\n",
       " 'b',\n",
       " 'b',\n",
       " 'r',\n",
       " 'g',\n",
       " 'r',\n",
       " 'b',\n",
       " 'b',\n",
       " 'r',\n",
       " 'r',\n",
       " 'r',\n",
       " 'r',\n",
       " 'b',\n",
       " 'r',\n",
       " 'g',\n",
       " 'g',\n",
       " 'b',\n",
       " 'b',\n",
       " 'r',\n",
       " 'r',\n",
       " 'g',\n",
       " 'g',\n",
       " 'g',\n",
       " 'b',\n",
       " 'g',\n",
       " 'b',\n",
       " 'g',\n",
       " 'b',\n",
       " 'r',\n",
       " 'g',\n",
       " 'b',\n",
       " 'g',\n",
       " 'g',\n",
       " 'r',\n",
       " 'b',\n",
       " 'g',\n",
       " 'g',\n",
       " 'g',\n",
       " 'r',\n",
       " 'g',\n",
       " 'b',\n",
       " 'g',\n",
       " 'b',\n",
       " 'g',\n",
       " 'r',\n",
       " 'r',\n",
       " 'g',\n",
       " 'r',\n",
       " 'b',\n",
       " 'b',\n",
       " 'r',\n",
       " 'r',\n",
       " 'b',\n",
       " 'g',\n",
       " 'g',\n",
       " 'g',\n",
       " 'g',\n",
       " 'g',\n",
       " 'g',\n",
       " 'b',\n",
       " 'r',\n",
       " 'r',\n",
       " 'r',\n",
       " 'r',\n",
       " 'r',\n",
       " 'b',\n",
       " 'b',\n",
       " 'r',\n",
       " 'g',\n",
       " 'b',\n",
       " 'g',\n",
       " 'b',\n",
       " 'g',\n",
       " 'g',\n",
       " 'r',\n",
       " 'g',\n",
       " 'g',\n",
       " 'g',\n",
       " 'r',\n",
       " 'b',\n",
       " 'g',\n",
       " 'b',\n",
       " 'g',\n",
       " 'g',\n",
       " 'b',\n",
       " 'b',\n",
       " 'g',\n",
       " 'r',\n",
       " 'r',\n",
       " 'b',\n",
       " 'b',\n",
       " 'b',\n",
       " 'b',\n",
       " 'r',\n",
       " 'r',\n",
       " 'r',\n",
       " 'r',\n",
       " 'r',\n",
       " 'r',\n",
       " 'b',\n",
       " 'r',\n",
       " 'r',\n",
       " 'g',\n",
       " 'r',\n",
       " 'g',\n",
       " 'r',\n",
       " 'r',\n",
       " 'g',\n",
       " 'g',\n",
       " 'b',\n",
       " 'b',\n",
       " 'b',\n",
       " 'r',\n",
       " 'r',\n",
       " 'b',\n",
       " 'b',\n",
       " 'b',\n",
       " 'r',\n",
       " 'r',\n",
       " 'g',\n",
       " 'b',\n",
       " 'g',\n",
       " 'b',\n",
       " 'b',\n",
       " 'g',\n",
       " 'g',\n",
       " 'b',\n",
       " 'b',\n",
       " 'b',\n",
       " 'r',\n",
       " 'b',\n",
       " 'b',\n",
       " 'g',\n",
       " 'r',\n",
       " 'g',\n",
       " 'g',\n",
       " 'b',\n",
       " 'r',\n",
       " 'b',\n",
       " 'g',\n",
       " 'r',\n",
       " 'b',\n",
       " 'g',\n",
       " 'g',\n",
       " 'g',\n",
       " 'g',\n",
       " 'r',\n",
       " 'g',\n",
       " 'r',\n",
       " 'r',\n",
       " 'b',\n",
       " 'g',\n",
       " 'b',\n",
       " 'g',\n",
       " 'r',\n",
       " 'b',\n",
       " 'r',\n",
       " 'g',\n",
       " 'g',\n",
       " 'g',\n",
       " 'g',\n",
       " 'g',\n",
       " 'g',\n",
       " 'g',\n",
       " 'g',\n",
       " 'g',\n",
       " 'g',\n",
       " 'g',\n",
       " 'g',\n",
       " 'r',\n",
       " 'g',\n",
       " 'g',\n",
       " 'g',\n",
       " 'g',\n",
       " 'g',\n",
       " 'b',\n",
       " 'r',\n",
       " 'r',\n",
       " 'r']"
      ]
     },
     "execution_count": 47,
     "metadata": {},
     "output_type": "execute_result"
    }
   ],
   "source": [
    "colors"
   ]
  },
  {
   "cell_type": "code",
   "execution_count": 164,
   "metadata": {},
   "outputs": [],
   "source": [
    "#colors = ['blue' if x == 'didntLike' else 'green' if x == 'smallDoses' else 'red' for x in datingLabels]\n",
    "#markers = [10 if x == 'didntLike' else 30 if x == 'smallDoses' else 50 for x in datingLabels]"
   ]
  },
  {
   "cell_type": "code",
   "execution_count": 165,
   "metadata": {
    "scrolled": true
   },
   "outputs": [
    {
     "data": {
      "image/png": "[encoded data removed]",
      "text/plain": [
       "<Figure size 432x288 with 1 Axes>"
      ]
     },
     "metadata": {},
     "output_type": "display_data"
    }
   ],
   "source": [
    "fig = plt.figure()\n",
    "\n",
    "ax = fig.add_subplot(111)\n",
    "\n",
    "# x axis: Percentage of Time Spent Playing Video Games\n",
    "# y axis: Liters of Ice Cream Consumed Per Week\n",
    "ax.scatter(data1, data2, c=colors, s=markers, edgecolors='k')\n",
    "plt.xlabel(title1)\n",
    "plt.ylabel(title2)\n",
    "\n",
    "type1 = ax.scatter([10], [-10], s=20, c='b')\n",
    "type2 = ax.scatter([10], [-15], s=30, c='g')\n",
    "type3 = ax.scatter([10], [-20], s=50, c='r')\n",
    "ax.legend([type1, type2, type3], legendString, loc=1)\n",
    "minX, maxX = min(data1), max(data1)\n",
    "minY, maxY = min(data2), max(data2)\n",
    "marginX, marginY = np.multiply(0.05, [maxX - minX, maxY - minY])\n",
    "ax.axis([minX - marginX, maxX + marginX, minY - marginY, maxY + marginY])\n",
    "\n",
    "plt.show()"
   ]
  },
  {
   "cell_type": "code",
   "execution_count": 166,
   "metadata": {},
   "outputs": [
    {
     "data": {
      "image/png": "[encoded data removed]",
      "text/plain": [
       "<Figure size 432x288 with 1 Axes>"
      ]
     },
     "metadata": {},
     "output_type": "display_data"
    }
   ],
   "source": [
    "# x axis: The Number of Frequent Flyer Miles Earned Per Year\n",
    "# y axis: Liters of Ice Cream Consumed Per Week\n",
    "fig = plt.figure()\n",
    "ax = fig.add_subplot(111)\n",
    "ax.scatter(data0, data2, c=colors, s=markers, edgecolors='k')\n",
    "plt.xlabel(title0)\n",
    "plt.ylabel(title2)\n",
    "ax.legend([type1, type2, type3], legendString, loc=1)\n",
    "minX, maxX = min(data0), max(data0)\n",
    "minY, maxY = min(data2), max(data2)\n",
    "marginX, marginY = np.multiply(0.05, [maxX - minX, maxY - minY])\n",
    "ax.axis([minX - marginX, maxX + marginX, minY - marginY, maxY + marginY])\n",
    "plt.show()"
   ]
  },
  {
   "cell_type": "code",
   "execution_count": 167,
   "metadata": {
    "scrolled": true
   },
   "outputs": [
    {
     "data": {
      "image/png": "[encoded data removed]",
      "text/plain": [
       "<Figure size 432x288 with 1 Axes>"
      ]
     },
     "metadata": {},
     "output_type": "display_data"
    }
   ],
   "source": [
    "# x axis: The Number of Frequent Flyer Miles Earned Per Year\n",
    "# y axis: Percentage of Time Spent Playing Video Games\n",
    "fig = plt.figure()\n",
    "ax = fig.add_subplot(111)\n",
    "ax.scatter(data0, data1, c=colors, s=markers, edgecolors='k')\n",
    "plt.xlabel(title0)\n",
    "plt.ylabel(title1)\n",
    "ax.legend([type1, type2, type3], legendString, loc='best')\n",
    "minX, maxX = min(data0), max(data0)\n",
    "minY, maxY = min(data1), max(data1)\n",
    "marginX, marginY = np.multiply(0.05, [maxX - minX, maxY - minY])\n",
    "ax.axis([minX - marginX, maxX + marginX, minY - marginY, maxY + marginY])\n",
    "plt.show()"
   ]
  },
  {
   "cell_type": "markdown",
   "metadata": {},
   "source": [
    "### List Comprehension with if else if else"
   ]
  },
  {
   "cell_type": "code",
   "execution_count": 48,
   "metadata": {},
   "outputs": [
    {
     "data": {
      "text/plain": [
       "[27, 18, 46, 51, 99, 70, 48, 49, 6]"
      ]
     },
     "execution_count": 48,
     "metadata": {},
     "output_type": "execute_result"
    }
   ],
   "source": [
    "l = [22, 13, 45, 50, 98, 69, 43, 44, 1]\n",
    "[x+1 if x >= 45 else x+5 for x in l]"
   ]
  },
  {
   "cell_type": "code",
   "execution_count": 49,
   "metadata": {},
   "outputs": [
    {
     "data": {
      "text/plain": [
       "['yes', 'no', 'idle', 'idle', 'idle']"
      ]
     },
     "execution_count": 49,
     "metadata": {},
     "output_type": "execute_result"
    }
   ],
   "source": [
    "l = [1, 2, 3, 4, 5]\n",
    "['yes' if v == 1 else 'no' if v == 2 else 'idle' for v in l]"
   ]
  },
  {
   "cell_type": "markdown",
   "metadata": {},
   "source": [
    "### 특징들 간의 관계를 그림으로 분석한 결과:\n",
    " * '비디오 게임 시간'과 '연간 비행 마일 수'가 분류에 의미 있는 특징으로 결정됨\n",
    " * 즉, 헬렌이 좋아할만한 남자 친구를 찾는(분류하는) 특징으로 '비디오 게임 시간'과 '연간 비행 마일 수'를 선택"
   ]
  },
  {
   "cell_type": "markdown",
   "metadata": {
    "collapsed": true
   },
   "source": [
    "## 2.2.3 Prepare: normalizing numeric values"
   ]
  },
  {
   "cell_type": "markdown",
   "metadata": {},
   "source": [
    "### $ 교재 p.37 설명"
   ]
  },
  {
   "cell_type": "markdown",
   "metadata": {},
   "source": [
    "#### 헬렌의 예에서 '연간 항공 마일리지 수' 특징이 거리를 계산하는데 있어 큰 영향을 미친다.\n",
    "#### 원인:\n",
    " * 1) 해당 특징의 값 자체가 다른 특징보다 크다\n",
    " * 2) 특징 마다 값의 범위가 다르다\n",
    "\n",
    "#### 정말로 해당 특징이 그만큼의 중요도가 있는가?\n",
    "#### 헬렌은 세 가지 특징이 다 같은 정도의 중요도를 갖는다고 생각한다.\n",
    "  - 하지만 연간 항공 마일리지 수는 다른 특징에 비해 값 자체가 크다.\n",
    "  - 즉, 연간 항공 마일리지 수 특징의 값이 두 점 사이의 거리에 영향을 크게 미친다.\n",
    "  - 즉, 연간 항공 마일리지 수의 중요도가 높다."
   ]
  },
  {
   "cell_type": "markdown",
   "metadata": {},
   "source": [
    "### Normalization (정규화)\n",
    " * 값의 범위를 [0, 1] 또는 [-1, 1]로 변환하는 것\n",
    "\n",
    "#### [0, 1]로 정규화\n",
    "  newValue = (oldValue - min) / (max - min)"
   ]
  },
  {
   "cell_type": "markdown",
   "metadata": {
    "collapsed": true
   },
   "source": [
    "##### Listing 2.3 Data-normailizing code for Python 2"
   ]
  },
  {
   "cell_type": "code",
   "execution_count": 170,
   "metadata": {},
   "outputs": [],
   "source": [
    "import numpy as np\n",
    "\n",
    "def autoNorm_p2(dataSet):\n",
    "    # 각 특징별 최솟값, 최댓값, 범위를 구함\n",
    "    minVals = dataSet.min(0)\n",
    "    maxVals = dataSet.max(0)\n",
    "    ranges = maxVals - minVals\n",
    "    \n",
    "    # 정규화된 배열로 사용할, dataSet과 같은 크기를 갖는 영행렬 준비\n",
    "    normDataSet = np.zeros(np.shape(dataSet))\n",
    "    \n",
    "    # dataSet의 각 행에서 최솟값을 빼기 위해 행 개수 준비\n",
    "    m = dataSet.shape[0]\n",
    "    \n",
    "    # np.tile 함수를 사용하여 최솟값 벡터를 dataSet과 행 개수가 같은 최솟값 배열로 만든 후\n",
    "    # dataSet 즉 oldValue에서 빼고 그 결과를 범위 배열로 나누어서 정규화된 값을 구함\n",
    "    normDataSet = dataSet - np.tile(minVals, (m, 1))\n",
    "    normDataSet = normDataSet / np.tile(ranges, (m, 1))\n",
    "    \n",
    "    # ranges와 minVals은 테스트 값에 대해 정규화할 필요가 있으므로 반환해야 함\n",
    "    return normDataSet, ranges, minVals"
   ]
  },
  {
   "cell_type": "code",
   "execution_count": 171,
   "metadata": {},
   "outputs": [],
   "source": [
    "import kNN\n",
    "import importlib; importlib.reload(kNN)\n",
    "import numpy as np\n",
    "\n",
    "#datingDataMat, datingLabels = kNN.file2matrix('datingTestSet.txt')\n",
    "dataSet, dataLabels = kNN.file2matrix('datingTestSet.txt')"
   ]
  },
  {
   "cell_type": "markdown",
   "metadata": {
    "collapsed": true
   },
   "source": [
    "##### NumPy array methods\n",
    " - https://docs.scipy.org/doc/numpy/reference/arrays.ndarray.html#array-methods"
   ]
  },
  {
   "cell_type": "code",
   "execution_count": 172,
   "metadata": {},
   "outputs": [
    {
     "data": {
      "text/plain": [
       "array([9.1273000e+04, 2.0919349e+01, 1.6943610e+00])"
      ]
     },
     "execution_count": 172,
     "metadata": {},
     "output_type": "execute_result"
    }
   ],
   "source": [
    "# 각 특징별 최솟값, 최댓값, 범위를 구함\n",
    "minVals = dataSet.min(0)    # dataSet 배열의 열에 대한 최솟값, 0이 '열'을 의미\n",
    "maxVals = dataSet.max(0)\n",
    "ranges = maxVals - minVals; ranges"
   ]
  },
  {
   "cell_type": "code",
   "execution_count": 173,
   "metadata": {},
   "outputs": [
    {
     "data": {
      "text/plain": [
       "array([[0., 0., 0.],\n",
       "       [0., 0., 0.],\n",
       "       [0., 0., 0.],\n",
       "       ...,\n",
       "       [0., 0., 0.],\n",
       "       [0., 0., 0.],\n",
       "       [0., 0., 0.]])"
      ]
     },
     "execution_count": 173,
     "metadata": {},
     "output_type": "execute_result"
    }
   ],
   "source": [
    "# 정규화된 배열로 사용할, dataSet과 같은 크기를 갖는 영행렬 준비\n",
    "normDataSet = np.zeros(np.shape(dataSet)); normDataSet"
   ]
  },
  {
   "cell_type": "code",
   "execution_count": 174,
   "metadata": {},
   "outputs": [
    {
     "data": {
      "text/plain": [
       "1000"
      ]
     },
     "execution_count": 174,
     "metadata": {},
     "output_type": "execute_result"
    }
   ],
   "source": [
    "# dataSet의 각 행에서 최솟값을 빼기 위해 행 개수 준비\n",
    "m = dataSet.shape[0]; m"
   ]
  },
  {
   "cell_type": "code",
   "execution_count": 175,
   "metadata": {},
   "outputs": [],
   "source": [
    "# np.tile 함수를 사용하여 최솟값 벡터를 dataSet과 행 개수가 같은 최솟값 배열로 만든 후\n",
    "# dataSet 즉 oldValue에서 빼고 그 결과를 범위 배열로 나누어서 정규화된 값[0..1]을 구함\n",
    "normDataSet = dataSet - np.tile(minVals, (m, 1))\n",
    "normDataSet = normDataSet / np.tile(ranges, (m, 1))"
   ]
  },
  {
   "cell_type": "code",
   "execution_count": 176,
   "metadata": {},
   "outputs": [
    {
     "data": {
      "text/plain": [
       "array([[0.      , 0.      , 0.001156],\n",
       "       [0.      , 0.      , 0.001156],\n",
       "       [0.      , 0.      , 0.001156],\n",
       "       ...,\n",
       "       [0.      , 0.      , 0.001156],\n",
       "       [0.      , 0.      , 0.001156],\n",
       "       [0.      , 0.      , 0.001156]])"
      ]
     },
     "execution_count": 176,
     "metadata": {},
     "output_type": "execute_result"
    }
   ],
   "source": [
    "np.tile(minVals, (m, 1))"
   ]
  },
  {
   "cell_type": "code",
   "execution_count": 177,
   "metadata": {},
   "outputs": [
    {
     "data": {
      "text/plain": [
       "array([[0.44832535, 0.39805139, 0.56233353],\n",
       "       [0.15873259, 0.34195467, 0.98724416],\n",
       "       [0.28542943, 0.06892523, 0.47449629],\n",
       "       ...,\n",
       "       [0.29115949, 0.50910294, 0.51079493],\n",
       "       [0.52711097, 0.43665451, 0.4290048 ],\n",
       "       [0.47940793, 0.3768091 , 0.78571804]])"
      ]
     },
     "execution_count": 177,
     "metadata": {},
     "output_type": "execute_result"
    }
   ],
   "source": [
    "normDataSet"
   ]
  },
  {
   "cell_type": "markdown",
   "metadata": {},
   "source": [
    "##### Listing 2.3 Data-normailizing code for Python 3"
   ]
  },
  {
   "cell_type": "code",
   "execution_count": 178,
   "metadata": {},
   "outputs": [],
   "source": [
    "import kNN\n",
    "import importlib; importlib.reload(kNN)\n",
    "import numpy as np"
   ]
  },
  {
   "cell_type": "code",
   "execution_count": 179,
   "metadata": {},
   "outputs": [],
   "source": [
    "def autoNorm(dataSet):\n",
    "    # 각 특징별 최솟값, 최댓값, 범위를 구함\n",
    "    minVals = dataSet.min(0)\n",
    "    maxVals = dataSet.max(0)\n",
    "    ranges = maxVals - minVals\n",
    "    \n",
    "    # 정규화된 배열을 구함\n",
    "    normDataSet = (dataSet - minVals) / ranges\n",
    "    \n",
    "    # ranges와 minVals은 테스트 값에 대해 정규화할 필요가 있으므로 반환해야 함\n",
    "    return normDataSet, ranges, minVals"
   ]
  },
  {
   "cell_type": "code",
   "execution_count": 180,
   "metadata": {},
   "outputs": [],
   "source": [
    "import kNN\n",
    "import importlib; importlib.reload(kNN)\n",
    "\n",
    "#datingDataMat, datingLabels = kNN.file2matrix('datingTestSet.txt')\n",
    "dataSet, dataLabels = kNN.file2matrix('datingTestSet.txt')"
   ]
  },
  {
   "cell_type": "code",
   "execution_count": 181,
   "metadata": {},
   "outputs": [
    {
     "data": {
      "text/plain": [
       "array([9.1273000e+04, 2.0919349e+01, 1.6943610e+00])"
      ]
     },
     "execution_count": 181,
     "metadata": {},
     "output_type": "execute_result"
    }
   ],
   "source": [
    "# 각 특징별 최솟값, 최댓값, 범위를 구함\n",
    "minVals = dataSet.min(0)\n",
    "maxVals = dataSet.max(0)\n",
    "ranges = maxVals - minVals; ranges"
   ]
  },
  {
   "cell_type": "code",
   "execution_count": 182,
   "metadata": {},
   "outputs": [
    {
     "data": {
      "text/plain": [
       "array([[0.44832535, 0.39805139, 0.56233353],\n",
       "       [0.15873259, 0.34195467, 0.98724416],\n",
       "       [0.28542943, 0.06892523, 0.47449629],\n",
       "       ...,\n",
       "       [0.29115949, 0.50910294, 0.51079493],\n",
       "       [0.52711097, 0.43665451, 0.4290048 ],\n",
       "       [0.47940793, 0.3768091 , 0.78571804]])"
      ]
     },
     "execution_count": 182,
     "metadata": {},
     "output_type": "execute_result"
    }
   ],
   "source": [
    "# 정규화된 배열을 구함\n",
    "normDataSet = (dataSet - minVals) / ranges; normDataSet"
   ]
  },
  {
   "cell_type": "markdown",
   "metadata": {
    "collapsed": true
   },
   "source": [
    "## 2.2.4 Test: testing the classifier as a whole program"
   ]
  },
  {
   "cell_type": "markdown",
   "metadata": {},
   "source": [
    "### 기계 학습 알고리즘의 정확도\n",
    "  * 데이터의 90% 정도를 분류기(classifier) 학습에 사용\n",
    "  * 나머지 10%를 분류기의 정확도를 구하기 위한 테스트 데이터로 사용\n",
    "  * 이 10% 데이터는 임의로 선택\n",
    "  * 우리가 사용하는 데이터는 특정 순서로 저장된 것이 아니므로 처음 10% 또는 마지막 10%를 테스트 데이터로 선택하는 것이 임의로 10% 선택하는 것과 다를 바 없음\n",
    "### 에러율(error rate)\n",
    "  * error rate = 잘못 분류된 데이터 수 / 전체 데이터 수\n",
    "  * error rate = 0 ==> 완벽한 분류기\n",
    "  * error rate = 1.0 ==> 항상 잘못 분류하는 분류기"
   ]
  },
  {
   "cell_type": "markdown",
   "metadata": {},
   "source": [
    "##### Listing 2.4 Classifier testing code for dating site for Python 2"
   ]
  },
  {
   "cell_type": "code",
   "execution_count": 55,
   "metadata": {},
   "outputs": [],
   "source": [
    "import kNN\n",
    "import importlib; importlib.reload(kNN)\n",
    "import numpy as np\n",
    "\n",
    "def datingClassTest_p2():\n",
    "    # 각종 변수 준비\n",
    "    hoRatio = 0.10                    # 테스트 데이터 비율 (10%)\n",
    "    datingDataMat, datingLabels = kNN.file2matrix('datingTestSet.txt')\n",
    "    normMat, ranges, minVals = kNN.autoNorm(datingDataMat)\n",
    "    m = normMat.shape[0]              # 데이터 총 개수, 로우 수\n",
    "    numTestVecs = int(m * hoRatio)    # 테스트 데이터 개수\n",
    "    errorCount = 0.0\n",
    "        \n",
    "    for i in range(numTestVecs):\n",
    "        classifierResult = kNN.classify0(normMat[i, :], normMat[numTestVecs:m, :], \\\n",
    "                                         datingLabels[numTestVecs:m], 3)        \n",
    "        # 교재에서는 %s 대신 %d, 교재대로 하려면 datingTestSet2.txt 파일을 사용\n",
    "        print(\"the classifier came back with: %s, the real answer is: %s\"\\\n",
    "                % (classifierResult, datingLabels[i]))\n",
    "        if (classifierResult != datingLabels[i]):\n",
    "            errorCount += 1.0\n",
    "            print(\"!!!NOT MATCHED!!!\")\n",
    "    print(\"the total error rate is: %f\" % (errorCount/float(numTestVecs)))"
   ]
  },
  {
   "cell_type": "code",
   "execution_count": 56,
   "metadata": {},
   "outputs": [],
   "source": [
    "import kNN\n",
    "import importlib; importlib.reload(kNN)\n",
    "import numpy as np"
   ]
  },
  {
   "cell_type": "code",
   "execution_count": 57,
   "metadata": {},
   "outputs": [
    {
     "ename": "AttributeError",
     "evalue": "module 'kNN' has no attribute 'autoNorm_p2'",
     "output_type": "error",
     "traceback": [
      "\u001b[1;31m---------------------------------------------------------------------------\u001b[0m",
      "\u001b[1;31mAttributeError\u001b[0m                            Traceback (most recent call last)",
      "\u001b[1;32m<ipython-input-57-6f5fd5c662d0>\u001b[0m in \u001b[0;36m<module>\u001b[1;34m()\u001b[0m\n\u001b[0;32m      2\u001b[0m \u001b[0mhoRatio\u001b[0m \u001b[1;33m=\u001b[0m \u001b[1;36m0.10\u001b[0m                    \u001b[1;31m# 테스트 데이터 비율 (10%)\u001b[0m\u001b[1;33m\u001b[0m\u001b[0m\n\u001b[0;32m      3\u001b[0m \u001b[0mdatingDataMat\u001b[0m\u001b[1;33m,\u001b[0m \u001b[0mdatingLabels\u001b[0m \u001b[1;33m=\u001b[0m \u001b[0mkNN\u001b[0m\u001b[1;33m.\u001b[0m\u001b[0mfile2matrix\u001b[0m\u001b[1;33m(\u001b[0m\u001b[1;34m'datingTestSet.txt'\u001b[0m\u001b[1;33m)\u001b[0m\u001b[1;33m\u001b[0m\u001b[0m\n\u001b[1;32m----> 4\u001b[1;33m \u001b[0mnormMat\u001b[0m\u001b[1;33m,\u001b[0m \u001b[0mranges\u001b[0m\u001b[1;33m,\u001b[0m \u001b[0mminVals\u001b[0m \u001b[1;33m=\u001b[0m \u001b[0mkNN\u001b[0m\u001b[1;33m.\u001b[0m\u001b[0mautoNorm_p2\u001b[0m\u001b[1;33m(\u001b[0m\u001b[0mdatingDataMat\u001b[0m\u001b[1;33m)\u001b[0m\u001b[1;33m\u001b[0m\u001b[0m\n\u001b[0m\u001b[0;32m      5\u001b[0m \u001b[0mm\u001b[0m \u001b[1;33m=\u001b[0m \u001b[0mnormMat\u001b[0m\u001b[1;33m.\u001b[0m\u001b[0mshape\u001b[0m\u001b[1;33m[\u001b[0m\u001b[1;36m0\u001b[0m\u001b[1;33m]\u001b[0m              \u001b[1;31m# 데이터 총 개수, 로우 수\u001b[0m\u001b[1;33m\u001b[0m\u001b[0m\n\u001b[0;32m      6\u001b[0m \u001b[0mnumTestVecs\u001b[0m \u001b[1;33m=\u001b[0m \u001b[0mint\u001b[0m\u001b[1;33m(\u001b[0m\u001b[0mm\u001b[0m \u001b[1;33m*\u001b[0m \u001b[0mhoRatio\u001b[0m\u001b[1;33m)\u001b[0m    \u001b[1;31m# 테스트 데이터 개수\u001b[0m\u001b[1;33m\u001b[0m\u001b[0m\n",
      "\u001b[1;31mAttributeError\u001b[0m: module 'kNN' has no attribute 'autoNorm_p2'"
     ]
    }
   ],
   "source": [
    "# 각종 변수 준비\n",
    "hoRatio = 0.10                    # 테스트 데이터 비율 (10%)\n",
    "datingDataMat, datingLabels = kNN.file2matrix('datingTestSet.txt')\n",
    "normMat, ranges, minVals = kNN.autoNorm_p2(datingDataMat)\n",
    "m = normMat.shape[0]              # 데이터 총 개수, 로우 수\n",
    "numTestVecs = int(m * hoRatio)    # 테스트 데이터 개수\n",
    "errorCount = 0.0\n",
    "print(normMat)\n",
    "print(ranges)\n",
    "print(minVals)\n",
    "print(m)\n",
    "print(numTestVecs)"
   ]
  },
  {
   "cell_type": "code",
   "execution_count": 186,
   "metadata": {},
   "outputs": [],
   "source": [
    "i = 0"
   ]
  },
  {
   "cell_type": "code",
   "execution_count": 187,
   "metadata": {},
   "outputs": [
    {
     "data": {
      "text/plain": [
       "array([0.44832535, 0.39805139, 0.56233353])"
      ]
     },
     "execution_count": 187,
     "metadata": {},
     "output_type": "execute_result"
    }
   ],
   "source": [
    "# i번째 테스트 데이터\n",
    "normMat[i, :]"
   ]
  },
  {
   "cell_type": "code",
   "execution_count": 188,
   "metadata": {},
   "outputs": [
    {
     "data": {
      "text/plain": [
       "(900, 3)"
      ]
     },
     "execution_count": 188,
     "metadata": {},
     "output_type": "execute_result"
    }
   ],
   "source": [
    "# 훈련 데이터\n",
    "normMat[numTestVecs:m, :].shape"
   ]
  },
  {
   "cell_type": "code",
   "execution_count": 189,
   "metadata": {
    "scrolled": false
   },
   "outputs": [
    {
     "data": {
      "text/plain": [
       "900"
      ]
     },
     "execution_count": 189,
     "metadata": {},
     "output_type": "execute_result"
    }
   ],
   "source": [
    "# 레이블 데이터\n",
    "len(datingLabels[numTestVecs:m])"
   ]
  },
  {
   "cell_type": "code",
   "execution_count": 190,
   "metadata": {},
   "outputs": [
    {
     "data": {
      "text/plain": [
       "'largeDoses'"
      ]
     },
     "execution_count": 190,
     "metadata": {},
     "output_type": "execute_result"
    }
   ],
   "source": [
    "# kNN 수행: k 값은 3\n",
    "classifierResult = kNN.classify0(normMat[i, :], normMat[numTestVecs:m, :],\n",
    "                                datingLabels[numTestVecs:m], 3)\n",
    "classifierResult"
   ]
  },
  {
   "cell_type": "code",
   "execution_count": 191,
   "metadata": {},
   "outputs": [
    {
     "name": "stdout",
     "output_type": "stream",
     "text": [
      "the classifier came back with: largeDoses, the real answer is: largeDoses\n"
     ]
    }
   ],
   "source": [
    "print(\"the classifier came back with: %s, the real answer is: %s\"\\\n",
    "                % (classifierResult, datingLabels[i]))"
   ]
  },
  {
   "cell_type": "code",
   "execution_count": 192,
   "metadata": {},
   "outputs": [
    {
     "data": {
      "text/plain": [
       "0.0"
      ]
     },
     "execution_count": 192,
     "metadata": {},
     "output_type": "execute_result"
    }
   ],
   "source": [
    "if (classifierResult != datingLabels[i]):\n",
    "    errorCount += 1.0\n",
    "errorCount"
   ]
  },
  {
   "cell_type": "code",
   "execution_count": 193,
   "metadata": {},
   "outputs": [
    {
     "name": "stdout",
     "output_type": "stream",
     "text": [
      "the classifier came back with: largeDoses, the real answer is: didntLike\n"
     ]
    },
    {
     "data": {
      "text/plain": [
       "1.0"
      ]
     },
     "execution_count": 193,
     "metadata": {},
     "output_type": "execute_result"
    }
   ],
   "source": [
    "# i 값을 변경시켜가며 결과를 확인해 본다.\n",
    "i = 99\n",
    "\n",
    "# kNN 수행: k 값은 3\n",
    "classifierResult = kNN.classify0(normMat[i, :], normMat[numTestVecs:m, :],\n",
    "                                datingLabels[numTestVecs:m], 3)\n",
    "print(\"the classifier came back with: %s, the real answer is: %s\"\\\n",
    "                % (classifierResult, datingLabels[i]))\n",
    "if (classifierResult != datingLabels[i]):\n",
    "    errorCount += 1.0\n",
    "errorCount"
   ]
  },
  {
   "cell_type": "code",
   "execution_count": 194,
   "metadata": {},
   "outputs": [
    {
     "name": "stdout",
     "output_type": "stream",
     "text": [
      "the classifier came back with: largeDoses, the real answer is: largeDoses\n",
      "the classifier came back with: smallDoses, the real answer is: smallDoses\n",
      "the classifier came back with: didntLike, the real answer is: didntLike\n",
      "the classifier came back with: didntLike, the real answer is: didntLike\n",
      "the classifier came back with: didntLike, the real answer is: didntLike\n",
      "the classifier came back with: didntLike, the real answer is: didntLike\n",
      "the classifier came back with: largeDoses, the real answer is: largeDoses\n",
      "the classifier came back with: largeDoses, the real answer is: largeDoses\n",
      "the classifier came back with: didntLike, the real answer is: didntLike\n",
      "the classifier came back with: largeDoses, the real answer is: largeDoses\n",
      "the classifier came back with: didntLike, the real answer is: didntLike\n",
      "the classifier came back with: didntLike, the real answer is: didntLike\n",
      "the classifier came back with: smallDoses, the real answer is: smallDoses\n",
      "the classifier came back with: didntLike, the real answer is: didntLike\n",
      "the classifier came back with: didntLike, the real answer is: didntLike\n",
      "the classifier came back with: didntLike, the real answer is: didntLike\n",
      "the classifier came back with: didntLike, the real answer is: didntLike\n",
      "the classifier came back with: didntLike, the real answer is: didntLike\n",
      "the classifier came back with: smallDoses, the real answer is: smallDoses\n",
      "the classifier came back with: largeDoses, the real answer is: largeDoses\n",
      "the classifier came back with: smallDoses, the real answer is: smallDoses\n",
      "the classifier came back with: didntLike, the real answer is: didntLike\n",
      "the classifier came back with: largeDoses, the real answer is: smallDoses\n",
      "!!!NOT MATCHED!!!\n",
      "the classifier came back with: largeDoses, the real answer is: largeDoses\n",
      "the classifier came back with: smallDoses, the real answer is: smallDoses\n",
      "the classifier came back with: largeDoses, the real answer is: largeDoses\n",
      "the classifier came back with: smallDoses, the real answer is: smallDoses\n",
      "the classifier came back with: largeDoses, the real answer is: largeDoses\n",
      "the classifier came back with: smallDoses, the real answer is: smallDoses\n",
      "the classifier came back with: didntLike, the real answer is: didntLike\n",
      "the classifier came back with: largeDoses, the real answer is: largeDoses\n",
      "the classifier came back with: didntLike, the real answer is: didntLike\n",
      "the classifier came back with: largeDoses, the real answer is: largeDoses\n",
      "the classifier came back with: didntLike, the real answer is: didntLike\n",
      "the classifier came back with: smallDoses, the real answer is: smallDoses\n",
      "the classifier came back with: didntLike, the real answer is: didntLike\n",
      "the classifier came back with: didntLike, the real answer is: didntLike\n",
      "the classifier came back with: smallDoses, the real answer is: smallDoses\n",
      "the classifier came back with: largeDoses, the real answer is: largeDoses\n",
      "the classifier came back with: largeDoses, the real answer is: largeDoses\n",
      "the classifier came back with: didntLike, the real answer is: didntLike\n",
      "the classifier came back with: smallDoses, the real answer is: smallDoses\n",
      "the classifier came back with: largeDoses, the real answer is: largeDoses\n",
      "the classifier came back with: largeDoses, the real answer is: largeDoses\n",
      "the classifier came back with: largeDoses, the real answer is: largeDoses\n",
      "the classifier came back with: didntLike, the real answer is: didntLike\n",
      "the classifier came back with: didntLike, the real answer is: didntLike\n",
      "the classifier came back with: didntLike, the real answer is: didntLike\n",
      "the classifier came back with: didntLike, the real answer is: didntLike\n",
      "the classifier came back with: smallDoses, the real answer is: smallDoses\n",
      "the classifier came back with: smallDoses, the real answer is: smallDoses\n",
      "the classifier came back with: didntLike, the real answer is: didntLike\n",
      "the classifier came back with: largeDoses, the real answer is: largeDoses\n",
      "the classifier came back with: smallDoses, the real answer is: smallDoses\n",
      "the classifier came back with: smallDoses, the real answer is: smallDoses\n",
      "the classifier came back with: smallDoses, the real answer is: smallDoses\n",
      "the classifier came back with: smallDoses, the real answer is: smallDoses\n",
      "the classifier came back with: largeDoses, the real answer is: largeDoses\n",
      "the classifier came back with: didntLike, the real answer is: didntLike\n",
      "the classifier came back with: smallDoses, the real answer is: smallDoses\n",
      "the classifier came back with: didntLike, the real answer is: didntLike\n",
      "the classifier came back with: smallDoses, the real answer is: smallDoses\n",
      "the classifier came back with: smallDoses, the real answer is: smallDoses\n",
      "the classifier came back with: smallDoses, the real answer is: smallDoses\n",
      "the classifier came back with: smallDoses, the real answer is: smallDoses\n",
      "the classifier came back with: smallDoses, the real answer is: smallDoses\n",
      "the classifier came back with: largeDoses, the real answer is: largeDoses\n",
      "the classifier came back with: smallDoses, the real answer is: smallDoses\n",
      "the classifier came back with: largeDoses, the real answer is: largeDoses\n",
      "the classifier came back with: didntLike, the real answer is: didntLike\n",
      "the classifier came back with: smallDoses, the real answer is: smallDoses\n",
      "the classifier came back with: largeDoses, the real answer is: largeDoses\n",
      "the classifier came back with: smallDoses, the real answer is: smallDoses\n",
      "the classifier came back with: smallDoses, the real answer is: smallDoses\n",
      "the classifier came back with: largeDoses, the real answer is: didntLike\n",
      "!!!NOT MATCHED!!!\n",
      "the classifier came back with: largeDoses, the real answer is: largeDoses\n",
      "the classifier came back with: didntLike, the real answer is: didntLike\n",
      "the classifier came back with: didntLike, the real answer is: didntLike\n",
      "the classifier came back with: largeDoses, the real answer is: largeDoses\n",
      "the classifier came back with: largeDoses, the real answer is: largeDoses\n",
      "the classifier came back with: didntLike, the real answer is: didntLike\n",
      "the classifier came back with: smallDoses, the real answer is: smallDoses\n",
      "the classifier came back with: largeDoses, the real answer is: largeDoses\n",
      "the classifier came back with: largeDoses, the real answer is: didntLike\n",
      "!!!NOT MATCHED!!!\n",
      "the classifier came back with: largeDoses, the real answer is: largeDoses\n",
      "the classifier came back with: didntLike, the real answer is: didntLike\n",
      "the classifier came back with: smallDoses, the real answer is: smallDoses\n",
      "the classifier came back with: smallDoses, the real answer is: smallDoses\n",
      "the classifier came back with: didntLike, the real answer is: didntLike\n",
      "the classifier came back with: didntLike, the real answer is: didntLike\n",
      "the classifier came back with: largeDoses, the real answer is: largeDoses\n",
      "the classifier came back with: smallDoses, the real answer is: largeDoses\n",
      "!!!NOT MATCHED!!!\n",
      "the classifier came back with: didntLike, the real answer is: didntLike\n",
      "the classifier came back with: smallDoses, the real answer is: smallDoses\n",
      "the classifier came back with: didntLike, the real answer is: didntLike\n",
      "the classifier came back with: largeDoses, the real answer is: largeDoses\n",
      "the classifier came back with: largeDoses, the real answer is: largeDoses\n",
      "the classifier came back with: smallDoses, the real answer is: smallDoses\n",
      "the classifier came back with: didntLike, the real answer is: didntLike\n",
      "the classifier came back with: largeDoses, the real answer is: didntLike\n",
      "!!!NOT MATCHED!!!\n",
      "the total error rate is: 0.050000\n"
     ]
    }
   ],
   "source": [
    "datingClassTest_p2()"
   ]
  },
  {
   "cell_type": "markdown",
   "metadata": {},
   "source": [
    "##### Listing 2.4 Classifier testing code for dating site for Python 3"
   ]
  },
  {
   "cell_type": "code",
   "execution_count": 52,
   "metadata": {},
   "outputs": [],
   "source": [
    "import kNN\n",
    "import importlib\n",
    "importlib.reload(kNN)\n",
    "\n",
    "import numpy as np\n",
    "\n",
    "\"\"\"\n",
    "file: 테스트 데이터 파일 이름\n",
    "ratio: 테스트 데이터 비율\n",
    "k: kNN의 k 값\n",
    "\n",
    "입력 데이터 중 [0, 총데이터*테스트비율) 범위의 데이터가 테스트 데이터로 사용된다.\n",
    "\"\"\"\n",
    "def datingClassTest(file, ratio = 0.1, k = 3):\n",
    "    # 각종 변수 준비\n",
    "    datingDataMat, datingLabels = kNN.file2matrix(file)\n",
    "    normMat, ranges, minVals = kNN.autoNorm(datingDataMat)\n",
    "    numTotal = normMat.shape[0]            # 데이터 총 개수, 로우 수\n",
    "    numTestVecs = int(numTotal * ratio)    # 테스트 데이터 개수\n",
    "    errorCount = 0\n",
    "        \n",
    "    for i in range(numTestVecs):\n",
    "        classifierResult = kNN.classify0(normMat[i, :], normMat[numTestVecs:numTotal, :], \\\n",
    "                                         datingLabels[numTestVecs:numTotal], k)        \n",
    "        # 교재에서는 %s 대신 %d, 교재대로 하려면 datingTestSet2.txt 파일을 사용\n",
    "        print(\"the classifier came back with: %s, the real answer is: %s\"\\\n",
    "                % (classifierResult, datingLabels[i]))\n",
    "        if (classifierResult != datingLabels[i]):\n",
    "            errorCount += 1\n",
    "            print(\"!!!NOT MATCHED!!!\")\n",
    "    print(\"the total error rate is: %f\" % (errorCount/float(numTestVecs)))"
   ]
  },
  {
   "cell_type": "code",
   "execution_count": 53,
   "metadata": {},
   "outputs": [
    {
     "ename": "NameError",
     "evalue": "name 'numTestVecs' is not defined",
     "output_type": "error",
     "traceback": [
      "\u001b[1;31m---------------------------------------------------------------------------\u001b[0m",
      "\u001b[1;31mNameError\u001b[0m                                 Traceback (most recent call last)",
      "\u001b[1;32m<ipython-input-53-736f190c2a0a>\u001b[0m in \u001b[0;36m<module>\u001b[1;34m()\u001b[0m\n\u001b[0;32m      1\u001b[0m classifierResult = [kNN.classify0(normMat[i, :], normMat[numTestVecs:numTotal, :], \n\u001b[1;32m----> 2\u001b[1;33m                             datingLabels[numTestVecs:numTotal], 3) for i in range(numTestVecs)]\n\u001b[0m",
      "\u001b[1;31mNameError\u001b[0m: name 'numTestVecs' is not defined"
     ]
    }
   ],
   "source": [
    "classifierResult = [kNN.classify0(normMat[i, :], normMat[numTestVecs:numTotal, :], \n",
    "                            datingLabels[numTestVecs:numTotal], 3) for i in range(numTestVecs)]"
   ]
  },
  {
   "cell_type": "code",
   "execution_count": 58,
   "metadata": {},
   "outputs": [
    {
     "ename": "NameError",
     "evalue": "name 'numTestVecs' is not defined",
     "output_type": "error",
     "traceback": [
      "\u001b[1;31m---------------------------------------------------------------------------\u001b[0m",
      "\u001b[1;31mNameError\u001b[0m                                 Traceback (most recent call last)",
      "\u001b[1;32m<ipython-input-58-f812497443fe>\u001b[0m in \u001b[0;36m<module>\u001b[1;34m()\u001b[0m\n\u001b[1;32m----> 1\u001b[1;33m \u001b[0mnumTestVecs\u001b[0m\u001b[1;33m\u001b[0m\u001b[0m\n\u001b[0m",
      "\u001b[1;31mNameError\u001b[0m: name 'numTestVecs' is not defined"
     ]
    }
   ],
   "source": [
    "numTestVecs"
   ]
  },
  {
   "cell_type": "code",
   "execution_count": 198,
   "metadata": {},
   "outputs": [
    {
     "data": {
      "text/plain": [
       "(1000, 3)"
      ]
     },
     "execution_count": 198,
     "metadata": {},
     "output_type": "execute_result"
    }
   ],
   "source": [
    "normMat.shape"
   ]
  },
  {
   "cell_type": "code",
   "execution_count": 199,
   "metadata": {
    "scrolled": true
   },
   "outputs": [],
   "source": [
    "a = np.array(classifierResult) != np.array(datingLabels[:numTestVecs])"
   ]
  },
  {
   "cell_type": "code",
   "execution_count": 200,
   "metadata": {},
   "outputs": [
    {
     "data": {
      "text/plain": [
       "5"
      ]
     },
     "execution_count": 200,
     "metadata": {},
     "output_type": "execute_result"
    }
   ],
   "source": [
    "np.array(datingLabels[:numTestVecs])[a].size"
   ]
  },
  {
   "cell_type": "code",
   "execution_count": 201,
   "metadata": {},
   "outputs": [
    {
     "data": {
      "text/plain": [
       "3000"
      ]
     },
     "execution_count": 201,
     "metadata": {},
     "output_type": "execute_result"
    }
   ],
   "source": [
    "normMat.size"
   ]
  },
  {
   "cell_type": "code",
   "execution_count": 204,
   "metadata": {},
   "outputs": [
    {
     "data": {
      "text/plain": [
       "[1, 2, 3, 4, 5]"
      ]
     },
     "execution_count": 204,
     "metadata": {},
     "output_type": "execute_result"
    }
   ],
   "source": [
    "a"
   ]
  },
  {
   "cell_type": "code",
   "execution_count": 205,
   "metadata": {},
   "outputs": [],
   "source": [
    "a = [1, 2, 3,4, 5]"
   ]
  },
  {
   "cell_type": "code",
   "execution_count": 206,
   "metadata": {},
   "outputs": [
    {
     "data": {
      "text/plain": [
       "array([False, False, False,  True,  True])"
      ]
     },
     "execution_count": 206,
     "metadata": {},
     "output_type": "execute_result"
    }
   ],
   "source": [
    "np.array(a) > 3"
   ]
  },
  {
   "cell_type": "code",
   "execution_count": 207,
   "metadata": {},
   "outputs": [
    {
     "data": {
      "text/plain": [
       "numpy.ndarray"
      ]
     },
     "execution_count": 207,
     "metadata": {},
     "output_type": "execute_result"
    }
   ],
   "source": [
    "type(ranges)"
   ]
  },
  {
   "cell_type": "code",
   "execution_count": 208,
   "metadata": {},
   "outputs": [
    {
     "data": {
      "text/plain": [
       "3"
      ]
     },
     "execution_count": 208,
     "metadata": {},
     "output_type": "execute_result"
    }
   ],
   "source": [
    "ranges.size"
   ]
  },
  {
   "cell_type": "code",
   "execution_count": 209,
   "metadata": {},
   "outputs": [
    {
     "name": "stdout",
     "output_type": "stream",
     "text": [
      "the classifier came back with: largeDoses, the real answer is: largeDoses\n",
      "the classifier came back with: smallDoses, the real answer is: smallDoses\n",
      "the classifier came back with: didntLike, the real answer is: didntLike\n",
      "the classifier came back with: didntLike, the real answer is: didntLike\n",
      "the classifier came back with: didntLike, the real answer is: didntLike\n",
      "the classifier came back with: didntLike, the real answer is: didntLike\n",
      "the classifier came back with: largeDoses, the real answer is: largeDoses\n",
      "the classifier came back with: largeDoses, the real answer is: largeDoses\n",
      "the classifier came back with: didntLike, the real answer is: didntLike\n",
      "the classifier came back with: largeDoses, the real answer is: largeDoses\n",
      "the classifier came back with: didntLike, the real answer is: didntLike\n",
      "the classifier came back with: didntLike, the real answer is: didntLike\n",
      "the classifier came back with: smallDoses, the real answer is: smallDoses\n",
      "the classifier came back with: didntLike, the real answer is: didntLike\n",
      "the classifier came back with: didntLike, the real answer is: didntLike\n",
      "the classifier came back with: didntLike, the real answer is: didntLike\n",
      "the classifier came back with: didntLike, the real answer is: didntLike\n",
      "the classifier came back with: didntLike, the real answer is: didntLike\n",
      "the classifier came back with: smallDoses, the real answer is: smallDoses\n",
      "the classifier came back with: largeDoses, the real answer is: largeDoses\n",
      "the classifier came back with: smallDoses, the real answer is: smallDoses\n",
      "the classifier came back with: didntLike, the real answer is: didntLike\n",
      "the classifier came back with: largeDoses, the real answer is: smallDoses\n",
      "!!!NOT MATCHED!!!\n",
      "the classifier came back with: largeDoses, the real answer is: largeDoses\n",
      "the classifier came back with: smallDoses, the real answer is: smallDoses\n",
      "the classifier came back with: largeDoses, the real answer is: largeDoses\n",
      "the classifier came back with: smallDoses, the real answer is: smallDoses\n",
      "the classifier came back with: largeDoses, the real answer is: largeDoses\n",
      "the classifier came back with: smallDoses, the real answer is: smallDoses\n",
      "the classifier came back with: didntLike, the real answer is: didntLike\n",
      "the classifier came back with: largeDoses, the real answer is: largeDoses\n",
      "the classifier came back with: didntLike, the real answer is: didntLike\n",
      "the classifier came back with: largeDoses, the real answer is: largeDoses\n",
      "the classifier came back with: didntLike, the real answer is: didntLike\n",
      "the classifier came back with: smallDoses, the real answer is: smallDoses\n",
      "the classifier came back with: didntLike, the real answer is: didntLike\n",
      "the classifier came back with: didntLike, the real answer is: didntLike\n",
      "the classifier came back with: smallDoses, the real answer is: smallDoses\n",
      "the classifier came back with: largeDoses, the real answer is: largeDoses\n",
      "the classifier came back with: largeDoses, the real answer is: largeDoses\n",
      "the classifier came back with: didntLike, the real answer is: didntLike\n",
      "the classifier came back with: smallDoses, the real answer is: smallDoses\n",
      "the classifier came back with: largeDoses, the real answer is: largeDoses\n",
      "the classifier came back with: largeDoses, the real answer is: largeDoses\n",
      "the classifier came back with: largeDoses, the real answer is: largeDoses\n",
      "the classifier came back with: didntLike, the real answer is: didntLike\n",
      "the classifier came back with: didntLike, the real answer is: didntLike\n",
      "the classifier came back with: didntLike, the real answer is: didntLike\n",
      "the classifier came back with: didntLike, the real answer is: didntLike\n",
      "the classifier came back with: smallDoses, the real answer is: smallDoses\n",
      "the classifier came back with: smallDoses, the real answer is: smallDoses\n",
      "the classifier came back with: didntLike, the real answer is: didntLike\n",
      "the classifier came back with: largeDoses, the real answer is: largeDoses\n",
      "the classifier came back with: smallDoses, the real answer is: smallDoses\n",
      "the classifier came back with: smallDoses, the real answer is: smallDoses\n",
      "the classifier came back with: smallDoses, the real answer is: smallDoses\n",
      "the classifier came back with: smallDoses, the real answer is: smallDoses\n",
      "the classifier came back with: largeDoses, the real answer is: largeDoses\n",
      "the classifier came back with: didntLike, the real answer is: didntLike\n",
      "the classifier came back with: smallDoses, the real answer is: smallDoses\n",
      "the classifier came back with: didntLike, the real answer is: didntLike\n",
      "the classifier came back with: smallDoses, the real answer is: smallDoses\n",
      "the classifier came back with: smallDoses, the real answer is: smallDoses\n",
      "the classifier came back with: smallDoses, the real answer is: smallDoses\n",
      "the classifier came back with: smallDoses, the real answer is: smallDoses\n",
      "the classifier came back with: smallDoses, the real answer is: smallDoses\n",
      "the classifier came back with: largeDoses, the real answer is: largeDoses\n",
      "the classifier came back with: smallDoses, the real answer is: smallDoses\n",
      "the classifier came back with: largeDoses, the real answer is: largeDoses\n",
      "the classifier came back with: didntLike, the real answer is: didntLike\n",
      "the classifier came back with: smallDoses, the real answer is: smallDoses\n",
      "the classifier came back with: largeDoses, the real answer is: largeDoses\n",
      "the classifier came back with: smallDoses, the real answer is: smallDoses\n",
      "the classifier came back with: smallDoses, the real answer is: smallDoses\n",
      "the classifier came back with: largeDoses, the real answer is: didntLike\n",
      "!!!NOT MATCHED!!!\n",
      "the classifier came back with: largeDoses, the real answer is: largeDoses\n",
      "the classifier came back with: didntLike, the real answer is: didntLike\n",
      "the classifier came back with: didntLike, the real answer is: didntLike\n",
      "the classifier came back with: largeDoses, the real answer is: largeDoses\n",
      "the classifier came back with: largeDoses, the real answer is: largeDoses\n",
      "the classifier came back with: didntLike, the real answer is: didntLike\n",
      "the classifier came back with: smallDoses, the real answer is: smallDoses\n",
      "the classifier came back with: largeDoses, the real answer is: largeDoses\n",
      "the classifier came back with: largeDoses, the real answer is: didntLike\n",
      "!!!NOT MATCHED!!!\n",
      "the classifier came back with: largeDoses, the real answer is: largeDoses\n",
      "the classifier came back with: didntLike, the real answer is: didntLike\n",
      "the classifier came back with: smallDoses, the real answer is: smallDoses\n",
      "the classifier came back with: smallDoses, the real answer is: smallDoses\n",
      "the classifier came back with: didntLike, the real answer is: didntLike\n",
      "the classifier came back with: didntLike, the real answer is: didntLike\n",
      "the classifier came back with: largeDoses, the real answer is: largeDoses\n",
      "the classifier came back with: smallDoses, the real answer is: largeDoses\n",
      "!!!NOT MATCHED!!!\n",
      "the classifier came back with: didntLike, the real answer is: didntLike\n",
      "the classifier came back with: smallDoses, the real answer is: smallDoses\n",
      "the classifier came back with: didntLike, the real answer is: didntLike\n",
      "the classifier came back with: largeDoses, the real answer is: largeDoses\n",
      "the classifier came back with: largeDoses, the real answer is: largeDoses\n",
      "the classifier came back with: smallDoses, the real answer is: smallDoses\n",
      "the classifier came back with: didntLike, the real answer is: didntLike\n",
      "the classifier came back with: largeDoses, the real answer is: didntLike\n",
      "!!!NOT MATCHED!!!\n",
      "the total error rate is: 0.050000\n"
     ]
    }
   ],
   "source": [
    "datingClassTest('datingTestSet.txt')"
   ]
  },
  {
   "cell_type": "code",
   "execution_count": 210,
   "metadata": {},
   "outputs": [
    {
     "name": "stdout",
     "output_type": "stream",
     "text": [
      "the classifier came back with: largeDoses, the real answer is: largeDoses\n",
      "the classifier came back with: smallDoses, the real answer is: smallDoses\n",
      "the classifier came back with: didntLike, the real answer is: didntLike\n",
      "the classifier came back with: didntLike, the real answer is: didntLike\n",
      "the classifier came back with: didntLike, the real answer is: didntLike\n",
      "the classifier came back with: didntLike, the real answer is: didntLike\n",
      "the classifier came back with: largeDoses, the real answer is: largeDoses\n",
      "the classifier came back with: largeDoses, the real answer is: largeDoses\n",
      "the classifier came back with: didntLike, the real answer is: didntLike\n",
      "the classifier came back with: largeDoses, the real answer is: largeDoses\n",
      "the classifier came back with: didntLike, the real answer is: didntLike\n",
      "the classifier came back with: didntLike, the real answer is: didntLike\n",
      "the classifier came back with: smallDoses, the real answer is: smallDoses\n",
      "the classifier came back with: didntLike, the real answer is: didntLike\n",
      "the classifier came back with: didntLike, the real answer is: didntLike\n",
      "the classifier came back with: didntLike, the real answer is: didntLike\n",
      "the classifier came back with: didntLike, the real answer is: didntLike\n",
      "the classifier came back with: didntLike, the real answer is: didntLike\n",
      "the classifier came back with: smallDoses, the real answer is: smallDoses\n",
      "the classifier came back with: largeDoses, the real answer is: largeDoses\n",
      "the classifier came back with: smallDoses, the real answer is: smallDoses\n",
      "the classifier came back with: didntLike, the real answer is: didntLike\n",
      "the classifier came back with: smallDoses, the real answer is: smallDoses\n",
      "the classifier came back with: largeDoses, the real answer is: largeDoses\n",
      "the classifier came back with: smallDoses, the real answer is: smallDoses\n",
      "the classifier came back with: largeDoses, the real answer is: largeDoses\n",
      "the classifier came back with: smallDoses, the real answer is: smallDoses\n",
      "the classifier came back with: largeDoses, the real answer is: largeDoses\n",
      "the classifier came back with: smallDoses, the real answer is: smallDoses\n",
      "the classifier came back with: didntLike, the real answer is: didntLike\n",
      "the classifier came back with: largeDoses, the real answer is: largeDoses\n",
      "the classifier came back with: didntLike, the real answer is: didntLike\n",
      "the classifier came back with: smallDoses, the real answer is: largeDoses\n",
      "!!!NOT MATCHED!!!\n",
      "the classifier came back with: didntLike, the real answer is: didntLike\n",
      "the classifier came back with: smallDoses, the real answer is: smallDoses\n",
      "the classifier came back with: didntLike, the real answer is: didntLike\n",
      "the classifier came back with: didntLike, the real answer is: didntLike\n",
      "the classifier came back with: smallDoses, the real answer is: smallDoses\n",
      "the classifier came back with: largeDoses, the real answer is: largeDoses\n",
      "the classifier came back with: largeDoses, the real answer is: largeDoses\n",
      "the classifier came back with: didntLike, the real answer is: didntLike\n",
      "the classifier came back with: smallDoses, the real answer is: smallDoses\n",
      "the classifier came back with: largeDoses, the real answer is: largeDoses\n",
      "the classifier came back with: largeDoses, the real answer is: largeDoses\n",
      "the classifier came back with: largeDoses, the real answer is: largeDoses\n",
      "the classifier came back with: didntLike, the real answer is: didntLike\n",
      "the classifier came back with: didntLike, the real answer is: didntLike\n",
      "the classifier came back with: didntLike, the real answer is: didntLike\n",
      "the classifier came back with: didntLike, the real answer is: didntLike\n",
      "the classifier came back with: smallDoses, the real answer is: smallDoses\n",
      "the classifier came back with: smallDoses, the real answer is: smallDoses\n",
      "the classifier came back with: didntLike, the real answer is: didntLike\n",
      "the classifier came back with: largeDoses, the real answer is: largeDoses\n",
      "the classifier came back with: smallDoses, the real answer is: smallDoses\n",
      "the classifier came back with: smallDoses, the real answer is: smallDoses\n",
      "the classifier came back with: smallDoses, the real answer is: smallDoses\n",
      "the classifier came back with: smallDoses, the real answer is: smallDoses\n",
      "the classifier came back with: largeDoses, the real answer is: largeDoses\n",
      "the classifier came back with: didntLike, the real answer is: didntLike\n",
      "the classifier came back with: smallDoses, the real answer is: smallDoses\n",
      "the classifier came back with: didntLike, the real answer is: didntLike\n",
      "the classifier came back with: smallDoses, the real answer is: smallDoses\n",
      "the classifier came back with: smallDoses, the real answer is: smallDoses\n",
      "the classifier came back with: smallDoses, the real answer is: smallDoses\n",
      "the classifier came back with: smallDoses, the real answer is: smallDoses\n",
      "the classifier came back with: smallDoses, the real answer is: smallDoses\n",
      "the classifier came back with: largeDoses, the real answer is: largeDoses\n",
      "the classifier came back with: smallDoses, the real answer is: smallDoses\n",
      "the classifier came back with: largeDoses, the real answer is: largeDoses\n",
      "the classifier came back with: didntLike, the real answer is: didntLike\n",
      "the classifier came back with: smallDoses, the real answer is: smallDoses\n",
      "the classifier came back with: largeDoses, the real answer is: largeDoses\n",
      "the classifier came back with: smallDoses, the real answer is: smallDoses\n",
      "the classifier came back with: smallDoses, the real answer is: smallDoses\n",
      "the classifier came back with: largeDoses, the real answer is: didntLike\n",
      "!!!NOT MATCHED!!!\n",
      "the classifier came back with: largeDoses, the real answer is: largeDoses\n",
      "the classifier came back with: didntLike, the real answer is: didntLike\n",
      "the classifier came back with: didntLike, the real answer is: didntLike\n",
      "the classifier came back with: largeDoses, the real answer is: largeDoses\n",
      "the classifier came back with: largeDoses, the real answer is: largeDoses\n",
      "the classifier came back with: didntLike, the real answer is: didntLike\n",
      "the classifier came back with: smallDoses, the real answer is: smallDoses\n",
      "the classifier came back with: largeDoses, the real answer is: largeDoses\n",
      "the classifier came back with: didntLike, the real answer is: didntLike\n",
      "the classifier came back with: largeDoses, the real answer is: largeDoses\n",
      "the classifier came back with: didntLike, the real answer is: didntLike\n",
      "the classifier came back with: smallDoses, the real answer is: smallDoses\n",
      "the classifier came back with: smallDoses, the real answer is: smallDoses\n",
      "the classifier came back with: didntLike, the real answer is: didntLike\n",
      "the classifier came back with: didntLike, the real answer is: didntLike\n",
      "the classifier came back with: largeDoses, the real answer is: largeDoses\n",
      "the classifier came back with: smallDoses, the real answer is: largeDoses\n",
      "!!!NOT MATCHED!!!\n",
      "the classifier came back with: didntLike, the real answer is: didntLike\n",
      "the classifier came back with: smallDoses, the real answer is: smallDoses\n",
      "the classifier came back with: didntLike, the real answer is: didntLike\n",
      "the classifier came back with: largeDoses, the real answer is: largeDoses\n",
      "the classifier came back with: largeDoses, the real answer is: largeDoses\n",
      "the classifier came back with: smallDoses, the real answer is: smallDoses\n",
      "the classifier came back with: smallDoses, the real answer is: didntLike\n",
      "!!!NOT MATCHED!!!\n",
      "the classifier came back with: didntLike, the real answer is: didntLike\n",
      "the total error rate is: 0.040000\n"
     ]
    }
   ],
   "source": [
    "datingClassTest('datingTestSet.txt', k = 7)"
   ]
  },
  {
   "cell_type": "code",
   "execution_count": 211,
   "metadata": {},
   "outputs": [
    {
     "name": "stdout",
     "output_type": "stream",
     "text": [
      "the classifier came back with: largeDoses, the real answer is: largeDoses\n",
      "the classifier came back with: smallDoses, the real answer is: smallDoses\n",
      "the classifier came back with: didntLike, the real answer is: didntLike\n",
      "the classifier came back with: didntLike, the real answer is: didntLike\n",
      "the classifier came back with: didntLike, the real answer is: didntLike\n",
      "the classifier came back with: didntLike, the real answer is: didntLike\n",
      "the classifier came back with: largeDoses, the real answer is: largeDoses\n",
      "the classifier came back with: largeDoses, the real answer is: largeDoses\n",
      "the classifier came back with: didntLike, the real answer is: didntLike\n",
      "the classifier came back with: largeDoses, the real answer is: largeDoses\n",
      "the classifier came back with: didntLike, the real answer is: didntLike\n",
      "the classifier came back with: didntLike, the real answer is: didntLike\n",
      "the classifier came back with: smallDoses, the real answer is: smallDoses\n",
      "the classifier came back with: didntLike, the real answer is: didntLike\n",
      "the classifier came back with: didntLike, the real answer is: didntLike\n",
      "the classifier came back with: didntLike, the real answer is: didntLike\n",
      "the classifier came back with: didntLike, the real answer is: didntLike\n",
      "the classifier came back with: didntLike, the real answer is: didntLike\n",
      "the classifier came back with: smallDoses, the real answer is: smallDoses\n",
      "the classifier came back with: largeDoses, the real answer is: largeDoses\n",
      "the classifier came back with: smallDoses, the real answer is: smallDoses\n",
      "the classifier came back with: didntLike, the real answer is: didntLike\n",
      "the classifier came back with: smallDoses, the real answer is: smallDoses\n",
      "the classifier came back with: largeDoses, the real answer is: largeDoses\n",
      "the classifier came back with: smallDoses, the real answer is: smallDoses\n",
      "the classifier came back with: largeDoses, the real answer is: largeDoses\n",
      "the classifier came back with: smallDoses, the real answer is: smallDoses\n",
      "the classifier came back with: largeDoses, the real answer is: largeDoses\n",
      "the classifier came back with: smallDoses, the real answer is: smallDoses\n",
      "the classifier came back with: didntLike, the real answer is: didntLike\n",
      "the classifier came back with: largeDoses, the real answer is: largeDoses\n",
      "the classifier came back with: didntLike, the real answer is: didntLike\n",
      "the classifier came back with: smallDoses, the real answer is: largeDoses\n",
      "!!!NOT MATCHED!!!\n",
      "the classifier came back with: didntLike, the real answer is: didntLike\n",
      "the classifier came back with: smallDoses, the real answer is: smallDoses\n",
      "the classifier came back with: didntLike, the real answer is: didntLike\n",
      "the classifier came back with: didntLike, the real answer is: didntLike\n",
      "the classifier came back with: smallDoses, the real answer is: smallDoses\n",
      "the classifier came back with: largeDoses, the real answer is: largeDoses\n",
      "the classifier came back with: largeDoses, the real answer is: largeDoses\n",
      "the classifier came back with: didntLike, the real answer is: didntLike\n",
      "the classifier came back with: smallDoses, the real answer is: smallDoses\n",
      "the classifier came back with: largeDoses, the real answer is: largeDoses\n",
      "the classifier came back with: largeDoses, the real answer is: largeDoses\n",
      "the classifier came back with: largeDoses, the real answer is: largeDoses\n",
      "the classifier came back with: didntLike, the real answer is: didntLike\n",
      "the classifier came back with: didntLike, the real answer is: didntLike\n",
      "the classifier came back with: didntLike, the real answer is: didntLike\n",
      "the classifier came back with: didntLike, the real answer is: didntLike\n",
      "the classifier came back with: smallDoses, the real answer is: smallDoses\n",
      "the classifier came back with: smallDoses, the real answer is: smallDoses\n",
      "the classifier came back with: didntLike, the real answer is: didntLike\n",
      "the classifier came back with: largeDoses, the real answer is: largeDoses\n",
      "the classifier came back with: smallDoses, the real answer is: smallDoses\n",
      "the classifier came back with: smallDoses, the real answer is: smallDoses\n",
      "the classifier came back with: smallDoses, the real answer is: smallDoses\n",
      "the classifier came back with: smallDoses, the real answer is: smallDoses\n",
      "the classifier came back with: largeDoses, the real answer is: largeDoses\n",
      "the classifier came back with: didntLike, the real answer is: didntLike\n",
      "the classifier came back with: smallDoses, the real answer is: smallDoses\n",
      "the classifier came back with: didntLike, the real answer is: didntLike\n",
      "the classifier came back with: smallDoses, the real answer is: smallDoses\n",
      "the classifier came back with: smallDoses, the real answer is: smallDoses\n",
      "the classifier came back with: smallDoses, the real answer is: smallDoses\n",
      "the classifier came back with: smallDoses, the real answer is: smallDoses\n",
      "the classifier came back with: smallDoses, the real answer is: smallDoses\n",
      "the classifier came back with: largeDoses, the real answer is: largeDoses\n",
      "the classifier came back with: smallDoses, the real answer is: smallDoses\n",
      "the classifier came back with: largeDoses, the real answer is: largeDoses\n",
      "the classifier came back with: didntLike, the real answer is: didntLike\n",
      "the classifier came back with: smallDoses, the real answer is: smallDoses\n",
      "the classifier came back with: largeDoses, the real answer is: largeDoses\n",
      "the classifier came back with: smallDoses, the real answer is: smallDoses\n",
      "the classifier came back with: smallDoses, the real answer is: smallDoses\n",
      "the classifier came back with: largeDoses, the real answer is: didntLike\n",
      "!!!NOT MATCHED!!!\n",
      "the classifier came back with: largeDoses, the real answer is: largeDoses\n",
      "the classifier came back with: didntLike, the real answer is: didntLike\n",
      "the classifier came back with: didntLike, the real answer is: didntLike\n",
      "the classifier came back with: largeDoses, the real answer is: largeDoses\n",
      "the classifier came back with: largeDoses, the real answer is: largeDoses\n",
      "the classifier came back with: didntLike, the real answer is: didntLike\n",
      "the classifier came back with: smallDoses, the real answer is: smallDoses\n",
      "the classifier came back with: largeDoses, the real answer is: largeDoses\n",
      "the classifier came back with: didntLike, the real answer is: didntLike\n",
      "the classifier came back with: largeDoses, the real answer is: largeDoses\n",
      "the classifier came back with: didntLike, the real answer is: didntLike\n",
      "the classifier came back with: smallDoses, the real answer is: smallDoses\n",
      "the classifier came back with: smallDoses, the real answer is: smallDoses\n",
      "the classifier came back with: didntLike, the real answer is: didntLike\n",
      "the classifier came back with: didntLike, the real answer is: didntLike\n",
      "the classifier came back with: largeDoses, the real answer is: largeDoses\n",
      "the classifier came back with: smallDoses, the real answer is: largeDoses\n",
      "!!!NOT MATCHED!!!\n",
      "the classifier came back with: didntLike, the real answer is: didntLike\n",
      "the classifier came back with: smallDoses, the real answer is: smallDoses\n",
      "the classifier came back with: didntLike, the real answer is: didntLike\n",
      "the classifier came back with: largeDoses, the real answer is: largeDoses\n",
      "the classifier came back with: largeDoses, the real answer is: largeDoses\n",
      "the classifier came back with: smallDoses, the real answer is: smallDoses\n",
      "the classifier came back with: smallDoses, the real answer is: didntLike\n",
      "!!!NOT MATCHED!!!\n",
      "the classifier came back with: largeDoses, the real answer is: didntLike\n",
      "!!!NOT MATCHED!!!\n",
      "the total error rate is: 0.050000\n"
     ]
    }
   ],
   "source": [
    "datingClassTest('datingTestSet.txt', k = 9)"
   ]
  },
  {
   "cell_type": "code",
   "execution_count": 212,
   "metadata": {},
   "outputs": [
    {
     "name": "stdout",
     "output_type": "stream",
     "text": [
      "the classifier came back with: largeDoses, the real answer is: largeDoses\n",
      "the classifier came back with: smallDoses, the real answer is: smallDoses\n",
      "the classifier came back with: didntLike, the real answer is: didntLike\n",
      "the classifier came back with: didntLike, the real answer is: didntLike\n",
      "the classifier came back with: didntLike, the real answer is: didntLike\n",
      "the classifier came back with: didntLike, the real answer is: didntLike\n",
      "the classifier came back with: largeDoses, the real answer is: largeDoses\n",
      "the classifier came back with: largeDoses, the real answer is: largeDoses\n",
      "the classifier came back with: didntLike, the real answer is: didntLike\n",
      "the classifier came back with: largeDoses, the real answer is: largeDoses\n",
      "the classifier came back with: didntLike, the real answer is: didntLike\n",
      "the classifier came back with: didntLike, the real answer is: didntLike\n",
      "the classifier came back with: smallDoses, the real answer is: smallDoses\n",
      "the classifier came back with: didntLike, the real answer is: didntLike\n",
      "the classifier came back with: didntLike, the real answer is: didntLike\n",
      "the classifier came back with: didntLike, the real answer is: didntLike\n",
      "the classifier came back with: didntLike, the real answer is: didntLike\n",
      "the classifier came back with: didntLike, the real answer is: didntLike\n",
      "the classifier came back with: smallDoses, the real answer is: smallDoses\n",
      "the classifier came back with: largeDoses, the real answer is: largeDoses\n",
      "the classifier came back with: smallDoses, the real answer is: smallDoses\n",
      "the classifier came back with: didntLike, the real answer is: didntLike\n",
      "the classifier came back with: smallDoses, the real answer is: smallDoses\n",
      "the classifier came back with: largeDoses, the real answer is: largeDoses\n",
      "the classifier came back with: smallDoses, the real answer is: smallDoses\n",
      "the classifier came back with: largeDoses, the real answer is: largeDoses\n",
      "the classifier came back with: smallDoses, the real answer is: smallDoses\n",
      "the classifier came back with: largeDoses, the real answer is: largeDoses\n",
      "the classifier came back with: smallDoses, the real answer is: smallDoses\n",
      "the classifier came back with: didntLike, the real answer is: didntLike\n",
      "the classifier came back with: largeDoses, the real answer is: largeDoses\n",
      "the classifier came back with: didntLike, the real answer is: didntLike\n",
      "the classifier came back with: smallDoses, the real answer is: largeDoses\n",
      "!!!NOT MATCHED!!!\n",
      "the classifier came back with: didntLike, the real answer is: didntLike\n",
      "the classifier came back with: largeDoses, the real answer is: smallDoses\n",
      "!!!NOT MATCHED!!!\n",
      "the classifier came back with: didntLike, the real answer is: didntLike\n",
      "the classifier came back with: didntLike, the real answer is: didntLike\n",
      "the classifier came back with: smallDoses, the real answer is: smallDoses\n",
      "the classifier came back with: largeDoses, the real answer is: largeDoses\n",
      "the classifier came back with: largeDoses, the real answer is: largeDoses\n",
      "the classifier came back with: didntLike, the real answer is: didntLike\n",
      "the classifier came back with: smallDoses, the real answer is: smallDoses\n",
      "the classifier came back with: largeDoses, the real answer is: largeDoses\n",
      "the classifier came back with: largeDoses, the real answer is: largeDoses\n",
      "the classifier came back with: largeDoses, the real answer is: largeDoses\n",
      "the classifier came back with: didntLike, the real answer is: didntLike\n",
      "the classifier came back with: didntLike, the real answer is: didntLike\n",
      "the classifier came back with: didntLike, the real answer is: didntLike\n",
      "the classifier came back with: didntLike, the real answer is: didntLike\n",
      "the classifier came back with: smallDoses, the real answer is: smallDoses\n",
      "the classifier came back with: smallDoses, the real answer is: smallDoses\n",
      "the classifier came back with: didntLike, the real answer is: didntLike\n",
      "the classifier came back with: largeDoses, the real answer is: largeDoses\n",
      "the classifier came back with: smallDoses, the real answer is: smallDoses\n",
      "the classifier came back with: smallDoses, the real answer is: smallDoses\n",
      "the classifier came back with: smallDoses, the real answer is: smallDoses\n",
      "the classifier came back with: smallDoses, the real answer is: smallDoses\n",
      "the classifier came back with: largeDoses, the real answer is: largeDoses\n",
      "the classifier came back with: didntLike, the real answer is: didntLike\n",
      "the classifier came back with: smallDoses, the real answer is: smallDoses\n",
      "the classifier came back with: didntLike, the real answer is: didntLike\n",
      "the classifier came back with: smallDoses, the real answer is: smallDoses\n",
      "the classifier came back with: smallDoses, the real answer is: smallDoses\n",
      "the classifier came back with: largeDoses, the real answer is: smallDoses\n",
      "!!!NOT MATCHED!!!\n",
      "the classifier came back with: smallDoses, the real answer is: smallDoses\n",
      "the classifier came back with: smallDoses, the real answer is: smallDoses\n",
      "the classifier came back with: largeDoses, the real answer is: largeDoses\n",
      "the classifier came back with: smallDoses, the real answer is: smallDoses\n",
      "the classifier came back with: largeDoses, the real answer is: largeDoses\n",
      "the classifier came back with: didntLike, the real answer is: didntLike\n",
      "the classifier came back with: smallDoses, the real answer is: smallDoses\n",
      "the classifier came back with: largeDoses, the real answer is: largeDoses\n",
      "the classifier came back with: smallDoses, the real answer is: smallDoses\n",
      "the classifier came back with: smallDoses, the real answer is: smallDoses\n",
      "the classifier came back with: largeDoses, the real answer is: didntLike\n",
      "!!!NOT MATCHED!!!\n",
      "the classifier came back with: largeDoses, the real answer is: largeDoses\n",
      "the classifier came back with: didntLike, the real answer is: didntLike\n",
      "the classifier came back with: didntLike, the real answer is: didntLike\n",
      "the classifier came back with: largeDoses, the real answer is: largeDoses\n",
      "the classifier came back with: largeDoses, the real answer is: largeDoses\n",
      "the classifier came back with: didntLike, the real answer is: didntLike\n",
      "the classifier came back with: smallDoses, the real answer is: smallDoses\n",
      "the classifier came back with: largeDoses, the real answer is: largeDoses\n",
      "the classifier came back with: didntLike, the real answer is: didntLike\n",
      "the classifier came back with: largeDoses, the real answer is: largeDoses\n",
      "the classifier came back with: didntLike, the real answer is: didntLike\n",
      "the classifier came back with: smallDoses, the real answer is: smallDoses\n",
      "the classifier came back with: smallDoses, the real answer is: smallDoses\n",
      "the classifier came back with: didntLike, the real answer is: didntLike\n",
      "the classifier came back with: didntLike, the real answer is: didntLike\n",
      "the classifier came back with: largeDoses, the real answer is: largeDoses\n",
      "the classifier came back with: smallDoses, the real answer is: largeDoses\n",
      "!!!NOT MATCHED!!!\n",
      "the classifier came back with: didntLike, the real answer is: didntLike\n",
      "the classifier came back with: smallDoses, the real answer is: smallDoses\n",
      "the classifier came back with: didntLike, the real answer is: didntLike\n",
      "the classifier came back with: largeDoses, the real answer is: largeDoses\n",
      "the classifier came back with: largeDoses, the real answer is: largeDoses\n",
      "the classifier came back with: smallDoses, the real answer is: smallDoses\n",
      "the classifier came back with: smallDoses, the real answer is: didntLike\n",
      "!!!NOT MATCHED!!!\n",
      "the classifier came back with: didntLike, the real answer is: didntLike\n",
      "the total error rate is: 0.060000\n"
     ]
    }
   ],
   "source": [
    "datingClassTest('datingTestSet.txt', k = 11)"
   ]
  },
  {
   "cell_type": "markdown",
   "metadata": {},
   "source": [
    "## 2.2.5 Use: putting together a useful system"
   ]
  },
  {
   "cell_type": "code",
   "execution_count": 9,
   "metadata": {},
   "outputs": [],
   "source": [
    "import kNN\n",
    "import importlib\n",
    "importlib.reload(kNN)\n",
    "\n",
    "import numpy as np"
   ]
  },
  {
   "cell_type": "markdown",
   "metadata": {},
   "source": [
    "##### Listing 2.5 Dating site predictor function Python 2"
   ]
  },
  {
   "cell_type": "code",
   "execution_count": 214,
   "metadata": {},
   "outputs": [
    {
     "ename": "SyntaxError",
     "evalue": "Missing parentheses in call to 'print'. Did you mean print(\"You will probably like this person: \",                   resultList[classifierResult - 1])? (<ipython-input-214-4f4954ff69a2>, line 11)",
     "output_type": "error",
     "traceback": [
      "\u001b[1;36m  File \u001b[1;32m\"<ipython-input-214-4f4954ff69a2>\"\u001b[1;36m, line \u001b[1;32m11\u001b[0m\n\u001b[1;33m    print \"You will probably like this person: \",                   resultList[classifierResult - 1]\u001b[0m\n\u001b[1;37m                                               ^\u001b[0m\n\u001b[1;31mSyntaxError\u001b[0m\u001b[1;31m:\u001b[0m Missing parentheses in call to 'print'. Did you mean print(\"You will probably like this person: \",                   resultList[classifierResult - 1])?\n"
     ]
    }
   ],
   "source": [
    "def classifyPerson():\n",
    "    resultList = ['not at all','in small doses', 'in large doses']\n",
    "    percentTats = float(raw_input(\\\n",
    "                 \"percentage of time spent playing video games?\"))\n",
    "    ffMiles = float(raw_input(\"frequent flier miles earned per year?\"))\n",
    "    iceCream = float(raw_input(\"liters of ice cream consumed per year?\"))\n",
    "    datingDataMat,datingLabels = file2matrix('datingTestSet.txt')\n",
    "    normMat, ranges, minVals = autoNorm(datingDataMat)\n",
    "    inArr = array([ffMiles, percentTats, iceCream])\n",
    "    classifierResult = classify0((inArr-minVals)/ranges,\n",
    "                                 normMat, datingLabels, 3)\n",
    "    print \"You will probably like this person: \",\\\n",
    "                   resultList[classifierResult - 1]"
   ]
  },
  {
   "cell_type": "markdown",
   "metadata": {},
   "source": [
    "##### Listing 2.5 Dating site predictor function Python 3"
   ]
  },
  {
   "cell_type": "code",
   "execution_count": 221,
   "metadata": {},
   "outputs": [],
   "source": [
    "def classifyPerson():\n",
    "    resultList = ['not at all','in small doses', 'in large doses']\n",
    "    percentTats = float(input(\\\n",
    "                 \"percentage of time spent playing video games?\"))\n",
    "    ffMiles = float(input(\"frequent flier miles earned per year?\"))\n",
    "    iceCream = float(input(\"liters of ice cream consumed per year?\"))\n",
    "    datingDataMat,datingLabels = kNN.file2matrix('datingTestSet.txt')\n",
    "    normMat, ranges, minVals = kNN.autoNorm(datingDataMat)\n",
    "    inArr = np.array([ffMiles, percentTats, iceCream])\n",
    "    classifierResult = kNN.classify0((inArr-\\\n",
    "                   minVals)/ranges,normMat,datingLabels,3)\n",
    "    print(\"You will probably like this person:\",\n",
    "              classifierResult)    # for datingTestSet.txt\n",
    "              #     resultList[(classifierResult) - 1])"
   ]
  },
  {
   "cell_type": "code",
   "execution_count": 222,
   "metadata": {},
   "outputs": [
    {
     "name": "stdout",
     "output_type": "stream",
     "text": [
      "percentage of time spent playing video games?3.22\n",
      "frequent flier miles earned per year?123415\n",
      "liters of ice cream consumed per year?2.34\n",
      "You will probably like this person: didntLike\n"
     ]
    }
   ],
   "source": [
    "classifyPerson()"
   ]
  },
  {
   "cell_type": "markdown",
   "metadata": {},
   "source": [
    "## 2.3 Example: a handwriting recognition system"
   ]
  },
  {
   "cell_type": "markdown",
   "metadata": {},
   "source": [
    "1. Collect:\n",
    "  - 텍스트 파일로 제공됨, 2000여개의 샘플\n",
    "2. Prepare:\n",
    "  - 이미지 포맷을 리스트 포맷으로 변환하는 함수 작성\n",
    "  - 이렇게 변환된 리스트는 앞서 작성한 kNN 분류 함수 classify0()에 사용됨\n",
    "3. Analyze:\n",
    "  - 리스트 포맷으로 잘 변환되었는지 파이썬 셀에서 확인\n",
    "4. Train:\n",
    "  - kNN은 훈련 과정이 없음\n",
    "5. Test:\n",
    "  - 데이터 일부를 테스트 예제(샘플)로 사용하는 함수 작성\n",
    "  - 이 함수를 통해 테스트 데이터와 kNN 데이터로 구분\n",
    "  - 테스트 데이터의 분류 예측 결과와 실제 클래스가 일치하지 않으면 에러로 처리\n",
    "6. Use:\n",
    "  - 여기서는 수행하지 않음\n",
    "  - 필요하다면 이를 응용한 애플리케이션 작성 가능\n",
    "    - 우편 봉투 이미지에서 우편 번호를 추출하여 우편물 정리하는데 이용 등\n",
    "    - 다른 활용예도 생각해 봅시다"
   ]
  },
  {
   "cell_type": "markdown",
   "metadata": {},
   "source": [
    "### 2.3.1 Prepare: converting images into test vectors\n",
    "\n",
    "  * 숫자 이미지 크기: 32x32\n",
    "  * 훈련용 데이터: 2,000 개\n",
    "    - 번호별 약 200개 표본\n",
    "    - 번호별 디렉터리에 존재\n",
    "  * 테스트용 데이터: 약 900 개\n",
    "  \n",
    "  \n",
    "  * 2차원 이미지 데이터를 1차원 벡터로 변환\n",
    "    - 32x32 ==> 1x1024\n",
    "    - 이전에 개발한 classify0() 분류기 함수를 사용하기 위해\n",
    "    - img2vector()"
   ]
  },
  {
   "cell_type": "markdown",
   "metadata": {},
   "source": [
    "##### Listing Converting number image to vector Python 3"
   ]
  },
  {
   "cell_type": "code",
   "execution_count": 2,
   "metadata": {},
   "outputs": [],
   "source": [
    "def img2vector(filename):\n",
    "    returnVect = pd.zeros((1,1024))\n",
    "    fr = open(filename)\n",
    "    for i in range(32):\n",
    "        lineStr = fr.readline()\n",
    "        for j in range(32):\n",
    "            returnVect[0,32*i+j] = int(lineStr[j])\n",
    "    return returnVect"
   ]
  },
  {
   "cell_type": "markdown",
   "metadata": {},
   "source": [
    "### 2.3.2 Analyze: looking at the prepared data in the Python shell to make sure it’s correct\n",
    "  - testDigits/0_13.txt를 편집기로 열어서 아래 testVector의 내용과 일치하는지 확인"
   ]
  },
  {
   "cell_type": "code",
   "execution_count": 10,
   "metadata": {},
   "outputs": [
    {
     "ename": "FileNotFoundError",
     "evalue": "[Errno 2] No such file or directory: 'testDigits/0_13.txt'",
     "output_type": "error",
     "traceback": [
      "\u001b[1;31m---------------------------------------------------------------------------\u001b[0m",
      "\u001b[1;31mFileNotFoundError\u001b[0m                         Traceback (most recent call last)",
      "\u001b[1;32m<ipython-input-10-37bcb0b4c49e>\u001b[0m in \u001b[0;36m<module>\u001b[1;34m()\u001b[0m\n\u001b[1;32m----> 1\u001b[1;33m \u001b[0mtestVector\u001b[0m \u001b[1;33m=\u001b[0m \u001b[0mkNN\u001b[0m\u001b[1;33m.\u001b[0m\u001b[0mimg2vector\u001b[0m\u001b[1;33m(\u001b[0m\u001b[1;34m'testDigits/0_13.txt'\u001b[0m\u001b[1;33m)\u001b[0m\u001b[1;33m\u001b[0m\u001b[0m\n\u001b[0m\u001b[0;32m      2\u001b[0m \u001b[0mtestVector\u001b[0m\u001b[1;33m[\u001b[0m\u001b[1;36m0\u001b[0m\u001b[1;33m,\u001b[0m \u001b[1;36m0\u001b[0m\u001b[1;33m:\u001b[0m\u001b[1;36m31\u001b[0m\u001b[1;33m]\u001b[0m\u001b[1;33m\u001b[0m\u001b[0m\n\u001b[0;32m      3\u001b[0m \u001b[0mtestVector\u001b[0m\u001b[1;33m[\u001b[0m\u001b[1;36m0\u001b[0m\u001b[1;33m,\u001b[0m \u001b[1;36m32\u001b[0m\u001b[1;33m:\u001b[0m\u001b[1;36m63\u001b[0m\u001b[1;33m]\u001b[0m\u001b[1;33m\u001b[0m\u001b[0m\n",
      "\u001b[1;32mD:\\DEV64\\dev_python\\machinelearninginaction\\Ch02\\kNN.py\u001b[0m in \u001b[0;36mimg2vector\u001b[1;34m(filename)\u001b[0m\n\u001b[0;32m    104\u001b[0m \u001b[1;32mdef\u001b[0m \u001b[0mimg2vector\u001b[0m\u001b[1;33m(\u001b[0m\u001b[0mfilename\u001b[0m\u001b[1;33m)\u001b[0m\u001b[1;33m:\u001b[0m\u001b[1;33m\u001b[0m\u001b[0m\n\u001b[0;32m    105\u001b[0m     \u001b[0mreturnVect\u001b[0m \u001b[1;33m=\u001b[0m \u001b[0mzeros\u001b[0m\u001b[1;33m(\u001b[0m\u001b[1;33m(\u001b[0m\u001b[1;36m1\u001b[0m\u001b[1;33m,\u001b[0m\u001b[1;36m1024\u001b[0m\u001b[1;33m)\u001b[0m\u001b[1;33m)\u001b[0m\u001b[1;33m\u001b[0m\u001b[0m\n\u001b[1;32m--> 106\u001b[1;33m     \u001b[0mfr\u001b[0m \u001b[1;33m=\u001b[0m \u001b[0mopen\u001b[0m\u001b[1;33m(\u001b[0m\u001b[0mfilename\u001b[0m\u001b[1;33m)\u001b[0m\u001b[1;33m\u001b[0m\u001b[0m\n\u001b[0m\u001b[0;32m    107\u001b[0m     \u001b[1;32mfor\u001b[0m \u001b[0mi\u001b[0m \u001b[1;32min\u001b[0m \u001b[0mrange\u001b[0m\u001b[1;33m(\u001b[0m\u001b[1;36m32\u001b[0m\u001b[1;33m)\u001b[0m\u001b[1;33m:\u001b[0m\u001b[1;33m\u001b[0m\u001b[0m\n\u001b[0;32m    108\u001b[0m         \u001b[0mlineStr\u001b[0m \u001b[1;33m=\u001b[0m \u001b[0mfr\u001b[0m\u001b[1;33m.\u001b[0m\u001b[0mreadline\u001b[0m\u001b[1;33m(\u001b[0m\u001b[1;33m)\u001b[0m\u001b[1;33m\u001b[0m\u001b[0m\n",
      "\u001b[1;31mFileNotFoundError\u001b[0m: [Errno 2] No such file or directory: 'testDigits/0_13.txt'"
     ]
    }
   ],
   "source": [
    "testVector = kNN.img2vector('testDigits/0_13.txt')\n",
    "testVector[0, 0:31]\n",
    "testVector[0, 32:63]"
   ]
  },
  {
   "cell_type": "markdown",
   "metadata": {},
   "source": [
    "### 2.3.3 Test: kNN on handwritten digits"
   ]
  },
  {
   "cell_type": "markdown",
   "metadata": {},
   "source": [
    "##### Listing 2.6 Handwritten digits testing code"
   ]
  },
  {
   "cell_type": "code",
   "execution_count": 7,
   "metadata": {},
   "outputs": [],
   "source": [
    "def handwritingClassTest(): #새로 테스트한 데이터가 0, 1, 2번인지 판별\n",
    "    hwLabels = []\n",
    "    trainingFileList = os.listdir('trainingDigits')   \n",
    "    m = len(trainingFileList)\n",
    "    trainingMat = np.zeros((m,1024))\n",
    "    for i in range(m):\n",
    "        fileNameStr = trainingFileList[i]        \n",
    "        fileStr = fileNameStr.split('.')[0]             \n",
    "        classNumStr = int(fileStr.split('_')[0]) \n",
    "        hwLabels.append(classNumStr)\n",
    "        trainingMat[i,:] = kNN.img2vector('trainingDigits/%s' % fileNameStr)\n",
    "    testFileList = os.listdir('testDigits')\n",
    "    errorCount = 0.0\n",
    "    mTest = len(testFileList)\n",
    "    for i in range(mTest):\n",
    "        fileNameStr = testFileList[i]\n",
    "        fileStr = fileNameStr.split('.')[0]\n",
    "        classNumStr = int(fileStr.split('_')[0])\n",
    "        vectorUnderTest = kNN.img2vector('testDigits/%s' % fileNameStr)\n",
    "        classifierResult = kNN.classify0(vectorUnderTest, \n",
    "                                trainingMat, hwLabels, 3)\n",
    "        print (\"the classifier came back with: %d, the real answer is: %d\"\n",
    "                                % (classifierResult, classNumStr))\n",
    "        if (classifierResult != classNumStr): errorCount += 1.0\n",
    "    print(\"\\nthe total number of errors is: %d\" % errorCount)\n",
    "    print(\"\\nthe total error rate is: %f\" % (errorCount/float(mTest)))"
   ]
  },
  {
   "cell_type": "code",
   "execution_count": 8,
   "metadata": {},
   "outputs": [
    {
     "ename": "NameError",
     "evalue": "name 'kNN' is not defined",
     "output_type": "error",
     "traceback": [
      "\u001b[1;31m---------------------------------------------------------------------------\u001b[0m",
      "\u001b[1;31mNameError\u001b[0m                                 Traceback (most recent call last)",
      "\u001b[1;32m<ipython-input-8-4f053b89e3a9>\u001b[0m in \u001b[0;36m<module>\u001b[1;34m()\u001b[0m\n\u001b[1;32m----> 1\u001b[1;33m \u001b[0mkNN\u001b[0m\u001b[1;33m.\u001b[0m\u001b[0mhandwritingClassTest\u001b[0m\u001b[1;33m(\u001b[0m\u001b[1;33m)\u001b[0m\u001b[1;33m\u001b[0m\u001b[0m\n\u001b[0m",
      "\u001b[1;31mNameError\u001b[0m: name 'kNN' is not defined"
     ]
    }
   ],
   "source": [
    "kNN.handwritingClassTest()"
   ]
  },
  {
   "cell_type": "markdown",
   "metadata": {},
   "source": [
    "## 2.4 Summary\n",
    "  * 특징\n",
    "    - instance-based learning의 한 예\n",
    "  * 장점\n",
    "    - 간단\n",
    "    - 분류에 효과적\n",
    "  * 단점\n",
    "    - 전체 데이터를 다루어야 하므로 큰 데이터 집합을 처리하려면 큰 저장소 필요\n",
    "    - 모든 데이터에 대해 거리 계산 --> 연산 부담\n",
    "    - 데이터 구조에 대한 어떠한 정보도 얻을 수 없음\n",
    "      - 같은 부류의 데이터에 대한 평균, 모범예 등을 알 수 없음    "
   ]
  },
  {
   "cell_type": "code",
   "execution_count": null,
   "metadata": {
    "collapsed": true
   },
   "outputs": [],
   "source": []
  }
 ],
 "metadata": {
  "kernelspec": {
   "display_name": "Python 3",
   "language": "python",
   "name": "python3"
  },
  "language_info": {
   "codemirror_mode": {
    "name": "ipython",
    "version": 3
   },
   "file_extension": ".py",
   "mimetype": "text/x-python",
   "name": "python",
   "nbconvert_exporter": "python",
   "pygments_lexer": "ipython3",
   "version": "3.6.5"
  }
 },
 "nbformat": 4,
 "nbformat_minor": 2
}
